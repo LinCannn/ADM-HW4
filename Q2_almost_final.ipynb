{
 "cells": [
  {
   "cell_type": "markdown",
   "metadata": {},
   "source": [
    "### Loading the data"
   ]
  },
  {
   "cell_type": "code",
   "execution_count": 1,
   "metadata": {
    "colab": {
     "base_uri": "https://localhost:8080/"
    },
    "id": "8ag6hNfxItPU",
    "outputId": "4556e86d-17ff-4b7b-9b17-6d74c5889b87"
   },
   "outputs": [],
   "source": [
    "import kagglehub\n",
    "\n",
    "path = kagglehub.dataset_download(\"grouplens/movielens-20m-dataset\")"
   ]
  },
  {
   "cell_type": "code",
   "execution_count": 2,
   "metadata": {
    "colab": {
     "base_uri": "https://localhost:8080/"
    },
    "id": "RyrAlqqBItPV",
    "outputId": "2c9e280f-2eaf-4dfb-ce41-b462286d11fc"
   },
   "outputs": [
    {
     "name": "stdout",
     "output_type": "stream",
     "text": [
      "rating.csv\n",
      "tag.csv\n",
      "genome_scores.csv\n",
      "genome_tags.csv\n",
      "link.csv\n",
      "movie.csv\n"
     ]
    }
   ],
   "source": [
    "import os\n",
    "import pandas as pd\n",
    "import numpy as np\n",
    "import matplotlib.pyplot as plt\n",
    "from collections import Counter\n",
    "from kmeans import *\n",
    "dataframes = {}\n",
    "for dataset in os.listdir(path): # list all files in the directory\n",
    "    print(dataset)\n",
    "    dataframes[dataset] = pd.read_csv(os.path.join(path, dataset)) # load the dataset into a pandas dataframe"
   ]
  },
  {
   "cell_type": "code",
   "execution_count": 3,
   "metadata": {
    "colab": {
     "base_uri": "https://localhost:8080/"
    },
    "id": "7oBdNUFDItPV",
    "outputId": "6d662fde-c017-4785-cbdd-d57530ea2688"
   },
   "outputs": [
    {
     "name": "stdout",
     "output_type": "stream",
     "text": [
      "rating.csv\n",
      "Shape: (20000263, 4)\n",
      "   userId  movieId  rating            timestamp\n",
      "0       1        2     3.5  2005-04-02 23:53:47\n",
      "1       1       29     3.5  2005-04-02 23:31:16\n",
      "2       1       32     3.5  2005-04-02 23:33:39\n",
      "\n",
      "tag.csv\n",
      "Shape: (465564, 4)\n",
      "   userId  movieId          tag            timestamp\n",
      "0      18     4141  Mark Waters  2009-04-24 18:19:40\n",
      "1      65      208    dark hero  2013-05-10 01:41:18\n",
      "2      65      353    dark hero  2013-05-10 01:41:19\n",
      "\n",
      "genome_scores.csv\n",
      "Shape: (11709768, 3)\n",
      "   movieId  tagId  relevance\n",
      "0        1      1    0.02500\n",
      "1        1      2    0.02500\n",
      "2        1      3    0.05775\n",
      "\n",
      "genome_tags.csv\n",
      "Shape: (1128, 2)\n",
      "   tagId           tag\n",
      "0      1           007\n",
      "1      2  007 (series)\n",
      "2      3  18th century\n",
      "\n",
      "link.csv\n",
      "Shape: (27278, 3)\n",
      "   movieId  imdbId   tmdbId\n",
      "0        1  114709    862.0\n",
      "1        2  113497   8844.0\n",
      "2        3  113228  15602.0\n",
      "\n",
      "movie.csv\n",
      "Shape: (27278, 3)\n",
      "   movieId                    title  \\\n",
      "0        1         Toy Story (1995)   \n",
      "1        2           Jumanji (1995)   \n",
      "2        3  Grumpier Old Men (1995)   \n",
      "\n",
      "                                        genres  \n",
      "0  Adventure|Animation|Children|Comedy|Fantasy  \n",
      "1                   Adventure|Children|Fantasy  \n",
      "2                               Comedy|Romance  \n",
      "\n"
     ]
    }
   ],
   "source": [
    "for dataset in dataframes:\n",
    "    print(dataset)\n",
    "    print(f\"Shape: {dataframes[dataset].shape}\")\n",
    "    print(dataframes[dataset].head(3))\n",
    "    print()"
   ]
  },
  {
   "cell_type": "code",
   "execution_count": 4,
   "metadata": {
    "id": "33IkrkKOItPW"
   },
   "outputs": [],
   "source": [
    "tags_df = dataframes['tag.csv']\n",
    "movies_df = dataframes['movie.csv']\n",
    "ratings_df = dataframes['rating.csv']\n",
    "links_df = dataframes['link.csv']\n",
    "genome_scores_df = dataframes['genome_scores.csv']\n",
    "genome_tags_df = dataframes['genome_tags.csv']\n"
   ]
  },
  {
   "cell_type": "code",
   "execution_count": 5,
   "metadata": {
    "colab": {
     "base_uri": "https://localhost:8080/"
    },
    "id": "uz9IbNCfSWmx",
    "outputId": "392e626a-f128-4015-a0db-5e1652abdc17"
   },
   "outputs": [
    {
     "name": "stdout",
     "output_type": "stream",
     "text": [
      "<class 'pandas.core.frame.DataFrame'>\n",
      "RangeIndex: 27278 entries, 0 to 27277\n",
      "Data columns (total 3 columns):\n",
      " #   Column   Non-Null Count  Dtype \n",
      "---  ------   --------------  ----- \n",
      " 0   movieId  27278 non-null  int64 \n",
      " 1   title    27278 non-null  object\n",
      " 2   genres   27278 non-null  object\n",
      "dtypes: int64(1), object(2)\n",
      "memory usage: 639.5+ KB\n",
      "None\n",
      "Are the movie id's unique? True\n"
     ]
    }
   ],
   "source": [
    "print(movies_df.info()); print(f\"Are the movie id's unique? {movies_df.movieId.nunique() == movies_df.shape[0]}\")"
   ]
  },
  {
   "cell_type": "markdown",
   "metadata": {
    "id": "YEcDxw9FItPY"
   },
   "source": [
    "## 2. Grouping Movies Together!\n",
    "\n",
    "In this section, you will explore clustering algorithms to group the movies you have based on specific features you choose to consider for them.\n",
    "\n",
    "### 2.1 Feature Engineering\n",
    "\n",
    "As you know, the dataset provided isn't particularly clean or well-structured to represent the features of the movies. Therefore, your first step is to create a more suitable set of attributes (variables, features, covariates) to represent the movies based on the available information. Here are some variables or features you might consider for clustering:\n",
    "\n",
    "1. **movieid**: id of each movie\n",
    "2. **genres**: list of genres attached to the movie (given that a movie may have several genres, it's essential to devise a method to accurately represent the genres for each movie)\n",
    "3. **ratings_avg**: the average ratings provided by users for the movie\n",
    "4. **relevant_genome_tag**: the most relevant tag to the movie given in the genome set\n",
    "5. **common_user_tag**: the most common tag given to the movie by the users\n",
    "\n",
    "In addition to the above features, include at least three additional features for clustering.\n",
    "\n",
    "Note: If you have accurately identified and applied the methods for representing the features, you should have more than eight features!\n",
    "How could this happen? Take a moment to think about it.\n",
    "\n",
    "---"
   ]
  },
  {
   "cell_type": "markdown",
   "metadata": {
    "id": "pWwuT9KcUWVp"
   },
   "source": [
    "Keeping in mind that we are preparing the dataset for *movies* and that we will be clustering movies later on! I will keep the movie id column as it is and will start by using the movies dataset to make one hot encoding for genres and represent the genres for each movieid."
   ]
  },
  {
   "cell_type": "code",
   "execution_count": 6,
   "metadata": {
    "colab": {
     "base_uri": "https://localhost:8080/",
     "height": 206
    },
    "id": "YD52dp8uItPZ",
    "outputId": "bb7cfd47-2d89-4695-dd81-5708b8f9d689"
   },
   "outputs": [
    {
     "data": {
      "text/html": [
       "<div>\n",
       "<style scoped>\n",
       "    .dataframe tbody tr th:only-of-type {\n",
       "        vertical-align: middle;\n",
       "    }\n",
       "\n",
       "    .dataframe tbody tr th {\n",
       "        vertical-align: top;\n",
       "    }\n",
       "\n",
       "    .dataframe thead th {\n",
       "        text-align: right;\n",
       "    }\n",
       "</style>\n",
       "<table border=\"1\" class=\"dataframe\">\n",
       "  <thead>\n",
       "    <tr style=\"text-align: right;\">\n",
       "      <th></th>\n",
       "      <th>movieId</th>\n",
       "      <th>title</th>\n",
       "      <th>genres</th>\n",
       "    </tr>\n",
       "  </thead>\n",
       "  <tbody>\n",
       "    <tr>\n",
       "      <th>0</th>\n",
       "      <td>1</td>\n",
       "      <td>Toy Story (1995)</td>\n",
       "      <td>Adventure|Animation|Children|Comedy|Fantasy</td>\n",
       "    </tr>\n",
       "    <tr>\n",
       "      <th>1</th>\n",
       "      <td>2</td>\n",
       "      <td>Jumanji (1995)</td>\n",
       "      <td>Adventure|Children|Fantasy</td>\n",
       "    </tr>\n",
       "    <tr>\n",
       "      <th>2</th>\n",
       "      <td>3</td>\n",
       "      <td>Grumpier Old Men (1995)</td>\n",
       "      <td>Comedy|Romance</td>\n",
       "    </tr>\n",
       "  </tbody>\n",
       "</table>\n",
       "</div>"
      ],
      "text/plain": [
       "   movieId                    title  \\\n",
       "0        1         Toy Story (1995)   \n",
       "1        2           Jumanji (1995)   \n",
       "2        3  Grumpier Old Men (1995)   \n",
       "\n",
       "                                        genres  \n",
       "0  Adventure|Animation|Children|Comedy|Fantasy  \n",
       "1                   Adventure|Children|Fantasy  \n",
       "2                               Comedy|Romance  "
      ]
     },
     "execution_count": 6,
     "metadata": {},
     "output_type": "execute_result"
    }
   ],
   "source": [
    "movies_df.head(3)"
   ]
  },
  {
   "cell_type": "markdown",
   "metadata": {},
   "source": [
    "Some field in the genres column contain values such as (no genres listed). We can see that the total number of such values are 246:"
   ]
  },
  {
   "cell_type": "code",
   "execution_count": 7,
   "metadata": {},
   "outputs": [
    {
     "name": "stdout",
     "output_type": "stream",
     "text": [
      "Number of Values containing \"(no genres listed)\" are: 246\n"
     ]
    }
   ],
   "source": [
    "print(f'Number of Values containing \"(no genres listed)\" are: {movies_df['genres'].str.contains('no').sum()}')"
   ]
  },
  {
   "cell_type": "markdown",
   "metadata": {},
   "source": [
    "Now because our movies dataset have over 27000 movies, we can safely drop such rows!"
   ]
  },
  {
   "cell_type": "code",
   "execution_count": 8,
   "metadata": {},
   "outputs": [],
   "source": [
    "# replace these with None\n",
    "movies_df['genres'] = movies_df['genres'].apply(lambda x: x if x != '(no genres listed)' else None)\n",
    "\n",
    "# dropping such rows\n",
    "movies_df.dropna(subset=['genres'], inplace=True)"
   ]
  },
  {
   "cell_type": "code",
   "execution_count": 9,
   "metadata": {
    "id": "jHOzNUqPMOIZ"
   },
   "outputs": [],
   "source": [
    "# Feature 1: One-hot encode genres\n",
    "movies_df[\"genres\"] = movies_df[\"genres\"].str.split(\"|\")\n",
    "genre_list = set(g for genres in movies_df[\"genres\"] for g in genres)\n",
    "for genre in genre_list:\n",
    "    movies_df[genre] = movies_df[\"genres\"].apply(lambda x: 1 if genre in x else 0)"
   ]
  },
  {
   "cell_type": "code",
   "execution_count": 10,
   "metadata": {
    "colab": {
     "base_uri": "https://localhost:8080/",
     "height": 366
    },
    "id": "BoEcpiKmUrN1",
    "outputId": "46fca558-6a1a-49c1-ef8d-f2bbb8991ab9"
   },
   "outputs": [
    {
     "data": {
      "text/html": [
       "<div>\n",
       "<style scoped>\n",
       "    .dataframe tbody tr th:only-of-type {\n",
       "        vertical-align: middle;\n",
       "    }\n",
       "\n",
       "    .dataframe tbody tr th {\n",
       "        vertical-align: top;\n",
       "    }\n",
       "\n",
       "    .dataframe thead th {\n",
       "        text-align: right;\n",
       "    }\n",
       "</style>\n",
       "<table border=\"1\" class=\"dataframe\">\n",
       "  <thead>\n",
       "    <tr style=\"text-align: right;\">\n",
       "      <th></th>\n",
       "      <th>movieId</th>\n",
       "      <th>title</th>\n",
       "      <th>genres</th>\n",
       "      <th>Crime</th>\n",
       "      <th>Horror</th>\n",
       "      <th>Sci-Fi</th>\n",
       "      <th>Drama</th>\n",
       "      <th>Musical</th>\n",
       "      <th>Fantasy</th>\n",
       "      <th>Thriller</th>\n",
       "      <th>...</th>\n",
       "      <th>Animation</th>\n",
       "      <th>Documentary</th>\n",
       "      <th>Children</th>\n",
       "      <th>War</th>\n",
       "      <th>Western</th>\n",
       "      <th>Mystery</th>\n",
       "      <th>Action</th>\n",
       "      <th>Adventure</th>\n",
       "      <th>IMAX</th>\n",
       "      <th>Romance</th>\n",
       "    </tr>\n",
       "  </thead>\n",
       "  <tbody>\n",
       "    <tr>\n",
       "      <th>0</th>\n",
       "      <td>1</td>\n",
       "      <td>Toy Story (1995)</td>\n",
       "      <td>[Adventure, Animation, Children, Comedy, Fantasy]</td>\n",
       "      <td>0</td>\n",
       "      <td>0</td>\n",
       "      <td>0</td>\n",
       "      <td>0</td>\n",
       "      <td>0</td>\n",
       "      <td>1</td>\n",
       "      <td>0</td>\n",
       "      <td>...</td>\n",
       "      <td>1</td>\n",
       "      <td>0</td>\n",
       "      <td>1</td>\n",
       "      <td>0</td>\n",
       "      <td>0</td>\n",
       "      <td>0</td>\n",
       "      <td>0</td>\n",
       "      <td>1</td>\n",
       "      <td>0</td>\n",
       "      <td>0</td>\n",
       "    </tr>\n",
       "    <tr>\n",
       "      <th>1</th>\n",
       "      <td>2</td>\n",
       "      <td>Jumanji (1995)</td>\n",
       "      <td>[Adventure, Children, Fantasy]</td>\n",
       "      <td>0</td>\n",
       "      <td>0</td>\n",
       "      <td>0</td>\n",
       "      <td>0</td>\n",
       "      <td>0</td>\n",
       "      <td>1</td>\n",
       "      <td>0</td>\n",
       "      <td>...</td>\n",
       "      <td>0</td>\n",
       "      <td>0</td>\n",
       "      <td>1</td>\n",
       "      <td>0</td>\n",
       "      <td>0</td>\n",
       "      <td>0</td>\n",
       "      <td>0</td>\n",
       "      <td>1</td>\n",
       "      <td>0</td>\n",
       "      <td>0</td>\n",
       "    </tr>\n",
       "    <tr>\n",
       "      <th>2</th>\n",
       "      <td>3</td>\n",
       "      <td>Grumpier Old Men (1995)</td>\n",
       "      <td>[Comedy, Romance]</td>\n",
       "      <td>0</td>\n",
       "      <td>0</td>\n",
       "      <td>0</td>\n",
       "      <td>0</td>\n",
       "      <td>0</td>\n",
       "      <td>0</td>\n",
       "      <td>0</td>\n",
       "      <td>...</td>\n",
       "      <td>0</td>\n",
       "      <td>0</td>\n",
       "      <td>0</td>\n",
       "      <td>0</td>\n",
       "      <td>0</td>\n",
       "      <td>0</td>\n",
       "      <td>0</td>\n",
       "      <td>0</td>\n",
       "      <td>0</td>\n",
       "      <td>1</td>\n",
       "    </tr>\n",
       "  </tbody>\n",
       "</table>\n",
       "<p>3 rows × 22 columns</p>\n",
       "</div>"
      ],
      "text/plain": [
       "   movieId                    title  \\\n",
       "0        1         Toy Story (1995)   \n",
       "1        2           Jumanji (1995)   \n",
       "2        3  Grumpier Old Men (1995)   \n",
       "\n",
       "                                              genres  Crime  Horror  Sci-Fi  \\\n",
       "0  [Adventure, Animation, Children, Comedy, Fantasy]      0       0       0   \n",
       "1                     [Adventure, Children, Fantasy]      0       0       0   \n",
       "2                                  [Comedy, Romance]      0       0       0   \n",
       "\n",
       "   Drama  Musical  Fantasy  Thriller  ...  Animation  Documentary  Children  \\\n",
       "0      0        0        1         0  ...          1            0         1   \n",
       "1      0        0        1         0  ...          0            0         1   \n",
       "2      0        0        0         0  ...          0            0         0   \n",
       "\n",
       "   War  Western  Mystery  Action  Adventure  IMAX  Romance  \n",
       "0    0        0        0       0          1     0        0  \n",
       "1    0        0        0       0          1     0        0  \n",
       "2    0        0        0       0          0     0        1  \n",
       "\n",
       "[3 rows x 22 columns]"
      ]
     },
     "execution_count": 10,
     "metadata": {},
     "output_type": "execute_result"
    }
   ],
   "source": [
    "movies_df.head(3)"
   ]
  },
  {
   "cell_type": "code",
   "execution_count": 11,
   "metadata": {
    "colab": {
     "base_uri": "https://localhost:8080/"
    },
    "id": "ApV2UGNuVL7F",
    "outputId": "6c8c2043-de87-4389-ddad-da49111e39b3"
   },
   "outputs": [
    {
     "data": {
      "text/plain": [
       "(27032, 22)"
      ]
     },
     "execution_count": 11,
     "metadata": {},
     "output_type": "execute_result"
    }
   ],
   "source": [
    "movies_df.shape"
   ]
  },
  {
   "cell_type": "markdown",
   "metadata": {
    "id": "NsFn5eWZUwNn"
   },
   "source": [
    "Now, going to the the second feature, I will use the ratings dataset to calculate average ratings for each movieid and merge it with the original movies dataset"
   ]
  },
  {
   "cell_type": "code",
   "execution_count": 12,
   "metadata": {
    "colab": {
     "base_uri": "https://localhost:8080/",
     "height": 161
    },
    "id": "LYu7I6T3Nhyy",
    "outputId": "7c4c4c79-40f7-4129-e5f1-d10f2b3d7e55"
   },
   "outputs": [
    {
     "name": "stdout",
     "output_type": "stream",
     "text": [
      "(20000263, 4)\n"
     ]
    },
    {
     "data": {
      "text/html": [
       "<div>\n",
       "<style scoped>\n",
       "    .dataframe tbody tr th:only-of-type {\n",
       "        vertical-align: middle;\n",
       "    }\n",
       "\n",
       "    .dataframe tbody tr th {\n",
       "        vertical-align: top;\n",
       "    }\n",
       "\n",
       "    .dataframe thead th {\n",
       "        text-align: right;\n",
       "    }\n",
       "</style>\n",
       "<table border=\"1\" class=\"dataframe\">\n",
       "  <thead>\n",
       "    <tr style=\"text-align: right;\">\n",
       "      <th></th>\n",
       "      <th>userId</th>\n",
       "      <th>movieId</th>\n",
       "      <th>rating</th>\n",
       "      <th>timestamp</th>\n",
       "    </tr>\n",
       "  </thead>\n",
       "  <tbody>\n",
       "    <tr>\n",
       "      <th>0</th>\n",
       "      <td>1</td>\n",
       "      <td>2</td>\n",
       "      <td>3.5</td>\n",
       "      <td>2005-04-02 23:53:47</td>\n",
       "    </tr>\n",
       "    <tr>\n",
       "      <th>1</th>\n",
       "      <td>1</td>\n",
       "      <td>29</td>\n",
       "      <td>3.5</td>\n",
       "      <td>2005-04-02 23:31:16</td>\n",
       "    </tr>\n",
       "    <tr>\n",
       "      <th>2</th>\n",
       "      <td>1</td>\n",
       "      <td>32</td>\n",
       "      <td>3.5</td>\n",
       "      <td>2005-04-02 23:33:39</td>\n",
       "    </tr>\n",
       "  </tbody>\n",
       "</table>\n",
       "</div>"
      ],
      "text/plain": [
       "   userId  movieId  rating            timestamp\n",
       "0       1        2     3.5  2005-04-02 23:53:47\n",
       "1       1       29     3.5  2005-04-02 23:31:16\n",
       "2       1       32     3.5  2005-04-02 23:33:39"
      ]
     },
     "execution_count": 12,
     "metadata": {},
     "output_type": "execute_result"
    }
   ],
   "source": [
    "print(ratings_df.shape)\n",
    "ratings_df.head(3)"
   ]
  },
  {
   "cell_type": "code",
   "execution_count": 13,
   "metadata": {
    "colab": {
     "base_uri": "https://localhost:8080/",
     "height": 209
    },
    "id": "Pq7aqBrFMu6j",
    "outputId": "a2733f88-9ef6-44cd-cb30-9aa9075fefaa"
   },
   "outputs": [
    {
     "data": {
      "text/plain": [
       "movieId\n",
       "1    3.921240\n",
       "2    3.211977\n",
       "3    3.151040\n",
       "Name: ratings_avg, dtype: float64"
      ]
     },
     "execution_count": 13,
     "metadata": {},
     "output_type": "execute_result"
    }
   ],
   "source": [
    "# Feature 2: Average rating\n",
    "rating_avg = ratings_df.groupby(\"movieId\")[\"rating\"].mean().rename(\"ratings_avg\")\n",
    "rating_avg.head(3)"
   ]
  },
  {
   "cell_type": "code",
   "execution_count": 14,
   "metadata": {},
   "outputs": [
    {
     "data": {
      "text/plain": [
       "(26744,)"
      ]
     },
     "execution_count": 14,
     "metadata": {},
     "output_type": "execute_result"
    }
   ],
   "source": [
    "rating_avg.shape"
   ]
  },
  {
   "cell_type": "markdown",
   "metadata": {},
   "source": [
    "The shape of the movies datframe and the rating_avg series are different. It means that there are some movie ids for which no ratings are given. Because our ultimate task is to cluster movies based on some particular features, we will only keep the movie ids for which there are ratings, i.e. by performing an *inner join*. We will adapt the same strategy for other features as well. However, I would like to *emphasize* that this strategy will greatly reduce the size of the movies set!"
   ]
  },
  {
   "cell_type": "code",
   "execution_count": 15,
   "metadata": {
    "colab": {
     "base_uri": "https://localhost:8080/",
     "height": 366
    },
    "id": "rK5a6Nv2WBdp",
    "outputId": "c1c46937-eea5-4f39-d410-fc2cf577a1b0"
   },
   "outputs": [
    {
     "data": {
      "text/html": [
       "<div>\n",
       "<style scoped>\n",
       "    .dataframe tbody tr th:only-of-type {\n",
       "        vertical-align: middle;\n",
       "    }\n",
       "\n",
       "    .dataframe tbody tr th {\n",
       "        vertical-align: top;\n",
       "    }\n",
       "\n",
       "    .dataframe thead th {\n",
       "        text-align: right;\n",
       "    }\n",
       "</style>\n",
       "<table border=\"1\" class=\"dataframe\">\n",
       "  <thead>\n",
       "    <tr style=\"text-align: right;\">\n",
       "      <th></th>\n",
       "      <th>movieId</th>\n",
       "      <th>title</th>\n",
       "      <th>genres</th>\n",
       "      <th>Crime</th>\n",
       "      <th>Horror</th>\n",
       "      <th>Sci-Fi</th>\n",
       "      <th>Drama</th>\n",
       "      <th>Musical</th>\n",
       "      <th>Fantasy</th>\n",
       "      <th>Thriller</th>\n",
       "      <th>...</th>\n",
       "      <th>Documentary</th>\n",
       "      <th>Children</th>\n",
       "      <th>War</th>\n",
       "      <th>Western</th>\n",
       "      <th>Mystery</th>\n",
       "      <th>Action</th>\n",
       "      <th>Adventure</th>\n",
       "      <th>IMAX</th>\n",
       "      <th>Romance</th>\n",
       "      <th>ratings_avg</th>\n",
       "    </tr>\n",
       "  </thead>\n",
       "  <tbody>\n",
       "    <tr>\n",
       "      <th>0</th>\n",
       "      <td>1</td>\n",
       "      <td>Toy Story (1995)</td>\n",
       "      <td>[Adventure, Animation, Children, Comedy, Fantasy]</td>\n",
       "      <td>0</td>\n",
       "      <td>0</td>\n",
       "      <td>0</td>\n",
       "      <td>0</td>\n",
       "      <td>0</td>\n",
       "      <td>1</td>\n",
       "      <td>0</td>\n",
       "      <td>...</td>\n",
       "      <td>0</td>\n",
       "      <td>1</td>\n",
       "      <td>0</td>\n",
       "      <td>0</td>\n",
       "      <td>0</td>\n",
       "      <td>0</td>\n",
       "      <td>1</td>\n",
       "      <td>0</td>\n",
       "      <td>0</td>\n",
       "      <td>3.921240</td>\n",
       "    </tr>\n",
       "    <tr>\n",
       "      <th>1</th>\n",
       "      <td>2</td>\n",
       "      <td>Jumanji (1995)</td>\n",
       "      <td>[Adventure, Children, Fantasy]</td>\n",
       "      <td>0</td>\n",
       "      <td>0</td>\n",
       "      <td>0</td>\n",
       "      <td>0</td>\n",
       "      <td>0</td>\n",
       "      <td>1</td>\n",
       "      <td>0</td>\n",
       "      <td>...</td>\n",
       "      <td>0</td>\n",
       "      <td>1</td>\n",
       "      <td>0</td>\n",
       "      <td>0</td>\n",
       "      <td>0</td>\n",
       "      <td>0</td>\n",
       "      <td>1</td>\n",
       "      <td>0</td>\n",
       "      <td>0</td>\n",
       "      <td>3.211977</td>\n",
       "    </tr>\n",
       "    <tr>\n",
       "      <th>2</th>\n",
       "      <td>3</td>\n",
       "      <td>Grumpier Old Men (1995)</td>\n",
       "      <td>[Comedy, Romance]</td>\n",
       "      <td>0</td>\n",
       "      <td>0</td>\n",
       "      <td>0</td>\n",
       "      <td>0</td>\n",
       "      <td>0</td>\n",
       "      <td>0</td>\n",
       "      <td>0</td>\n",
       "      <td>...</td>\n",
       "      <td>0</td>\n",
       "      <td>0</td>\n",
       "      <td>0</td>\n",
       "      <td>0</td>\n",
       "      <td>0</td>\n",
       "      <td>0</td>\n",
       "      <td>0</td>\n",
       "      <td>0</td>\n",
       "      <td>1</td>\n",
       "      <td>3.151040</td>\n",
       "    </tr>\n",
       "  </tbody>\n",
       "</table>\n",
       "<p>3 rows × 23 columns</p>\n",
       "</div>"
      ],
      "text/plain": [
       "   movieId                    title  \\\n",
       "0        1         Toy Story (1995)   \n",
       "1        2           Jumanji (1995)   \n",
       "2        3  Grumpier Old Men (1995)   \n",
       "\n",
       "                                              genres  Crime  Horror  Sci-Fi  \\\n",
       "0  [Adventure, Animation, Children, Comedy, Fantasy]      0       0       0   \n",
       "1                     [Adventure, Children, Fantasy]      0       0       0   \n",
       "2                                  [Comedy, Romance]      0       0       0   \n",
       "\n",
       "   Drama  Musical  Fantasy  Thriller  ...  Documentary  Children  War  \\\n",
       "0      0        0        1         0  ...            0         1    0   \n",
       "1      0        0        1         0  ...            0         1    0   \n",
       "2      0        0        0         0  ...            0         0    0   \n",
       "\n",
       "   Western  Mystery  Action  Adventure  IMAX  Romance  ratings_avg  \n",
       "0        0        0       0          1     0        0     3.921240  \n",
       "1        0        0       0          1     0        0     3.211977  \n",
       "2        0        0       0          0     0        1     3.151040  \n",
       "\n",
       "[3 rows x 23 columns]"
      ]
     },
     "execution_count": 15,
     "metadata": {},
     "output_type": "execute_result"
    }
   ],
   "source": [
    "movies_df = movies_df.merge(rating_avg, on=\"movieId\")\n",
    "movies_df.head(3)"
   ]
  },
  {
   "cell_type": "code",
   "execution_count": 16,
   "metadata": {},
   "outputs": [
    {
     "data": {
      "text/plain": [
       "(26502, 23)"
      ]
     },
     "execution_count": 16,
     "metadata": {},
     "output_type": "execute_result"
    }
   ],
   "source": [
    "movies_df.shape"
   ]
  },
  {
   "cell_type": "markdown",
   "metadata": {},
   "source": [
    "Now, we will move on to incorportate the user defined tags dataframe, i.e. `tags_df` and determine the top 10 most common *user-defined* tags for the each movie id and then merge it back to the movies dataframe."
   ]
  },
  {
   "cell_type": "code",
   "execution_count": 17,
   "metadata": {},
   "outputs": [
    {
     "data": {
      "text/html": [
       "<div>\n",
       "<style scoped>\n",
       "    .dataframe tbody tr th:only-of-type {\n",
       "        vertical-align: middle;\n",
       "    }\n",
       "\n",
       "    .dataframe tbody tr th {\n",
       "        vertical-align: top;\n",
       "    }\n",
       "\n",
       "    .dataframe thead th {\n",
       "        text-align: right;\n",
       "    }\n",
       "</style>\n",
       "<table border=\"1\" class=\"dataframe\">\n",
       "  <thead>\n",
       "    <tr style=\"text-align: right;\">\n",
       "      <th></th>\n",
       "      <th>userId</th>\n",
       "      <th>movieId</th>\n",
       "      <th>tag</th>\n",
       "      <th>timestamp</th>\n",
       "    </tr>\n",
       "  </thead>\n",
       "  <tbody>\n",
       "    <tr>\n",
       "      <th>0</th>\n",
       "      <td>18</td>\n",
       "      <td>4141</td>\n",
       "      <td>Mark Waters</td>\n",
       "      <td>2009-04-24 18:19:40</td>\n",
       "    </tr>\n",
       "    <tr>\n",
       "      <th>1</th>\n",
       "      <td>65</td>\n",
       "      <td>208</td>\n",
       "      <td>dark hero</td>\n",
       "      <td>2013-05-10 01:41:18</td>\n",
       "    </tr>\n",
       "    <tr>\n",
       "      <th>2</th>\n",
       "      <td>65</td>\n",
       "      <td>353</td>\n",
       "      <td>dark hero</td>\n",
       "      <td>2013-05-10 01:41:19</td>\n",
       "    </tr>\n",
       "  </tbody>\n",
       "</table>\n",
       "</div>"
      ],
      "text/plain": [
       "   userId  movieId          tag            timestamp\n",
       "0      18     4141  Mark Waters  2009-04-24 18:19:40\n",
       "1      65      208    dark hero  2013-05-10 01:41:18\n",
       "2      65      353    dark hero  2013-05-10 01:41:19"
      ]
     },
     "execution_count": 17,
     "metadata": {},
     "output_type": "execute_result"
    }
   ],
   "source": [
    "tags_df.head(3)"
   ]
  },
  {
   "cell_type": "code",
   "execution_count": 18,
   "metadata": {},
   "outputs": [
    {
     "data": {
      "text/plain": [
       "movieId\n",
       "1    [(Pixar, 67), (animation, 48), (Disney, 26), (...\n",
       "2    [(Robin Williams, 20), (time travel, 11), (fan...\n",
       "3    [(moldy, 2), (old, 2), (sequel, 2), (old peopl...\n",
       "Name: tag, dtype: object"
      ]
     },
     "execution_count": 18,
     "metadata": {},
     "output_type": "execute_result"
    }
   ],
   "source": [
    "# Feature 3: Common user tags\n",
    "top_10_common_tags = tags_df.groupby('movieId')['tag'].apply(list).apply(lambda x: Counter(x).most_common(10))\n",
    "top_10_common_tags.head(3)"
   ]
  },
  {
   "cell_type": "code",
   "execution_count": 19,
   "metadata": {},
   "outputs": [
    {
     "data": {
      "text/plain": [
       "(19545,)"
      ]
     },
     "execution_count": 19,
     "metadata": {},
     "output_type": "execute_result"
    }
   ],
   "source": [
    "top_10_common_tags.shape"
   ]
  },
  {
   "cell_type": "code",
   "execution_count": 20,
   "metadata": {},
   "outputs": [],
   "source": [
    "movies_df = movies_df.merge(top_10_common_tags, on='movieId')\n"
   ]
  },
  {
   "cell_type": "code",
   "execution_count": 21,
   "metadata": {},
   "outputs": [
    {
     "data": {
      "text/html": [
       "<div>\n",
       "<style scoped>\n",
       "    .dataframe tbody tr th:only-of-type {\n",
       "        vertical-align: middle;\n",
       "    }\n",
       "\n",
       "    .dataframe tbody tr th {\n",
       "        vertical-align: top;\n",
       "    }\n",
       "\n",
       "    .dataframe thead th {\n",
       "        text-align: right;\n",
       "    }\n",
       "</style>\n",
       "<table border=\"1\" class=\"dataframe\">\n",
       "  <thead>\n",
       "    <tr style=\"text-align: right;\">\n",
       "      <th></th>\n",
       "      <th>movieId</th>\n",
       "      <th>title</th>\n",
       "      <th>genres</th>\n",
       "      <th>Crime</th>\n",
       "      <th>Horror</th>\n",
       "      <th>Sci-Fi</th>\n",
       "      <th>Drama</th>\n",
       "      <th>Musical</th>\n",
       "      <th>Fantasy</th>\n",
       "      <th>Thriller</th>\n",
       "      <th>...</th>\n",
       "      <th>Children</th>\n",
       "      <th>War</th>\n",
       "      <th>Western</th>\n",
       "      <th>Mystery</th>\n",
       "      <th>Action</th>\n",
       "      <th>Adventure</th>\n",
       "      <th>IMAX</th>\n",
       "      <th>Romance</th>\n",
       "      <th>ratings_avg</th>\n",
       "      <th>tag</th>\n",
       "    </tr>\n",
       "  </thead>\n",
       "  <tbody>\n",
       "    <tr>\n",
       "      <th>0</th>\n",
       "      <td>1</td>\n",
       "      <td>Toy Story (1995)</td>\n",
       "      <td>[Adventure, Animation, Children, Comedy, Fantasy]</td>\n",
       "      <td>0</td>\n",
       "      <td>0</td>\n",
       "      <td>0</td>\n",
       "      <td>0</td>\n",
       "      <td>0</td>\n",
       "      <td>1</td>\n",
       "      <td>0</td>\n",
       "      <td>...</td>\n",
       "      <td>1</td>\n",
       "      <td>0</td>\n",
       "      <td>0</td>\n",
       "      <td>0</td>\n",
       "      <td>0</td>\n",
       "      <td>1</td>\n",
       "      <td>0</td>\n",
       "      <td>0</td>\n",
       "      <td>3.921240</td>\n",
       "      <td>[(Pixar, 67), (animation, 48), (Disney, 26), (...</td>\n",
       "    </tr>\n",
       "    <tr>\n",
       "      <th>1</th>\n",
       "      <td>2</td>\n",
       "      <td>Jumanji (1995)</td>\n",
       "      <td>[Adventure, Children, Fantasy]</td>\n",
       "      <td>0</td>\n",
       "      <td>0</td>\n",
       "      <td>0</td>\n",
       "      <td>0</td>\n",
       "      <td>0</td>\n",
       "      <td>1</td>\n",
       "      <td>0</td>\n",
       "      <td>...</td>\n",
       "      <td>1</td>\n",
       "      <td>0</td>\n",
       "      <td>0</td>\n",
       "      <td>0</td>\n",
       "      <td>0</td>\n",
       "      <td>1</td>\n",
       "      <td>0</td>\n",
       "      <td>0</td>\n",
       "      <td>3.211977</td>\n",
       "      <td>[(Robin Williams, 20), (time travel, 11), (fan...</td>\n",
       "    </tr>\n",
       "    <tr>\n",
       "      <th>2</th>\n",
       "      <td>3</td>\n",
       "      <td>Grumpier Old Men (1995)</td>\n",
       "      <td>[Comedy, Romance]</td>\n",
       "      <td>0</td>\n",
       "      <td>0</td>\n",
       "      <td>0</td>\n",
       "      <td>0</td>\n",
       "      <td>0</td>\n",
       "      <td>0</td>\n",
       "      <td>0</td>\n",
       "      <td>...</td>\n",
       "      <td>0</td>\n",
       "      <td>0</td>\n",
       "      <td>0</td>\n",
       "      <td>0</td>\n",
       "      <td>0</td>\n",
       "      <td>0</td>\n",
       "      <td>0</td>\n",
       "      <td>1</td>\n",
       "      <td>3.151040</td>\n",
       "      <td>[(moldy, 2), (old, 2), (sequel, 2), (old peopl...</td>\n",
       "    </tr>\n",
       "  </tbody>\n",
       "</table>\n",
       "<p>3 rows × 24 columns</p>\n",
       "</div>"
      ],
      "text/plain": [
       "   movieId                    title  \\\n",
       "0        1         Toy Story (1995)   \n",
       "1        2           Jumanji (1995)   \n",
       "2        3  Grumpier Old Men (1995)   \n",
       "\n",
       "                                              genres  Crime  Horror  Sci-Fi  \\\n",
       "0  [Adventure, Animation, Children, Comedy, Fantasy]      0       0       0   \n",
       "1                     [Adventure, Children, Fantasy]      0       0       0   \n",
       "2                                  [Comedy, Romance]      0       0       0   \n",
       "\n",
       "   Drama  Musical  Fantasy  Thriller  ...  Children  War  Western  Mystery  \\\n",
       "0      0        0        1         0  ...         1    0        0        0   \n",
       "1      0        0        1         0  ...         1    0        0        0   \n",
       "2      0        0        0         0  ...         0    0        0        0   \n",
       "\n",
       "   Action  Adventure  IMAX  Romance  ratings_avg  \\\n",
       "0       0          1     0        0     3.921240   \n",
       "1       0          1     0        0     3.211977   \n",
       "2       0          0     0        1     3.151040   \n",
       "\n",
       "                                                 tag  \n",
       "0  [(Pixar, 67), (animation, 48), (Disney, 26), (...  \n",
       "1  [(Robin Williams, 20), (time travel, 11), (fan...  \n",
       "2  [(moldy, 2), (old, 2), (sequel, 2), (old peopl...  \n",
       "\n",
       "[3 rows x 24 columns]"
      ]
     },
     "execution_count": 21,
     "metadata": {},
     "output_type": "execute_result"
    }
   ],
   "source": [
    "movies_df.head(3)"
   ]
  },
  {
   "cell_type": "code",
   "execution_count": 22,
   "metadata": {},
   "outputs": [
    {
     "data": {
      "text/plain": [
       "(18978, 24)"
      ]
     },
     "execution_count": 22,
     "metadata": {},
     "output_type": "execute_result"
    }
   ],
   "source": [
    "movies_df.shape"
   ]
  },
  {
   "cell_type": "markdown",
   "metadata": {},
   "source": [
    "Now, we will normalize the tag counts into relative frequencies"
   ]
  },
  {
   "cell_type": "code",
   "execution_count": 23,
   "metadata": {},
   "outputs": [
    {
     "data": {
      "text/html": [
       "<div>\n",
       "<style scoped>\n",
       "    .dataframe tbody tr th:only-of-type {\n",
       "        vertical-align: middle;\n",
       "    }\n",
       "\n",
       "    .dataframe tbody tr th {\n",
       "        vertical-align: top;\n",
       "    }\n",
       "\n",
       "    .dataframe thead th {\n",
       "        text-align: right;\n",
       "    }\n",
       "</style>\n",
       "<table border=\"1\" class=\"dataframe\">\n",
       "  <thead>\n",
       "    <tr style=\"text-align: right;\">\n",
       "      <th></th>\n",
       "      <th>movieId</th>\n",
       "      <th>title</th>\n",
       "      <th>genres</th>\n",
       "      <th>Crime</th>\n",
       "      <th>Horror</th>\n",
       "      <th>Sci-Fi</th>\n",
       "      <th>Drama</th>\n",
       "      <th>Musical</th>\n",
       "      <th>Fantasy</th>\n",
       "      <th>Thriller</th>\n",
       "      <th>...</th>\n",
       "      <th>Children</th>\n",
       "      <th>War</th>\n",
       "      <th>Western</th>\n",
       "      <th>Mystery</th>\n",
       "      <th>Action</th>\n",
       "      <th>Adventure</th>\n",
       "      <th>IMAX</th>\n",
       "      <th>Romance</th>\n",
       "      <th>ratings_avg</th>\n",
       "      <th>tag</th>\n",
       "    </tr>\n",
       "  </thead>\n",
       "  <tbody>\n",
       "    <tr>\n",
       "      <th>0</th>\n",
       "      <td>1</td>\n",
       "      <td>Toy Story (1995)</td>\n",
       "      <td>[Adventure, Animation, Children, Comedy, Fantasy]</td>\n",
       "      <td>0</td>\n",
       "      <td>0</td>\n",
       "      <td>0</td>\n",
       "      <td>0</td>\n",
       "      <td>0</td>\n",
       "      <td>1</td>\n",
       "      <td>0</td>\n",
       "      <td>...</td>\n",
       "      <td>1</td>\n",
       "      <td>0</td>\n",
       "      <td>0</td>\n",
       "      <td>0</td>\n",
       "      <td>0</td>\n",
       "      <td>1</td>\n",
       "      <td>0</td>\n",
       "      <td>0</td>\n",
       "      <td>3.921240</td>\n",
       "      <td>[(Pixar, 0.26), (animation, 0.18), (Disney, 0....</td>\n",
       "    </tr>\n",
       "    <tr>\n",
       "      <th>1</th>\n",
       "      <td>2</td>\n",
       "      <td>Jumanji (1995)</td>\n",
       "      <td>[Adventure, Children, Fantasy]</td>\n",
       "      <td>0</td>\n",
       "      <td>0</td>\n",
       "      <td>0</td>\n",
       "      <td>0</td>\n",
       "      <td>0</td>\n",
       "      <td>1</td>\n",
       "      <td>0</td>\n",
       "      <td>...</td>\n",
       "      <td>1</td>\n",
       "      <td>0</td>\n",
       "      <td>0</td>\n",
       "      <td>0</td>\n",
       "      <td>0</td>\n",
       "      <td>1</td>\n",
       "      <td>0</td>\n",
       "      <td>0</td>\n",
       "      <td>3.211977</td>\n",
       "      <td>[(Robin Williams, 0.25), (time travel, 0.14), ...</td>\n",
       "    </tr>\n",
       "    <tr>\n",
       "      <th>2</th>\n",
       "      <td>3</td>\n",
       "      <td>Grumpier Old Men (1995)</td>\n",
       "      <td>[Comedy, Romance]</td>\n",
       "      <td>0</td>\n",
       "      <td>0</td>\n",
       "      <td>0</td>\n",
       "      <td>0</td>\n",
       "      <td>0</td>\n",
       "      <td>0</td>\n",
       "      <td>0</td>\n",
       "      <td>...</td>\n",
       "      <td>0</td>\n",
       "      <td>0</td>\n",
       "      <td>0</td>\n",
       "      <td>0</td>\n",
       "      <td>0</td>\n",
       "      <td>0</td>\n",
       "      <td>0</td>\n",
       "      <td>1</td>\n",
       "      <td>3.151040</td>\n",
       "      <td>[(moldy, 0.15), (old, 0.15), (sequel, 0.15), (...</td>\n",
       "    </tr>\n",
       "  </tbody>\n",
       "</table>\n",
       "<p>3 rows × 24 columns</p>\n",
       "</div>"
      ],
      "text/plain": [
       "   movieId                    title  \\\n",
       "0        1         Toy Story (1995)   \n",
       "1        2           Jumanji (1995)   \n",
       "2        3  Grumpier Old Men (1995)   \n",
       "\n",
       "                                              genres  Crime  Horror  Sci-Fi  \\\n",
       "0  [Adventure, Animation, Children, Comedy, Fantasy]      0       0       0   \n",
       "1                     [Adventure, Children, Fantasy]      0       0       0   \n",
       "2                                  [Comedy, Romance]      0       0       0   \n",
       "\n",
       "   Drama  Musical  Fantasy  Thriller  ...  Children  War  Western  Mystery  \\\n",
       "0      0        0        1         0  ...         1    0        0        0   \n",
       "1      0        0        1         0  ...         1    0        0        0   \n",
       "2      0        0        0         0  ...         0    0        0        0   \n",
       "\n",
       "   Action  Adventure  IMAX  Romance  ratings_avg  \\\n",
       "0       0          1     0        0     3.921240   \n",
       "1       0          1     0        0     3.211977   \n",
       "2       0          0     0        1     3.151040   \n",
       "\n",
       "                                                 tag  \n",
       "0  [(Pixar, 0.26), (animation, 0.18), (Disney, 0....  \n",
       "1  [(Robin Williams, 0.25), (time travel, 0.14), ...  \n",
       "2  [(moldy, 0.15), (old, 0.15), (sequel, 0.15), (...  \n",
       "\n",
       "[3 rows x 24 columns]"
      ]
     },
     "execution_count": 23,
     "metadata": {},
     "output_type": "execute_result"
    }
   ],
   "source": [
    "movies_df[\"tag\"] = movies_df[\"tag\"].apply(lambda tags: [(tag, round(count/sum(count for tag, count in tags), 2)) for tag, count in tags])\n",
    "movies_df.head(3)"
   ]
  },
  {
   "cell_type": "code",
   "execution_count": 24,
   "metadata": {},
   "outputs": [],
   "source": [
    "movies_df.rename(columns={'tag': 'top_10_user_defined_tags'}, inplace=True)"
   ]
  },
  {
   "cell_type": "markdown",
   "metadata": {},
   "source": [
    "Because we will be performing PCA and Clustering eventually, the dataset features needs to be numeric in nature. I could have inserted only the first most common user defined tag for each movie, but I inserted 10 most common for the following reason: Use these tags to come up with a metric that show relevance_score_for_tags for each movie id.\n",
    "\n",
    "The `relevance_score_for_tags` for a movie is computed as:\n",
    "\n",
    "$$ \\text{Relevance Score} = \\sum_{t \\in \\text{movie tags}} \\text{Relevance}_t \\cdot \\text{GlobalWeight}_t $$\n",
    "\n",
    "#### Components:\n",
    "\n",
    "1. **Relevance of the Tag** $ \\text{Relevance}_t $:\n",
    "   - Represents how strongly the tag $ t $ is associated with the movie, based on the `relevance` of a tag deried using its relative frequeny which is computed using the frequency each user labelled (tagged) the movie / total tags\n",
    "   - Tags with higher relevance contribute more to the score.\n",
    "\n",
    "2. **Global Weight of the Tag** $ \\text{GlobalWeight}_t $:\n",
    "   - Captures how \"rare\" or \"informative\" the tag $t$ is across all movies. \n",
    "   - Tags that appear in fewer movies have higher weights because they are more distinctive.\n",
    "   - Modeled using:\n",
    "     $$\n",
    "     \\text{GlobalWeight}_t = \\log \\frac{N}{n_t}\n",
    "     $$\n",
    "     Where $N$ is the total number of movies, and $n_t$ is the number of movies containing the tag $t$.\n",
    "\n",
    "\n",
    "\n",
    "### **How to Interpret the Score**\n",
    "1. **High Relevance Score:**\n",
    "   - The movie is strongly associated with its top tags.\n",
    "   - The tags are unique or rare across the dataset, making the movie more distinct.\n",
    "   - Example: A movie with unique tags like \"Mind-Boggling\" or \"Historical\" may have a higher score than one with generic tags like \"Drama\" or \"Comedy.\"\n",
    "\n",
    "2. **Low Relevance Score:**\n",
    "   - The movie is associated with common tags or tags with low relevance.\n",
    "   - The movie might not have a strong identity defined by its tags.\n",
    "   - Example: A movie tagged with common terms like \"Drama\" and \"Action\" might have a lower score than one tagged with niche terms like \"Sci-Fi Thriller.\""
   ]
  },
  {
   "cell_type": "code",
   "execution_count": 25,
   "metadata": {},
   "outputs": [],
   "source": [
    "# Flatten the list of all tags for all movies\n",
    "all_tags = [tag for tags in movies_df['top_10_user_defined_tags'] for tag, count in tags]\n",
    "\n",
    "# Count occurrences of each tag\n",
    "tag_counts = Counter(all_tags)\n",
    "\n",
    "# Total number of movies\n",
    "total_movies = len(movies_df)\n",
    "\n",
    "# Compute the global weight for each tag (inverse tag frequency)\n",
    "global_weights = {tag: np.log(total_movies / count) for tag, count in tag_counts.items()}\n",
    "\n",
    "def compute_relevance_score(tags, global_weights):\n",
    "    score = 0\n",
    "    for tag, relevance in tags:\n",
    "        global_weight = global_weights.get(tag, 0)\n",
    "        score += relevance * global_weight\n",
    "    return score\n",
    "\n",
    "# Compute the relevance score for each movie\n",
    "movies_df['relevance_score_for_tags'] = movies_df['top_10_user_defined_tags'].apply(\n",
    "    lambda tags: compute_relevance_score(tags, global_weights)\n",
    ")"
   ]
  },
  {
   "cell_type": "code",
   "execution_count": 26,
   "metadata": {},
   "outputs": [
    {
     "data": {
      "text/html": [
       "<div>\n",
       "<style scoped>\n",
       "    .dataframe tbody tr th:only-of-type {\n",
       "        vertical-align: middle;\n",
       "    }\n",
       "\n",
       "    .dataframe tbody tr th {\n",
       "        vertical-align: top;\n",
       "    }\n",
       "\n",
       "    .dataframe thead th {\n",
       "        text-align: right;\n",
       "    }\n",
       "</style>\n",
       "<table border=\"1\" class=\"dataframe\">\n",
       "  <thead>\n",
       "    <tr style=\"text-align: right;\">\n",
       "      <th></th>\n",
       "      <th>movieId</th>\n",
       "      <th>title</th>\n",
       "      <th>genres</th>\n",
       "      <th>Crime</th>\n",
       "      <th>Horror</th>\n",
       "      <th>Sci-Fi</th>\n",
       "      <th>Drama</th>\n",
       "      <th>Musical</th>\n",
       "      <th>Fantasy</th>\n",
       "      <th>Thriller</th>\n",
       "      <th>...</th>\n",
       "      <th>War</th>\n",
       "      <th>Western</th>\n",
       "      <th>Mystery</th>\n",
       "      <th>Action</th>\n",
       "      <th>Adventure</th>\n",
       "      <th>IMAX</th>\n",
       "      <th>Romance</th>\n",
       "      <th>ratings_avg</th>\n",
       "      <th>top_10_user_defined_tags</th>\n",
       "      <th>relevance_score_for_tags</th>\n",
       "    </tr>\n",
       "  </thead>\n",
       "  <tbody>\n",
       "    <tr>\n",
       "      <th>0</th>\n",
       "      <td>1</td>\n",
       "      <td>Toy Story (1995)</td>\n",
       "      <td>[Adventure, Animation, Children, Comedy, Fantasy]</td>\n",
       "      <td>0</td>\n",
       "      <td>0</td>\n",
       "      <td>0</td>\n",
       "      <td>0</td>\n",
       "      <td>0</td>\n",
       "      <td>1</td>\n",
       "      <td>0</td>\n",
       "      <td>...</td>\n",
       "      <td>0</td>\n",
       "      <td>0</td>\n",
       "      <td>0</td>\n",
       "      <td>0</td>\n",
       "      <td>1</td>\n",
       "      <td>0</td>\n",
       "      <td>0</td>\n",
       "      <td>3.921240</td>\n",
       "      <td>[(Pixar, 0.26), (animation, 0.18), (Disney, 0....</td>\n",
       "      <td>5.600549</td>\n",
       "    </tr>\n",
       "    <tr>\n",
       "      <th>1</th>\n",
       "      <td>2</td>\n",
       "      <td>Jumanji (1995)</td>\n",
       "      <td>[Adventure, Children, Fantasy]</td>\n",
       "      <td>0</td>\n",
       "      <td>0</td>\n",
       "      <td>0</td>\n",
       "      <td>0</td>\n",
       "      <td>0</td>\n",
       "      <td>1</td>\n",
       "      <td>0</td>\n",
       "      <td>...</td>\n",
       "      <td>0</td>\n",
       "      <td>0</td>\n",
       "      <td>0</td>\n",
       "      <td>0</td>\n",
       "      <td>1</td>\n",
       "      <td>0</td>\n",
       "      <td>0</td>\n",
       "      <td>3.211977</td>\n",
       "      <td>[(Robin Williams, 0.25), (time travel, 0.14), ...</td>\n",
       "      <td>6.366281</td>\n",
       "    </tr>\n",
       "    <tr>\n",
       "      <th>2</th>\n",
       "      <td>3</td>\n",
       "      <td>Grumpier Old Men (1995)</td>\n",
       "      <td>[Comedy, Romance]</td>\n",
       "      <td>0</td>\n",
       "      <td>0</td>\n",
       "      <td>0</td>\n",
       "      <td>0</td>\n",
       "      <td>0</td>\n",
       "      <td>0</td>\n",
       "      <td>0</td>\n",
       "      <td>...</td>\n",
       "      <td>0</td>\n",
       "      <td>0</td>\n",
       "      <td>0</td>\n",
       "      <td>0</td>\n",
       "      <td>0</td>\n",
       "      <td>0</td>\n",
       "      <td>1</td>\n",
       "      <td>3.151040</td>\n",
       "      <td>[(moldy, 0.15), (old, 0.15), (sequel, 0.15), (...</td>\n",
       "      <td>8.153489</td>\n",
       "    </tr>\n",
       "  </tbody>\n",
       "</table>\n",
       "<p>3 rows × 25 columns</p>\n",
       "</div>"
      ],
      "text/plain": [
       "   movieId                    title  \\\n",
       "0        1         Toy Story (1995)   \n",
       "1        2           Jumanji (1995)   \n",
       "2        3  Grumpier Old Men (1995)   \n",
       "\n",
       "                                              genres  Crime  Horror  Sci-Fi  \\\n",
       "0  [Adventure, Animation, Children, Comedy, Fantasy]      0       0       0   \n",
       "1                     [Adventure, Children, Fantasy]      0       0       0   \n",
       "2                                  [Comedy, Romance]      0       0       0   \n",
       "\n",
       "   Drama  Musical  Fantasy  Thriller  ...  War  Western  Mystery  Action  \\\n",
       "0      0        0        1         0  ...    0        0        0       0   \n",
       "1      0        0        1         0  ...    0        0        0       0   \n",
       "2      0        0        0         0  ...    0        0        0       0   \n",
       "\n",
       "   Adventure  IMAX  Romance  ratings_avg  \\\n",
       "0          1     0        0     3.921240   \n",
       "1          1     0        0     3.211977   \n",
       "2          0     0        1     3.151040   \n",
       "\n",
       "                            top_10_user_defined_tags  relevance_score_for_tags  \n",
       "0  [(Pixar, 0.26), (animation, 0.18), (Disney, 0....                  5.600549  \n",
       "1  [(Robin Williams, 0.25), (time travel, 0.14), ...                  6.366281  \n",
       "2  [(moldy, 0.15), (old, 0.15), (sequel, 0.15), (...                  8.153489  \n",
       "\n",
       "[3 rows x 25 columns]"
      ]
     },
     "execution_count": 26,
     "metadata": {},
     "output_type": "execute_result"
    }
   ],
   "source": [
    "movies_df.head(3)"
   ]
  },
  {
   "cell_type": "markdown",
   "metadata": {
    "id": "Usq6B08rWI9a"
   },
   "source": [
    "For the fourth feature, we will make use of genome tags and their relavance from the `genome_tags` and `genome_scores` dataset, eventually merging them abck to the original movies dataset"
   ]
  },
  {
   "cell_type": "code",
   "execution_count": 27,
   "metadata": {
    "colab": {
     "base_uri": "https://localhost:8080/",
     "height": 143
    },
    "id": "ruKPfm7macRA",
    "outputId": "393b3104-c9cd-44f1-a52f-22ef787fac45"
   },
   "outputs": [
    {
     "data": {
      "text/html": [
       "<div>\n",
       "<style scoped>\n",
       "    .dataframe tbody tr th:only-of-type {\n",
       "        vertical-align: middle;\n",
       "    }\n",
       "\n",
       "    .dataframe tbody tr th {\n",
       "        vertical-align: top;\n",
       "    }\n",
       "\n",
       "    .dataframe thead th {\n",
       "        text-align: right;\n",
       "    }\n",
       "</style>\n",
       "<table border=\"1\" class=\"dataframe\">\n",
       "  <thead>\n",
       "    <tr style=\"text-align: right;\">\n",
       "      <th></th>\n",
       "      <th>movieId</th>\n",
       "      <th>tagId</th>\n",
       "      <th>relevance</th>\n",
       "    </tr>\n",
       "  </thead>\n",
       "  <tbody>\n",
       "    <tr>\n",
       "      <th>0</th>\n",
       "      <td>1</td>\n",
       "      <td>1</td>\n",
       "      <td>0.02500</td>\n",
       "    </tr>\n",
       "    <tr>\n",
       "      <th>1</th>\n",
       "      <td>1</td>\n",
       "      <td>2</td>\n",
       "      <td>0.02500</td>\n",
       "    </tr>\n",
       "    <tr>\n",
       "      <th>2</th>\n",
       "      <td>1</td>\n",
       "      <td>3</td>\n",
       "      <td>0.05775</td>\n",
       "    </tr>\n",
       "  </tbody>\n",
       "</table>\n",
       "</div>"
      ],
      "text/plain": [
       "   movieId  tagId  relevance\n",
       "0        1      1    0.02500\n",
       "1        1      2    0.02500\n",
       "2        1      3    0.05775"
      ]
     },
     "execution_count": 27,
     "metadata": {},
     "output_type": "execute_result"
    }
   ],
   "source": [
    "genome_scores_df.head(3)"
   ]
  },
  {
   "cell_type": "code",
   "execution_count": 28,
   "metadata": {
    "colab": {
     "base_uri": "https://localhost:8080/",
     "height": 143
    },
    "id": "Qk0fGx7Za0aE",
    "outputId": "d0643337-6ef7-4c08-a33d-f0ee4b218024"
   },
   "outputs": [
    {
     "data": {
      "text/html": [
       "<div>\n",
       "<style scoped>\n",
       "    .dataframe tbody tr th:only-of-type {\n",
       "        vertical-align: middle;\n",
       "    }\n",
       "\n",
       "    .dataframe tbody tr th {\n",
       "        vertical-align: top;\n",
       "    }\n",
       "\n",
       "    .dataframe thead th {\n",
       "        text-align: right;\n",
       "    }\n",
       "</style>\n",
       "<table border=\"1\" class=\"dataframe\">\n",
       "  <thead>\n",
       "    <tr style=\"text-align: right;\">\n",
       "      <th></th>\n",
       "      <th>tagId</th>\n",
       "      <th>tag</th>\n",
       "    </tr>\n",
       "  </thead>\n",
       "  <tbody>\n",
       "    <tr>\n",
       "      <th>0</th>\n",
       "      <td>1</td>\n",
       "      <td>007</td>\n",
       "    </tr>\n",
       "    <tr>\n",
       "      <th>1</th>\n",
       "      <td>2</td>\n",
       "      <td>007 (series)</td>\n",
       "    </tr>\n",
       "    <tr>\n",
       "      <th>2</th>\n",
       "      <td>3</td>\n",
       "      <td>18th century</td>\n",
       "    </tr>\n",
       "  </tbody>\n",
       "</table>\n",
       "</div>"
      ],
      "text/plain": [
       "   tagId           tag\n",
       "0      1           007\n",
       "1      2  007 (series)\n",
       "2      3  18th century"
      ]
     },
     "execution_count": 28,
     "metadata": {},
     "output_type": "execute_result"
    }
   ],
   "source": [
    "genome_tags_df.head(3)"
   ]
  },
  {
   "cell_type": "markdown",
   "metadata": {},
   "source": [
    "The total number of unique genome_scores_df for each movie ids are 10381 - further reducing the size of the dataset!"
   ]
  },
  {
   "cell_type": "code",
   "execution_count": 29,
   "metadata": {},
   "outputs": [
    {
     "data": {
      "text/plain": [
       "10381"
      ]
     },
     "execution_count": 29,
     "metadata": {},
     "output_type": "execute_result"
    }
   ],
   "source": [
    "genome_scores_df.movieId.nunique()"
   ]
  },
  {
   "cell_type": "code",
   "execution_count": 30,
   "metadata": {},
   "outputs": [
    {
     "name": "stderr",
     "output_type": "stream",
     "text": [
      "/var/folders/zh/2l0pp8jn6kd80mywh4f4vlmr0000gn/T/ipykernel_25332/4148761769.py:9: DeprecationWarning: DataFrameGroupBy.apply operated on the grouping columns. This behavior is deprecated, and in a future version of pandas the grouping columns will be excluded from the operation. Either pass `include_groups=False` to exclude the groupings or explicitly select the grouping columns after groupby to silence this warning.\n",
      "  top_10_relevant_tags = sorted_genome_scores_df.groupby('movieId').apply(get_top_tags).reset_index(drop=True)\n"
     ]
    }
   ],
   "source": [
    "# Sort genome_scores_df by movieId and relevance in descending order\n",
    "sorted_genome_scores_df = genome_scores_df.sort_values(by=['movieId', 'relevance'], ascending=[True, False])\n",
    "\n",
    "# Group by movieId and select the top 10 tags for each movie using groupby().apply()\n",
    "\n",
    "def get_top_tags(group):\n",
    "    return group.head(10)\n",
    "\n",
    "top_10_relevant_tags = sorted_genome_scores_df.groupby('movieId').apply(get_top_tags).reset_index(drop=True)\n",
    "\n",
    "# Merge with genome_tags_df to get the tag names\n",
    "relevant_tags = top_10_relevant_tags.merge(genome_tags_df, on='tagId')"
   ]
  },
  {
   "cell_type": "code",
   "execution_count": 31,
   "metadata": {},
   "outputs": [
    {
     "data": {
      "text/html": [
       "<div>\n",
       "<style scoped>\n",
       "    .dataframe tbody tr th:only-of-type {\n",
       "        vertical-align: middle;\n",
       "    }\n",
       "\n",
       "    .dataframe tbody tr th {\n",
       "        vertical-align: top;\n",
       "    }\n",
       "\n",
       "    .dataframe thead th {\n",
       "        text-align: right;\n",
       "    }\n",
       "</style>\n",
       "<table border=\"1\" class=\"dataframe\">\n",
       "  <thead>\n",
       "    <tr style=\"text-align: right;\">\n",
       "      <th></th>\n",
       "      <th>movieId</th>\n",
       "      <th>tagId</th>\n",
       "      <th>relevance</th>\n",
       "      <th>tag</th>\n",
       "    </tr>\n",
       "  </thead>\n",
       "  <tbody>\n",
       "    <tr>\n",
       "      <th>0</th>\n",
       "      <td>1</td>\n",
       "      <td>1036</td>\n",
       "      <td>0.99925</td>\n",
       "      <td>toys</td>\n",
       "    </tr>\n",
       "    <tr>\n",
       "      <th>1</th>\n",
       "      <td>1</td>\n",
       "      <td>244</td>\n",
       "      <td>0.99850</td>\n",
       "      <td>computer animation</td>\n",
       "    </tr>\n",
       "    <tr>\n",
       "      <th>2</th>\n",
       "      <td>1</td>\n",
       "      <td>786</td>\n",
       "      <td>0.99600</td>\n",
       "      <td>pixar animation</td>\n",
       "    </tr>\n",
       "  </tbody>\n",
       "</table>\n",
       "</div>"
      ],
      "text/plain": [
       "   movieId  tagId  relevance                 tag\n",
       "0        1   1036    0.99925                toys\n",
       "1        1    244    0.99850  computer animation\n",
       "2        1    786    0.99600     pixar animation"
      ]
     },
     "execution_count": 31,
     "metadata": {},
     "output_type": "execute_result"
    }
   ],
   "source": [
    "relevant_tags.head(3)"
   ]
  },
  {
   "cell_type": "code",
   "execution_count": 32,
   "metadata": {},
   "outputs": [
    {
     "name": "stderr",
     "output_type": "stream",
     "text": [
      "/var/folders/zh/2l0pp8jn6kd80mywh4f4vlmr0000gn/T/ipykernel_25332/1015402690.py:2: DeprecationWarning: DataFrameGroupBy.apply operated on the grouping columns. This behavior is deprecated, and in a future version of pandas the grouping columns will be excluded from the operation. Either pass `include_groups=False` to exclude the groupings or explicitly select the grouping columns after groupby to silence this warning.\n",
      "  tag_sets = relevant_tags.groupby('movieId').apply(lambda x: list(zip(x['tag'], x['relevance']))).reset_index()\n"
     ]
    },
    {
     "data": {
      "text/html": [
       "<div>\n",
       "<style scoped>\n",
       "    .dataframe tbody tr th:only-of-type {\n",
       "        vertical-align: middle;\n",
       "    }\n",
       "\n",
       "    .dataframe tbody tr th {\n",
       "        vertical-align: top;\n",
       "    }\n",
       "\n",
       "    .dataframe thead th {\n",
       "        text-align: right;\n",
       "    }\n",
       "</style>\n",
       "<table border=\"1\" class=\"dataframe\">\n",
       "  <thead>\n",
       "    <tr style=\"text-align: right;\">\n",
       "      <th></th>\n",
       "      <th>tag_relevance</th>\n",
       "    </tr>\n",
       "    <tr>\n",
       "      <th>movieId</th>\n",
       "      <th></th>\n",
       "    </tr>\n",
       "  </thead>\n",
       "  <tbody>\n",
       "    <tr>\n",
       "      <th>1</th>\n",
       "      <td>[(toys, 0.99925), (computer animation, 0.9985)...</td>\n",
       "    </tr>\n",
       "    <tr>\n",
       "      <th>2</th>\n",
       "      <td>[(adventure, 0.981), (jungle, 0.967), (childre...</td>\n",
       "    </tr>\n",
       "    <tr>\n",
       "      <th>3</th>\n",
       "      <td>[(good sequel, 0.9745), (sequel, 0.9505), (seq...</td>\n",
       "    </tr>\n",
       "  </tbody>\n",
       "</table>\n",
       "</div>"
      ],
      "text/plain": [
       "                                             tag_relevance\n",
       "movieId                                                   \n",
       "1        [(toys, 0.99925), (computer animation, 0.9985)...\n",
       "2        [(adventure, 0.981), (jungle, 0.967), (childre...\n",
       "3        [(good sequel, 0.9745), (sequel, 0.9505), (seq..."
      ]
     },
     "execution_count": 32,
     "metadata": {},
     "output_type": "execute_result"
    }
   ],
   "source": [
    "# Aggregate tags into a list for each movieId\n",
    "tag_sets = relevant_tags.groupby('movieId').apply(lambda x: list(zip(x['tag'], x['relevance']))).reset_index()\n",
    "tag_sets.columns = ['movieId', 'tag_relevance']\n",
    "# Make movieId the index of the dataframe\n",
    "tag_sets.set_index('movieId', inplace=True)\n",
    "\n",
    "tag_sets.head(3)"
   ]
  },
  {
   "cell_type": "code",
   "execution_count": 33,
   "metadata": {
    "colab": {
     "base_uri": "https://localhost:8080/",
     "height": 366
    },
    "id": "EQeZy-mraBxw",
    "outputId": "f197979d-3478-4aa1-b5aa-1f2e006c95fd"
   },
   "outputs": [
    {
     "data": {
      "text/html": [
       "<div>\n",
       "<style scoped>\n",
       "    .dataframe tbody tr th:only-of-type {\n",
       "        vertical-align: middle;\n",
       "    }\n",
       "\n",
       "    .dataframe tbody tr th {\n",
       "        vertical-align: top;\n",
       "    }\n",
       "\n",
       "    .dataframe thead th {\n",
       "        text-align: right;\n",
       "    }\n",
       "</style>\n",
       "<table border=\"1\" class=\"dataframe\">\n",
       "  <thead>\n",
       "    <tr style=\"text-align: right;\">\n",
       "      <th></th>\n",
       "      <th>movieId</th>\n",
       "      <th>title</th>\n",
       "      <th>genres</th>\n",
       "      <th>Crime</th>\n",
       "      <th>Horror</th>\n",
       "      <th>Sci-Fi</th>\n",
       "      <th>Drama</th>\n",
       "      <th>Musical</th>\n",
       "      <th>Fantasy</th>\n",
       "      <th>Thriller</th>\n",
       "      <th>...</th>\n",
       "      <th>Western</th>\n",
       "      <th>Mystery</th>\n",
       "      <th>Action</th>\n",
       "      <th>Adventure</th>\n",
       "      <th>IMAX</th>\n",
       "      <th>Romance</th>\n",
       "      <th>ratings_avg</th>\n",
       "      <th>top_10_user_defined_tags</th>\n",
       "      <th>relevance_score_for_tags</th>\n",
       "      <th>10_most_relevant_genome_tags</th>\n",
       "    </tr>\n",
       "  </thead>\n",
       "  <tbody>\n",
       "    <tr>\n",
       "      <th>0</th>\n",
       "      <td>1</td>\n",
       "      <td>Toy Story (1995)</td>\n",
       "      <td>[Adventure, Animation, Children, Comedy, Fantasy]</td>\n",
       "      <td>0</td>\n",
       "      <td>0</td>\n",
       "      <td>0</td>\n",
       "      <td>0</td>\n",
       "      <td>0</td>\n",
       "      <td>1</td>\n",
       "      <td>0</td>\n",
       "      <td>...</td>\n",
       "      <td>0</td>\n",
       "      <td>0</td>\n",
       "      <td>0</td>\n",
       "      <td>1</td>\n",
       "      <td>0</td>\n",
       "      <td>0</td>\n",
       "      <td>3.921240</td>\n",
       "      <td>[(Pixar, 0.26), (animation, 0.18), (Disney, 0....</td>\n",
       "      <td>5.600549</td>\n",
       "      <td>[(toys, 0.99925), (computer animation, 0.9985)...</td>\n",
       "    </tr>\n",
       "    <tr>\n",
       "      <th>1</th>\n",
       "      <td>2</td>\n",
       "      <td>Jumanji (1995)</td>\n",
       "      <td>[Adventure, Children, Fantasy]</td>\n",
       "      <td>0</td>\n",
       "      <td>0</td>\n",
       "      <td>0</td>\n",
       "      <td>0</td>\n",
       "      <td>0</td>\n",
       "      <td>1</td>\n",
       "      <td>0</td>\n",
       "      <td>...</td>\n",
       "      <td>0</td>\n",
       "      <td>0</td>\n",
       "      <td>0</td>\n",
       "      <td>1</td>\n",
       "      <td>0</td>\n",
       "      <td>0</td>\n",
       "      <td>3.211977</td>\n",
       "      <td>[(Robin Williams, 0.25), (time travel, 0.14), ...</td>\n",
       "      <td>6.366281</td>\n",
       "      <td>[(adventure, 0.981), (jungle, 0.967), (childre...</td>\n",
       "    </tr>\n",
       "    <tr>\n",
       "      <th>2</th>\n",
       "      <td>3</td>\n",
       "      <td>Grumpier Old Men (1995)</td>\n",
       "      <td>[Comedy, Romance]</td>\n",
       "      <td>0</td>\n",
       "      <td>0</td>\n",
       "      <td>0</td>\n",
       "      <td>0</td>\n",
       "      <td>0</td>\n",
       "      <td>0</td>\n",
       "      <td>0</td>\n",
       "      <td>...</td>\n",
       "      <td>0</td>\n",
       "      <td>0</td>\n",
       "      <td>0</td>\n",
       "      <td>0</td>\n",
       "      <td>0</td>\n",
       "      <td>1</td>\n",
       "      <td>3.151040</td>\n",
       "      <td>[(moldy, 0.15), (old, 0.15), (sequel, 0.15), (...</td>\n",
       "      <td>8.153489</td>\n",
       "      <td>[(good sequel, 0.9745), (sequel, 0.9505), (seq...</td>\n",
       "    </tr>\n",
       "  </tbody>\n",
       "</table>\n",
       "<p>3 rows × 26 columns</p>\n",
       "</div>"
      ],
      "text/plain": [
       "   movieId                    title  \\\n",
       "0        1         Toy Story (1995)   \n",
       "1        2           Jumanji (1995)   \n",
       "2        3  Grumpier Old Men (1995)   \n",
       "\n",
       "                                              genres  Crime  Horror  Sci-Fi  \\\n",
       "0  [Adventure, Animation, Children, Comedy, Fantasy]      0       0       0   \n",
       "1                     [Adventure, Children, Fantasy]      0       0       0   \n",
       "2                                  [Comedy, Romance]      0       0       0   \n",
       "\n",
       "   Drama  Musical  Fantasy  Thriller  ...  Western  Mystery  Action  \\\n",
       "0      0        0        1         0  ...        0        0       0   \n",
       "1      0        0        1         0  ...        0        0       0   \n",
       "2      0        0        0         0  ...        0        0       0   \n",
       "\n",
       "   Adventure  IMAX  Romance  ratings_avg  \\\n",
       "0          1     0        0     3.921240   \n",
       "1          1     0        0     3.211977   \n",
       "2          0     0        1     3.151040   \n",
       "\n",
       "                            top_10_user_defined_tags  \\\n",
       "0  [(Pixar, 0.26), (animation, 0.18), (Disney, 0....   \n",
       "1  [(Robin Williams, 0.25), (time travel, 0.14), ...   \n",
       "2  [(moldy, 0.15), (old, 0.15), (sequel, 0.15), (...   \n",
       "\n",
       "   relevance_score_for_tags                       10_most_relevant_genome_tags  \n",
       "0                  5.600549  [(toys, 0.99925), (computer animation, 0.9985)...  \n",
       "1                  6.366281  [(adventure, 0.981), (jungle, 0.967), (childre...  \n",
       "2                  8.153489  [(good sequel, 0.9745), (sequel, 0.9505), (seq...  \n",
       "\n",
       "[3 rows x 26 columns]"
      ]
     },
     "execution_count": 33,
     "metadata": {},
     "output_type": "execute_result"
    }
   ],
   "source": [
    "# Merge the movie dataset with the tag_sets to add the 10 most relevant genome tags\n",
    "movies_df = movies_df.merge(tag_sets, on=\"movieId\")\n",
    "movies_df.rename(columns={\"tag_relevance\": \"10_most_relevant_genome_tags\"}, inplace=True)\n",
    "# Display the updated dataframe\n",
    "movies_df.head(3)"
   ]
  },
  {
   "cell_type": "markdown",
   "metadata": {},
   "source": [
    "The `relevance_score_for_genome_tags` for a movie is computed as:\n",
    "\n",
    "$$ \\text{Relevance Score} = \\sum_{t \\in \\text{movie tags}} \\text{Relevance}_t \\cdot \\text{GlobalWeight}_t $$\n",
    "\n",
    "#### Components:\n",
    "\n",
    "1. **Relevance of the Tag** $ \\text{Relevance}_t $:\n",
    "   - Represents how strongly the tag $ t $ is associated with the movie, based on the `relevance` field in the genome dataset. \n",
    "   - Tags with higher relevance contribute more to the score.\n",
    "\n",
    "2. **Global Weight of the Tag** $ \\text{GlobalWeight}_t $:\n",
    "   - Captures how \"rare\" or \"informative\" the tag $t$ is across all movies. \n",
    "   - Tags that appear in fewer movies have higher weights because they are more distinctive.\n",
    "   - Modeled using:\n",
    "     $$\n",
    "     \\text{GlobalWeight}_t = \\log \\frac{N}{n_t}\n",
    "     $$\n",
    "     Where $N$ is the total number of movies, and $n_t$ is the number of movies containing the tag $t$.\n",
    "\n",
    "\n",
    "\n",
    "### **How to Interpret the Score**\n",
    "1. **High Relevance Score:**\n",
    "   - The movie is strongly associated with its top tags.\n",
    "   - The tags are unique or rare across the dataset, making the movie more distinct.\n",
    "   - Example: A movie with unique tags like \"007\" or \"Commander\" may have a higher score than one with generic tags like \"Drama\" or \"Action.\"\n",
    "\n",
    "2. **Low Relevance Score:**\n",
    "   - The movie is associated with common tags or tags with low relevance.\n",
    "   - The movie might not have a strong identity defined by its genome tags.\n",
    "   - Example: A movie tagged with common terms like \"Drama\" and \"Action\" might have a lower score than one tagged with niche terms like \"Sci-Fi Thriller.\""
   ]
  },
  {
   "cell_type": "code",
   "execution_count": 34,
   "metadata": {},
   "outputs": [],
   "source": [
    "# Flatten the list of all tags for all movies\n",
    "all_tags = [tag for tags in movies_df['10_most_relevant_genome_tags'] for tag, count in tags]\n",
    "\n",
    "# Count occurrences of each tag\n",
    "tag_counts = Counter(all_tags)\n",
    "\n",
    "# Total number of movies\n",
    "total_movies = len(movies_df)\n",
    "\n",
    "# Compute the global weight for each tag (inverse tag frequency)\n",
    "global_weights = {tag: np.log(total_movies / count) for tag, count in tag_counts.items()}"
   ]
  },
  {
   "cell_type": "code",
   "execution_count": 35,
   "metadata": {},
   "outputs": [],
   "source": [
    "def compute_relevance_score(tags, global_weights):\n",
    "    score = 0\n",
    "    for tag, relevance in tags:\n",
    "        global_weight = global_weights.get(tag, 0)\n",
    "        score += relevance * global_weight\n",
    "    return score\n",
    "\n",
    "# Compute the relevance score for each movie\n",
    "movies_df['relevance_score_for_genome_tags'] = movies_df['10_most_relevant_genome_tags'].apply(\n",
    "    lambda tags: compute_relevance_score(tags, global_weights)\n",
    ")"
   ]
  },
  {
   "cell_type": "code",
   "execution_count": 36,
   "metadata": {},
   "outputs": [
    {
     "data": {
      "text/html": [
       "<div>\n",
       "<style scoped>\n",
       "    .dataframe tbody tr th:only-of-type {\n",
       "        vertical-align: middle;\n",
       "    }\n",
       "\n",
       "    .dataframe tbody tr th {\n",
       "        vertical-align: top;\n",
       "    }\n",
       "\n",
       "    .dataframe thead th {\n",
       "        text-align: right;\n",
       "    }\n",
       "</style>\n",
       "<table border=\"1\" class=\"dataframe\">\n",
       "  <thead>\n",
       "    <tr style=\"text-align: right;\">\n",
       "      <th></th>\n",
       "      <th>movieId</th>\n",
       "      <th>title</th>\n",
       "      <th>genres</th>\n",
       "      <th>Crime</th>\n",
       "      <th>Horror</th>\n",
       "      <th>Sci-Fi</th>\n",
       "      <th>Drama</th>\n",
       "      <th>Musical</th>\n",
       "      <th>Fantasy</th>\n",
       "      <th>Thriller</th>\n",
       "      <th>...</th>\n",
       "      <th>Mystery</th>\n",
       "      <th>Action</th>\n",
       "      <th>Adventure</th>\n",
       "      <th>IMAX</th>\n",
       "      <th>Romance</th>\n",
       "      <th>ratings_avg</th>\n",
       "      <th>top_10_user_defined_tags</th>\n",
       "      <th>relevance_score_for_tags</th>\n",
       "      <th>10_most_relevant_genome_tags</th>\n",
       "      <th>relevance_score_for_genome_tags</th>\n",
       "    </tr>\n",
       "  </thead>\n",
       "  <tbody>\n",
       "    <tr>\n",
       "      <th>0</th>\n",
       "      <td>1</td>\n",
       "      <td>Toy Story (1995)</td>\n",
       "      <td>[Adventure, Animation, Children, Comedy, Fantasy]</td>\n",
       "      <td>0</td>\n",
       "      <td>0</td>\n",
       "      <td>0</td>\n",
       "      <td>0</td>\n",
       "      <td>0</td>\n",
       "      <td>1</td>\n",
       "      <td>0</td>\n",
       "      <td>...</td>\n",
       "      <td>0</td>\n",
       "      <td>0</td>\n",
       "      <td>1</td>\n",
       "      <td>0</td>\n",
       "      <td>0</td>\n",
       "      <td>3.921240</td>\n",
       "      <td>[(Pixar, 0.26), (animation, 0.18), (Disney, 0....</td>\n",
       "      <td>5.600549</td>\n",
       "      <td>[(toys, 0.99925), (computer animation, 0.9985)...</td>\n",
       "      <td>43.017868</td>\n",
       "    </tr>\n",
       "    <tr>\n",
       "      <th>1</th>\n",
       "      <td>2</td>\n",
       "      <td>Jumanji (1995)</td>\n",
       "      <td>[Adventure, Children, Fantasy]</td>\n",
       "      <td>0</td>\n",
       "      <td>0</td>\n",
       "      <td>0</td>\n",
       "      <td>0</td>\n",
       "      <td>0</td>\n",
       "      <td>1</td>\n",
       "      <td>0</td>\n",
       "      <td>...</td>\n",
       "      <td>0</td>\n",
       "      <td>0</td>\n",
       "      <td>1</td>\n",
       "      <td>0</td>\n",
       "      <td>0</td>\n",
       "      <td>3.211977</td>\n",
       "      <td>[(Robin Williams, 0.25), (time travel, 0.14), ...</td>\n",
       "      <td>6.366281</td>\n",
       "      <td>[(adventure, 0.981), (jungle, 0.967), (childre...</td>\n",
       "      <td>33.314003</td>\n",
       "    </tr>\n",
       "    <tr>\n",
       "      <th>2</th>\n",
       "      <td>3</td>\n",
       "      <td>Grumpier Old Men (1995)</td>\n",
       "      <td>[Comedy, Romance]</td>\n",
       "      <td>0</td>\n",
       "      <td>0</td>\n",
       "      <td>0</td>\n",
       "      <td>0</td>\n",
       "      <td>0</td>\n",
       "      <td>0</td>\n",
       "      <td>0</td>\n",
       "      <td>...</td>\n",
       "      <td>0</td>\n",
       "      <td>0</td>\n",
       "      <td>0</td>\n",
       "      <td>0</td>\n",
       "      <td>1</td>\n",
       "      <td>3.151040</td>\n",
       "      <td>[(moldy, 0.15), (old, 0.15), (sequel, 0.15), (...</td>\n",
       "      <td>8.153489</td>\n",
       "      <td>[(good sequel, 0.9745), (sequel, 0.9505), (seq...</td>\n",
       "      <td>26.493936</td>\n",
       "    </tr>\n",
       "  </tbody>\n",
       "</table>\n",
       "<p>3 rows × 27 columns</p>\n",
       "</div>"
      ],
      "text/plain": [
       "   movieId                    title  \\\n",
       "0        1         Toy Story (1995)   \n",
       "1        2           Jumanji (1995)   \n",
       "2        3  Grumpier Old Men (1995)   \n",
       "\n",
       "                                              genres  Crime  Horror  Sci-Fi  \\\n",
       "0  [Adventure, Animation, Children, Comedy, Fantasy]      0       0       0   \n",
       "1                     [Adventure, Children, Fantasy]      0       0       0   \n",
       "2                                  [Comedy, Romance]      0       0       0   \n",
       "\n",
       "   Drama  Musical  Fantasy  Thriller  ...  Mystery  Action  Adventure  IMAX  \\\n",
       "0      0        0        1         0  ...        0       0          1     0   \n",
       "1      0        0        1         0  ...        0       0          1     0   \n",
       "2      0        0        0         0  ...        0       0          0     0   \n",
       "\n",
       "   Romance  ratings_avg                           top_10_user_defined_tags  \\\n",
       "0        0     3.921240  [(Pixar, 0.26), (animation, 0.18), (Disney, 0....   \n",
       "1        0     3.211977  [(Robin Williams, 0.25), (time travel, 0.14), ...   \n",
       "2        1     3.151040  [(moldy, 0.15), (old, 0.15), (sequel, 0.15), (...   \n",
       "\n",
       "   relevance_score_for_tags  \\\n",
       "0                  5.600549   \n",
       "1                  6.366281   \n",
       "2                  8.153489   \n",
       "\n",
       "                        10_most_relevant_genome_tags  \\\n",
       "0  [(toys, 0.99925), (computer animation, 0.9985)...   \n",
       "1  [(adventure, 0.981), (jungle, 0.967), (childre...   \n",
       "2  [(good sequel, 0.9745), (sequel, 0.9505), (seq...   \n",
       "\n",
       "   relevance_score_for_genome_tags  \n",
       "0                        43.017868  \n",
       "1                        33.314003  \n",
       "2                        26.493936  \n",
       "\n",
       "[3 rows x 27 columns]"
      ]
     },
     "execution_count": 36,
     "metadata": {},
     "output_type": "execute_result"
    }
   ],
   "source": [
    "movies_df.head(3)"
   ]
  },
  {
   "cell_type": "markdown",
   "metadata": {
    "id": "mIgUpv90ePya"
   },
   "source": [
    "Now, the task is to make 4 additional features. Namely `rating_counts` depicting the number of ratings given by users for each movie id, `genere_diversity`: depicting number of generes associated to each movie id, and `user_tag_diversity`: depicting range of user-defined tags associated to each movie id."
   ]
  },
  {
   "cell_type": "code",
   "execution_count": 37,
   "metadata": {
    "colab": {
     "base_uri": "https://localhost:8080/",
     "height": 366
    },
    "id": "5xD9bYThN-RS",
    "outputId": "2441a983-c27e-4d89-ec01-e0959c4d2110"
   },
   "outputs": [
    {
     "data": {
      "text/html": [
       "<div>\n",
       "<style scoped>\n",
       "    .dataframe tbody tr th:only-of-type {\n",
       "        vertical-align: middle;\n",
       "    }\n",
       "\n",
       "    .dataframe tbody tr th {\n",
       "        vertical-align: top;\n",
       "    }\n",
       "\n",
       "    .dataframe thead th {\n",
       "        text-align: right;\n",
       "    }\n",
       "</style>\n",
       "<table border=\"1\" class=\"dataframe\">\n",
       "  <thead>\n",
       "    <tr style=\"text-align: right;\">\n",
       "      <th></th>\n",
       "      <th>movieId</th>\n",
       "      <th>title</th>\n",
       "      <th>genres</th>\n",
       "      <th>Crime</th>\n",
       "      <th>Horror</th>\n",
       "      <th>Sci-Fi</th>\n",
       "      <th>Drama</th>\n",
       "      <th>Musical</th>\n",
       "      <th>Fantasy</th>\n",
       "      <th>Thriller</th>\n",
       "      <th>...</th>\n",
       "      <th>IMAX</th>\n",
       "      <th>Romance</th>\n",
       "      <th>ratings_avg</th>\n",
       "      <th>top_10_user_defined_tags</th>\n",
       "      <th>relevance_score_for_tags</th>\n",
       "      <th>10_most_relevant_genome_tags</th>\n",
       "      <th>relevance_score_for_genome_tags</th>\n",
       "      <th>rating_count</th>\n",
       "      <th>genre_diversity</th>\n",
       "      <th>tag_diversity</th>\n",
       "    </tr>\n",
       "  </thead>\n",
       "  <tbody>\n",
       "    <tr>\n",
       "      <th>0</th>\n",
       "      <td>1</td>\n",
       "      <td>Toy Story (1995)</td>\n",
       "      <td>[Adventure, Animation, Children, Comedy, Fantasy]</td>\n",
       "      <td>0</td>\n",
       "      <td>0</td>\n",
       "      <td>0</td>\n",
       "      <td>0</td>\n",
       "      <td>0</td>\n",
       "      <td>1</td>\n",
       "      <td>0</td>\n",
       "      <td>...</td>\n",
       "      <td>0</td>\n",
       "      <td>0</td>\n",
       "      <td>3.921240</td>\n",
       "      <td>[(Pixar, 0.26), (animation, 0.18), (Disney, 0....</td>\n",
       "      <td>5.600549</td>\n",
       "      <td>[(toys, 0.99925), (computer animation, 0.9985)...</td>\n",
       "      <td>43.017868</td>\n",
       "      <td>49695</td>\n",
       "      <td>5</td>\n",
       "      <td>84</td>\n",
       "    </tr>\n",
       "    <tr>\n",
       "      <th>1</th>\n",
       "      <td>2</td>\n",
       "      <td>Jumanji (1995)</td>\n",
       "      <td>[Adventure, Children, Fantasy]</td>\n",
       "      <td>0</td>\n",
       "      <td>0</td>\n",
       "      <td>0</td>\n",
       "      <td>0</td>\n",
       "      <td>0</td>\n",
       "      <td>1</td>\n",
       "      <td>0</td>\n",
       "      <td>...</td>\n",
       "      <td>0</td>\n",
       "      <td>0</td>\n",
       "      <td>3.211977</td>\n",
       "      <td>[(Robin Williams, 0.25), (time travel, 0.14), ...</td>\n",
       "      <td>6.366281</td>\n",
       "      <td>[(adventure, 0.981), (jungle, 0.967), (childre...</td>\n",
       "      <td>33.314003</td>\n",
       "      <td>22243</td>\n",
       "      <td>3</td>\n",
       "      <td>35</td>\n",
       "    </tr>\n",
       "    <tr>\n",
       "      <th>2</th>\n",
       "      <td>3</td>\n",
       "      <td>Grumpier Old Men (1995)</td>\n",
       "      <td>[Comedy, Romance]</td>\n",
       "      <td>0</td>\n",
       "      <td>0</td>\n",
       "      <td>0</td>\n",
       "      <td>0</td>\n",
       "      <td>0</td>\n",
       "      <td>0</td>\n",
       "      <td>0</td>\n",
       "      <td>...</td>\n",
       "      <td>0</td>\n",
       "      <td>1</td>\n",
       "      <td>3.151040</td>\n",
       "      <td>[(moldy, 0.15), (old, 0.15), (sequel, 0.15), (...</td>\n",
       "      <td>8.153489</td>\n",
       "      <td>[(good sequel, 0.9745), (sequel, 0.9505), (seq...</td>\n",
       "      <td>26.493936</td>\n",
       "      <td>12735</td>\n",
       "      <td>2</td>\n",
       "      <td>15</td>\n",
       "    </tr>\n",
       "  </tbody>\n",
       "</table>\n",
       "<p>3 rows × 30 columns</p>\n",
       "</div>"
      ],
      "text/plain": [
       "   movieId                    title  \\\n",
       "0        1         Toy Story (1995)   \n",
       "1        2           Jumanji (1995)   \n",
       "2        3  Grumpier Old Men (1995)   \n",
       "\n",
       "                                              genres  Crime  Horror  Sci-Fi  \\\n",
       "0  [Adventure, Animation, Children, Comedy, Fantasy]      0       0       0   \n",
       "1                     [Adventure, Children, Fantasy]      0       0       0   \n",
       "2                                  [Comedy, Romance]      0       0       0   \n",
       "\n",
       "   Drama  Musical  Fantasy  Thriller  ...  IMAX  Romance  ratings_avg  \\\n",
       "0      0        0        1         0  ...     0        0     3.921240   \n",
       "1      0        0        1         0  ...     0        0     3.211977   \n",
       "2      0        0        0         0  ...     0        1     3.151040   \n",
       "\n",
       "                            top_10_user_defined_tags  \\\n",
       "0  [(Pixar, 0.26), (animation, 0.18), (Disney, 0....   \n",
       "1  [(Robin Williams, 0.25), (time travel, 0.14), ...   \n",
       "2  [(moldy, 0.15), (old, 0.15), (sequel, 0.15), (...   \n",
       "\n",
       "   relevance_score_for_tags  \\\n",
       "0                  5.600549   \n",
       "1                  6.366281   \n",
       "2                  8.153489   \n",
       "\n",
       "                        10_most_relevant_genome_tags  \\\n",
       "0  [(toys, 0.99925), (computer animation, 0.9985)...   \n",
       "1  [(adventure, 0.981), (jungle, 0.967), (childre...   \n",
       "2  [(good sequel, 0.9745), (sequel, 0.9505), (seq...   \n",
       "\n",
       "   relevance_score_for_genome_tags  rating_count  genre_diversity  \\\n",
       "0                        43.017868         49695                5   \n",
       "1                        33.314003         22243                3   \n",
       "2                        26.493936         12735                2   \n",
       "\n",
       "   tag_diversity  \n",
       "0             84  \n",
       "1             35  \n",
       "2             15  \n",
       "\n",
       "[3 rows x 30 columns]"
      ]
     },
     "execution_count": 37,
     "metadata": {},
     "output_type": "execute_result"
    }
   ],
   "source": [
    "# Additional features\n",
    "\n",
    "# 6th Rating count\n",
    "rating_count = ratings_df.groupby(\"movieId\")[\"rating\"].count().rename(\"rating_count\")\n",
    "movies_df = movies_df.merge(rating_count, on=\"movieId\")\n",
    "\n",
    "# 7th Genre diversity\n",
    "movies_df[\"genre_diversity\"] = movies_df[list(genre_list)].sum(axis=1)\n",
    "\n",
    "# 8th User-defined Tag diversity\n",
    "user_tag_diversity = tags_df.groupby(\"movieId\")[\"tag\"].nunique().rename(\"tag_diversity\")\n",
    "movies_df = movies_df.merge(user_tag_diversity, on=\"movieId\")\n",
    "\n",
    "movies_df.head(3)"
   ]
  },
  {
   "cell_type": "code",
   "execution_count": 38,
   "metadata": {
    "colab": {
     "base_uri": "https://localhost:8080/"
    },
    "id": "VE1-JjYqhFmE",
    "outputId": "166459f6-b764-4b39-d020-3efcfd9c03de"
   },
   "outputs": [
    {
     "name": "stdout",
     "output_type": "stream",
     "text": [
      "Shape of the dataset: (9815, 30)\n",
      "Missing values: movieId                            0\n",
      "title                              0\n",
      "genres                             0\n",
      "Crime                              0\n",
      "Horror                             0\n",
      "Sci-Fi                             0\n",
      "Drama                              0\n",
      "Musical                            0\n",
      "Fantasy                            0\n",
      "Thriller                           0\n",
      "Film-Noir                          0\n",
      "Comedy                             0\n",
      "Animation                          0\n",
      "Documentary                        0\n",
      "Children                           0\n",
      "War                                0\n",
      "Western                            0\n",
      "Mystery                            0\n",
      "Action                             0\n",
      "Adventure                          0\n",
      "IMAX                               0\n",
      "Romance                            0\n",
      "ratings_avg                        0\n",
      "top_10_user_defined_tags           0\n",
      "relevance_score_for_tags           0\n",
      "10_most_relevant_genome_tags       0\n",
      "relevance_score_for_genome_tags    0\n",
      "rating_count                       0\n",
      "genre_diversity                    0\n",
      "tag_diversity                      0\n",
      "dtype: int64\n",
      "<class 'pandas.core.frame.DataFrame'>\n",
      "RangeIndex: 9815 entries, 0 to 9814\n",
      "Data columns (total 30 columns):\n",
      " #   Column                           Non-Null Count  Dtype  \n",
      "---  ------                           --------------  -----  \n",
      " 0   movieId                          9815 non-null   int64  \n",
      " 1   title                            9815 non-null   object \n",
      " 2   genres                           9815 non-null   object \n",
      " 3   Crime                            9815 non-null   int64  \n",
      " 4   Horror                           9815 non-null   int64  \n",
      " 5   Sci-Fi                           9815 non-null   int64  \n",
      " 6   Drama                            9815 non-null   int64  \n",
      " 7   Musical                          9815 non-null   int64  \n",
      " 8   Fantasy                          9815 non-null   int64  \n",
      " 9   Thriller                         9815 non-null   int64  \n",
      " 10  Film-Noir                        9815 non-null   int64  \n",
      " 11  Comedy                           9815 non-null   int64  \n",
      " 12  Animation                        9815 non-null   int64  \n",
      " 13  Documentary                      9815 non-null   int64  \n",
      " 14  Children                         9815 non-null   int64  \n",
      " 15  War                              9815 non-null   int64  \n",
      " 16  Western                          9815 non-null   int64  \n",
      " 17  Mystery                          9815 non-null   int64  \n",
      " 18  Action                           9815 non-null   int64  \n",
      " 19  Adventure                        9815 non-null   int64  \n",
      " 20  IMAX                             9815 non-null   int64  \n",
      " 21  Romance                          9815 non-null   int64  \n",
      " 22  ratings_avg                      9815 non-null   float64\n",
      " 23  top_10_user_defined_tags         9815 non-null   object \n",
      " 24  relevance_score_for_tags         9815 non-null   float64\n",
      " 25  10_most_relevant_genome_tags     9815 non-null   object \n",
      " 26  relevance_score_for_genome_tags  9815 non-null   float64\n",
      " 27  rating_count                     9815 non-null   int64  \n",
      " 28  genre_diversity                  9815 non-null   int64  \n",
      " 29  tag_diversity                    9815 non-null   int64  \n",
      "dtypes: float64(3), int64(23), object(4)\n",
      "memory usage: 2.2+ MB\n"
     ]
    }
   ],
   "source": [
    "print(f\"Shape of the dataset: {movies_df.shape}\")\n",
    "print(f\"Missing values: {movies_df.isna().sum()}\")\n",
    "movies_df.info()"
   ]
  },
  {
   "cell_type": "markdown",
   "metadata": {},
   "source": [
    "We will now save this dataset!"
   ]
  },
  {
   "cell_type": "code",
   "execution_count": 39,
   "metadata": {},
   "outputs": [],
   "source": [
    "movies_df.to_csv(\"movies_data.csv\")"
   ]
  },
  {
   "cell_type": "code",
   "execution_count": 40,
   "metadata": {},
   "outputs": [
    {
     "data": {
      "text/plain": [
       "(9815, 30)"
      ]
     },
     "execution_count": 40,
     "metadata": {},
     "output_type": "execute_result"
    }
   ],
   "source": [
    "movies_df.shape"
   ]
  },
  {
   "cell_type": "markdown",
   "metadata": {
    "id": "AsC0O7g3htK8"
   },
   "source": [
    "---\n",
    "\n",
    "**Question** : If you have accurately identified and applied the methods for representing the features, you should have more than eight features! How could this happen? Take a moment to think about it.\n",
    "\n",
    "**Answer** : Genre column was made into one hot encoding, making many features!\n",
    "\n",
    "---"
   ]
  },
  {
   "cell_type": "markdown",
   "metadata": {
    "id": "IkuJF9pTh8e2"
   },
   "source": [
    "### 2.2 Choose your features (variables)!\n",
    "\n",
    "With multiple features available for the movies, you need to consider the following two questions: 1. Should you normalize the data or leave it as is? 2. Should you include all these features, or can you reduce the dimensionality of the data?  \n",
    "\n",
    "1. What is the importance of normalizing the data in your analysis, and how does it impact the effectiveness of the clustering algorithms you plan to use?\n",
    "2. If you find that normalizing the values is beneficial, please proceed to normalize the data. To simplify this task, refer to the scikit-learn package for tools and functions that facilitate data normalization.\n",
    "3. Could you provide some insights on dimensionality reduction? What techniques would be effective for reducing the number of features in the dataset, and why might this be beneficial for the analysis?\n",
    "4. If you believe dimensionality reduction would be advantageous, please select a method to reduce the dimensionality of the data."
   ]
  },
  {
   "cell_type": "markdown",
   "metadata": {},
   "source": [
    "---\n",
    "\n",
    "1. Many learning algorithms assume that all features are normalised to some certain range with a certain standard deviation, for example mean of 0 and standard deviation of 1. For example, Principal Component Analysis (PCA) **requires** the variables to be normalized. This is because PCA is sensitive to the variances of the original variables. If the variables are on different scales, those with larger scales will dominate the principal components, which can lead to misleading results.  \n",
    "    \n",
    "    Also, we need normalization for clustering. Normalisation ensures that all features contribute equally to the distance calculations used in clustering algorithms. Without normalization, features with larger scales can dominate the distance metrics, leading to biased clustering results.\n",
    "    \n",
    "    Similarly, K-Means rely on distance metrics (e.g., Euclidean distance) to group similar data points. Normalizing the data ensures that these distance metrics are meaningful and not skewed by features with different scales.\n",
    "\n",
    "2. As outlined above, normalizing the real numbers to a certain is crucial to some learning algorithms. Thus, we will proceed with the `StandardScaler()` function to normalise our data "
   ]
  },
  {
   "cell_type": "code",
   "execution_count": 41,
   "metadata": {},
   "outputs": [],
   "source": [
    "movies_df.drop(columns=[\"genres\", \"title\", \"movieId\", \"top_10_user_defined_tags\", \"10_most_relevant_genome_tags\"], inplace=True)"
   ]
  },
  {
   "cell_type": "code",
   "execution_count": 42,
   "metadata": {
    "id": "0SpZNG45iSDD"
   },
   "outputs": [
    {
     "data": {
      "text/html": [
       "<div>\n",
       "<style scoped>\n",
       "    .dataframe tbody tr th:only-of-type {\n",
       "        vertical-align: middle;\n",
       "    }\n",
       "\n",
       "    .dataframe tbody tr th {\n",
       "        vertical-align: top;\n",
       "    }\n",
       "\n",
       "    .dataframe thead th {\n",
       "        text-align: right;\n",
       "    }\n",
       "</style>\n",
       "<table border=\"1\" class=\"dataframe\">\n",
       "  <thead>\n",
       "    <tr style=\"text-align: right;\">\n",
       "      <th></th>\n",
       "      <th>Crime</th>\n",
       "      <th>Horror</th>\n",
       "      <th>Sci-Fi</th>\n",
       "      <th>Drama</th>\n",
       "      <th>Musical</th>\n",
       "      <th>Fantasy</th>\n",
       "      <th>Thriller</th>\n",
       "      <th>Film-Noir</th>\n",
       "      <th>Comedy</th>\n",
       "      <th>Animation</th>\n",
       "      <th>...</th>\n",
       "      <th>Action</th>\n",
       "      <th>Adventure</th>\n",
       "      <th>IMAX</th>\n",
       "      <th>Romance</th>\n",
       "      <th>ratings_avg</th>\n",
       "      <th>relevance_score_for_tags</th>\n",
       "      <th>relevance_score_for_genome_tags</th>\n",
       "      <th>rating_count</th>\n",
       "      <th>genre_diversity</th>\n",
       "      <th>tag_diversity</th>\n",
       "    </tr>\n",
       "  </thead>\n",
       "  <tbody>\n",
       "    <tr>\n",
       "      <th>0</th>\n",
       "      <td>0</td>\n",
       "      <td>0</td>\n",
       "      <td>0</td>\n",
       "      <td>0</td>\n",
       "      <td>0</td>\n",
       "      <td>1</td>\n",
       "      <td>0</td>\n",
       "      <td>0</td>\n",
       "      <td>1</td>\n",
       "      <td>1</td>\n",
       "      <td>...</td>\n",
       "      <td>0</td>\n",
       "      <td>1</td>\n",
       "      <td>0</td>\n",
       "      <td>0</td>\n",
       "      <td>1.262229</td>\n",
       "      <td>-0.945572</td>\n",
       "      <td>1.485906</td>\n",
       "      <td>9.851924</td>\n",
       "      <td>2.513739</td>\n",
       "      <td>3.284323</td>\n",
       "    </tr>\n",
       "    <tr>\n",
       "      <th>1</th>\n",
       "      <td>0</td>\n",
       "      <td>0</td>\n",
       "      <td>0</td>\n",
       "      <td>0</td>\n",
       "      <td>0</td>\n",
       "      <td>1</td>\n",
       "      <td>0</td>\n",
       "      <td>0</td>\n",
       "      <td>0</td>\n",
       "      <td>0</td>\n",
       "      <td>...</td>\n",
       "      <td>0</td>\n",
       "      <td>1</td>\n",
       "      <td>0</td>\n",
       "      <td>0</td>\n",
       "      <td>-0.151021</td>\n",
       "      <td>-0.265733</td>\n",
       "      <td>-0.161384</td>\n",
       "      <td>4.180585</td>\n",
       "      <td>0.702792</td>\n",
       "      <td>0.885955</td>\n",
       "    </tr>\n",
       "    <tr>\n",
       "      <th>2</th>\n",
       "      <td>0</td>\n",
       "      <td>0</td>\n",
       "      <td>0</td>\n",
       "      <td>0</td>\n",
       "      <td>0</td>\n",
       "      <td>0</td>\n",
       "      <td>0</td>\n",
       "      <td>0</td>\n",
       "      <td>1</td>\n",
       "      <td>0</td>\n",
       "      <td>...</td>\n",
       "      <td>0</td>\n",
       "      <td>0</td>\n",
       "      <td>0</td>\n",
       "      <td>1</td>\n",
       "      <td>-0.272441</td>\n",
       "      <td>1.321004</td>\n",
       "      <td>-1.319131</td>\n",
       "      <td>2.216317</td>\n",
       "      <td>-0.202682</td>\n",
       "      <td>-0.092971</td>\n",
       "    </tr>\n",
       "  </tbody>\n",
       "</table>\n",
       "<p>3 rows × 25 columns</p>\n",
       "</div>"
      ],
      "text/plain": [
       "   Crime  Horror  Sci-Fi  Drama  Musical  Fantasy  Thriller  Film-Noir  \\\n",
       "0      0       0       0      0        0        1         0          0   \n",
       "1      0       0       0      0        0        1         0          0   \n",
       "2      0       0       0      0        0        0         0          0   \n",
       "\n",
       "   Comedy  Animation  ...  Action  Adventure  IMAX  Romance  ratings_avg  \\\n",
       "0       1          1  ...       0          1     0        0     1.262229   \n",
       "1       0          0  ...       0          1     0        0    -0.151021   \n",
       "2       1          0  ...       0          0     0        1    -0.272441   \n",
       "\n",
       "   relevance_score_for_tags  relevance_score_for_genome_tags  rating_count  \\\n",
       "0                 -0.945572                         1.485906      9.851924   \n",
       "1                 -0.265733                        -0.161384      4.180585   \n",
       "2                  1.321004                        -1.319131      2.216317   \n",
       "\n",
       "   genre_diversity  tag_diversity  \n",
       "0         2.513739       3.284323  \n",
       "1         0.702792       0.885955  \n",
       "2        -0.202682      -0.092971  \n",
       "\n",
       "[3 rows x 25 columns]"
      ]
     },
     "execution_count": 42,
     "metadata": {},
     "output_type": "execute_result"
    }
   ],
   "source": [
    "# Now, we will normalise the data using StandardScaler from sklearn\n",
    "from sklearn.preprocessing import StandardScaler\n",
    "\n",
    "scaler = StandardScaler()\n",
    "columns_to_scale = ['ratings_avg','relevance_score_for_tags','relevance_score_for_genome_tags','rating_count','genre_diversity','tag_diversity']\n",
    "\n",
    "movies_df[columns_to_scale] = scaler.fit_transform(movies_df[columns_to_scale])\n",
    "\n",
    "movies_df.head(3)"
   ]
  },
  {
   "cell_type": "markdown",
   "metadata": {
    "id": "A5Cf-lw2jXjS"
   },
   "source": [
    "---\n",
    "\n",
    "3. Could you provide some insights on dimensionality reduction? What techniques would be effective for reducing the number of features in the dataset, and why might this be beneficial for the analysis?\n",
    "\n",
    "Dimensionality reduction refers to techniques that reduce the number of features in a dataset in such a way that the reduced dataset can still capture the essential information contained in the original dataset. Some techniques that can be used for dimensionality reduction include:\n",
    "\n",
    "- **Principal Component Analysis (PCA)**: PCA is a linear dimensionality reduction technique that aims to find the directions (principal components) along which the variance of the data is maximized. By projecting the data onto a lower-dimensional subspace spanned by the principal components, PCA can reduce the dimensionality of the data while retaining most of the variance.\n",
    "- **Singular Value Decomposition (SVD)**: SVD is a matrix factorization technique that can be used for dimensionality reduction. By decomposing the data matrix into three matrices, SVD can capture the underlying structure of the data and reduce its dimensionality.\n",
    "- **Linear Discriminant Analysis (LDA)**: LDA is a supervised dimensionality reduction technique that aims to find the directions that maximize the separation between different classes in the data. By projecting the data onto the directions that maximize the class separation, LDA can reduce the dimensionality of the data while preserving the class structure.\n",
    "\n",
    "Dimensionality reduction can be beneficial for the analysis for several reasons, for example:\n",
    "- **Reduced computational complexity**: By reducing the number of features in the dataset, dimensionality reduction can lead to faster training and inference times for machine learning models.\n",
    "- **Noise reduction**: Dimensionality reduction can help remove noisy features from the dataset, which can improve the generalization performance of machine learning models.\n",
    "- **Visualization**: Dimensionality reduction techniques such as PCA can be used to visualize high-dimensional data in a lower-dimensional space, making it easier to interpret and analyze the data.\n",
    "\n",
    "4. If you believe dimensionality reduction would be advantageous, please select a method to reduce the dimensionality of the data.\n",
    "\n",
    "We will use PCA for dimensionality reduction! PCA works by transforming the original features into a set of orthogonal components that capture the variance in the data. The key idea behind PCA is to identify the directions (principal components) in the feature space where the data varies the most. These components are ordered in decreasing order of the variance they explain, with the first principal component explaining the most variance. If the reduction in the number of features is significant, we will incorporate the PCA. Else, we will stick with our original dataset.\n",
    "\n",
    "NB: Will will only perform PCA on numeric columns that are not one hot encoded, because PCA assumes that the relationships between features are linear. However, one-hot encoding creates features that are not linearly related"
   ]
  },
  {
   "cell_type": "code",
   "execution_count": 43,
   "metadata": {},
   "outputs": [],
   "source": [
    "# data for PCA\n",
    "pca_data = movies_df[columns_to_scale]"
   ]
  },
  {
   "cell_type": "code",
   "execution_count": 44,
   "metadata": {},
   "outputs": [
    {
     "data": {
      "image/png": "[encoded data removed]",
      "text/plain": [
       "<Figure size 1000x600 with 1 Axes>"
      ]
     },
     "metadata": {},
     "output_type": "display_data"
    }
   ],
   "source": [
    "# Lets perform the PCA\n",
    "\n",
    "from sklearn.decomposition import PCA\n",
    "import matplotlib.pyplot as plt\n",
    "\n",
    "pca = PCA(n_components=len(pca_data.columns))\n",
    "pca.fit(pca_data)\n",
    "\n",
    "# Plotting the explained variance ratio\n",
    "\n",
    "plt.figure(figsize=(10, 6))\n",
    "\n",
    "plt.plot(range(1, len(pca.explained_variance_ratio_) + 1), np.cumsum(pca.explained_variance_ratio_), marker='o', linestyle='--')\n",
    "plt.title(\"Explained Variance Ratio by Components\")\n",
    "plt.xlabel(\"Number of Components\")\n",
    "plt.ylabel(\"Cumulative Explained Variance\")\n",
    "plt.xticks(range(1, len(pca.explained_variance_ratio_) + 1))\n",
    "plt.axhline(0.90, color='red', linestyle='--', label='90 percent Explained Variance')\n",
    "plt.legend()\n",
    "plt.grid()\n",
    "plt.show()"
   ]
  },
  {
   "cell_type": "markdown",
   "metadata": {},
   "source": [
    "Since we need more than 4 components (i.e. 5 components) to capture atleast 90% of the variance in the data, the reduction is not that significant from our original 6 features. However, we will still use the PCA data because of the added benefits of reduced dimensions"
   ]
  },
  {
   "cell_type": "code",
   "execution_count": 45,
   "metadata": {},
   "outputs": [
    {
     "data": {
      "text/plain": [
       "(9815, 5)"
      ]
     },
     "execution_count": 45,
     "metadata": {},
     "output_type": "execute_result"
    }
   ],
   "source": [
    "# Now, we will make use of 90% explained variance ratio to reduce the number of components\n",
    "\n",
    "pca = PCA(n_components=0.90)\n",
    "pca.fit(pca_data)\n",
    "\n",
    "pca_data = pca.transform(pca_data)\n",
    "\n",
    "pca_data.shape"
   ]
  },
  {
   "cell_type": "code",
   "execution_count": 46,
   "metadata": {},
   "outputs": [],
   "source": [
    "one_hot_cols = [col for col in movies_df.columns if col not in columns_to_scale]"
   ]
  },
  {
   "cell_type": "code",
   "execution_count": 47,
   "metadata": {},
   "outputs": [
    {
     "data": {
      "text/html": [
       "<div>\n",
       "<style scoped>\n",
       "    .dataframe tbody tr th:only-of-type {\n",
       "        vertical-align: middle;\n",
       "    }\n",
       "\n",
       "    .dataframe tbody tr th {\n",
       "        vertical-align: top;\n",
       "    }\n",
       "\n",
       "    .dataframe thead th {\n",
       "        text-align: right;\n",
       "    }\n",
       "</style>\n",
       "<table border=\"1\" class=\"dataframe\">\n",
       "  <thead>\n",
       "    <tr style=\"text-align: right;\">\n",
       "      <th></th>\n",
       "      <th>Crime</th>\n",
       "      <th>Horror</th>\n",
       "      <th>Sci-Fi</th>\n",
       "      <th>Drama</th>\n",
       "      <th>Musical</th>\n",
       "      <th>Fantasy</th>\n",
       "      <th>Thriller</th>\n",
       "      <th>Film-Noir</th>\n",
       "      <th>Comedy</th>\n",
       "      <th>Animation</th>\n",
       "      <th>...</th>\n",
       "      <th>Mystery</th>\n",
       "      <th>Action</th>\n",
       "      <th>Adventure</th>\n",
       "      <th>IMAX</th>\n",
       "      <th>Romance</th>\n",
       "      <th>PC1</th>\n",
       "      <th>PC2</th>\n",
       "      <th>PC3</th>\n",
       "      <th>PC4</th>\n",
       "      <th>PC5</th>\n",
       "    </tr>\n",
       "  </thead>\n",
       "  <tbody>\n",
       "    <tr>\n",
       "      <th>0</th>\n",
       "      <td>0</td>\n",
       "      <td>0</td>\n",
       "      <td>0</td>\n",
       "      <td>0</td>\n",
       "      <td>0</td>\n",
       "      <td>1</td>\n",
       "      <td>0</td>\n",
       "      <td>0</td>\n",
       "      <td>1</td>\n",
       "      <td>1</td>\n",
       "      <td>...</td>\n",
       "      <td>0</td>\n",
       "      <td>0</td>\n",
       "      <td>1</td>\n",
       "      <td>0</td>\n",
       "      <td>0</td>\n",
       "      <td>8.672747</td>\n",
       "      <td>-2.893161</td>\n",
       "      <td>0.322203</td>\n",
       "      <td>4.369092</td>\n",
       "      <td>-0.435482</td>\n",
       "    </tr>\n",
       "    <tr>\n",
       "      <th>1</th>\n",
       "      <td>0</td>\n",
       "      <td>0</td>\n",
       "      <td>0</td>\n",
       "      <td>0</td>\n",
       "      <td>0</td>\n",
       "      <td>1</td>\n",
       "      <td>0</td>\n",
       "      <td>0</td>\n",
       "      <td>0</td>\n",
       "      <td>0</td>\n",
       "      <td>...</td>\n",
       "      <td>0</td>\n",
       "      <td>0</td>\n",
       "      <td>1</td>\n",
       "      <td>0</td>\n",
       "      <td>0</td>\n",
       "      <td>2.669062</td>\n",
       "      <td>-1.511226</td>\n",
       "      <td>0.093075</td>\n",
       "      <td>2.476483</td>\n",
       "      <td>-0.191862</td>\n",
       "    </tr>\n",
       "    <tr>\n",
       "      <th>2</th>\n",
       "      <td>0</td>\n",
       "      <td>0</td>\n",
       "      <td>0</td>\n",
       "      <td>0</td>\n",
       "      <td>0</td>\n",
       "      <td>0</td>\n",
       "      <td>0</td>\n",
       "      <td>0</td>\n",
       "      <td>1</td>\n",
       "      <td>0</td>\n",
       "      <td>...</td>\n",
       "      <td>0</td>\n",
       "      <td>0</td>\n",
       "      <td>0</td>\n",
       "      <td>0</td>\n",
       "      <td>1</td>\n",
       "      <td>0.154748</td>\n",
       "      <td>-0.066092</td>\n",
       "      <td>0.735749</td>\n",
       "      <td>2.506466</td>\n",
       "      <td>-0.643795</td>\n",
       "    </tr>\n",
       "  </tbody>\n",
       "</table>\n",
       "<p>3 rows × 24 columns</p>\n",
       "</div>"
      ],
      "text/plain": [
       "   Crime  Horror  Sci-Fi  Drama  Musical  Fantasy  Thriller  Film-Noir  \\\n",
       "0      0       0       0      0        0        1         0          0   \n",
       "1      0       0       0      0        0        1         0          0   \n",
       "2      0       0       0      0        0        0         0          0   \n",
       "\n",
       "   Comedy  Animation  ...  Mystery  Action  Adventure  IMAX  Romance  \\\n",
       "0       1          1  ...        0       0          1     0        0   \n",
       "1       0          0  ...        0       0          1     0        0   \n",
       "2       1          0  ...        0       0          0     0        1   \n",
       "\n",
       "        PC1       PC2       PC3       PC4       PC5  \n",
       "0  8.672747 -2.893161  0.322203  4.369092 -0.435482  \n",
       "1  2.669062 -1.511226  0.093075  2.476483 -0.191862  \n",
       "2  0.154748 -0.066092  0.735749  2.506466 -0.643795  \n",
       "\n",
       "[3 rows x 24 columns]"
      ]
     },
     "execution_count": 47,
     "metadata": {},
     "output_type": "execute_result"
    }
   ],
   "source": [
    "# merge the pca_data with the original dataset\n",
    "\n",
    "pca_df = pd.DataFrame(pca_data, columns=[f\"PC{i+1}\" for i in range(pca_data.shape[1])])\n",
    "movies_df = pd.concat([movies_df[one_hot_cols], pca_df], axis=1)\n",
    "movies_df.head(3)"
   ]
  },
  {
   "cell_type": "code",
   "execution_count": 48,
   "metadata": {},
   "outputs": [
    {
     "data": {
      "text/html": [
       "<div>\n",
       "<style scoped>\n",
       "    .dataframe tbody tr th:only-of-type {\n",
       "        vertical-align: middle;\n",
       "    }\n",
       "\n",
       "    .dataframe tbody tr th {\n",
       "        vertical-align: top;\n",
       "    }\n",
       "\n",
       "    .dataframe thead th {\n",
       "        text-align: right;\n",
       "    }\n",
       "</style>\n",
       "<table border=\"1\" class=\"dataframe\">\n",
       "  <thead>\n",
       "    <tr style=\"text-align: right;\">\n",
       "      <th></th>\n",
       "      <th>Crime</th>\n",
       "      <th>Horror</th>\n",
       "      <th>Sci-Fi</th>\n",
       "      <th>Drama</th>\n",
       "      <th>Musical</th>\n",
       "      <th>Fantasy</th>\n",
       "      <th>Thriller</th>\n",
       "      <th>Film-Noir</th>\n",
       "      <th>Comedy</th>\n",
       "      <th>Animation</th>\n",
       "      <th>...</th>\n",
       "      <th>Mystery</th>\n",
       "      <th>Action</th>\n",
       "      <th>Adventure</th>\n",
       "      <th>IMAX</th>\n",
       "      <th>Romance</th>\n",
       "      <th>PC1</th>\n",
       "      <th>PC2</th>\n",
       "      <th>PC3</th>\n",
       "      <th>PC4</th>\n",
       "      <th>PC5</th>\n",
       "    </tr>\n",
       "  </thead>\n",
       "  <tbody>\n",
       "    <tr>\n",
       "      <th>0</th>\n",
       "      <td>0</td>\n",
       "      <td>0</td>\n",
       "      <td>0</td>\n",
       "      <td>0</td>\n",
       "      <td>0</td>\n",
       "      <td>1</td>\n",
       "      <td>0</td>\n",
       "      <td>0</td>\n",
       "      <td>1</td>\n",
       "      <td>1</td>\n",
       "      <td>...</td>\n",
       "      <td>0</td>\n",
       "      <td>0</td>\n",
       "      <td>1</td>\n",
       "      <td>0</td>\n",
       "      <td>0</td>\n",
       "      <td>5.733408</td>\n",
       "      <td>-2.846504</td>\n",
       "      <td>0.324148</td>\n",
       "      <td>4.848162</td>\n",
       "      <td>-0.562674</td>\n",
       "    </tr>\n",
       "    <tr>\n",
       "      <th>1</th>\n",
       "      <td>0</td>\n",
       "      <td>0</td>\n",
       "      <td>0</td>\n",
       "      <td>0</td>\n",
       "      <td>0</td>\n",
       "      <td>1</td>\n",
       "      <td>0</td>\n",
       "      <td>0</td>\n",
       "      <td>0</td>\n",
       "      <td>0</td>\n",
       "      <td>...</td>\n",
       "      <td>0</td>\n",
       "      <td>0</td>\n",
       "      <td>1</td>\n",
       "      <td>0</td>\n",
       "      <td>0</td>\n",
       "      <td>1.764473</td>\n",
       "      <td>-1.486855</td>\n",
       "      <td>0.093637</td>\n",
       "      <td>2.748030</td>\n",
       "      <td>-0.247900</td>\n",
       "    </tr>\n",
       "    <tr>\n",
       "      <th>2</th>\n",
       "      <td>0</td>\n",
       "      <td>0</td>\n",
       "      <td>0</td>\n",
       "      <td>0</td>\n",
       "      <td>0</td>\n",
       "      <td>0</td>\n",
       "      <td>0</td>\n",
       "      <td>0</td>\n",
       "      <td>1</td>\n",
       "      <td>0</td>\n",
       "      <td>...</td>\n",
       "      <td>0</td>\n",
       "      <td>0</td>\n",
       "      <td>0</td>\n",
       "      <td>0</td>\n",
       "      <td>1</td>\n",
       "      <td>0.102302</td>\n",
       "      <td>-0.065026</td>\n",
       "      <td>0.740192</td>\n",
       "      <td>2.781300</td>\n",
       "      <td>-0.831830</td>\n",
       "    </tr>\n",
       "  </tbody>\n",
       "</table>\n",
       "<p>3 rows × 24 columns</p>\n",
       "</div>"
      ],
      "text/plain": [
       "   Crime  Horror  Sci-Fi  Drama  Musical  Fantasy  Thriller  Film-Noir  \\\n",
       "0      0       0       0      0        0        1         0          0   \n",
       "1      0       0       0      0        0        1         0          0   \n",
       "2      0       0       0      0        0        0         0          0   \n",
       "\n",
       "   Comedy  Animation  ...  Mystery  Action  Adventure  IMAX  Romance  \\\n",
       "0       1          1  ...        0       0          1     0        0   \n",
       "1       0          0  ...        0       0          1     0        0   \n",
       "2       1          0  ...        0       0          0     0        1   \n",
       "\n",
       "        PC1       PC2       PC3       PC4       PC5  \n",
       "0  5.733408 -2.846504  0.324148  4.848162 -0.562674  \n",
       "1  1.764473 -1.486855  0.093637  2.748030 -0.247900  \n",
       "2  0.102302 -0.065026  0.740192  2.781300 -0.831830  \n",
       "\n",
       "[3 rows x 24 columns]"
      ]
     },
     "execution_count": 48,
     "metadata": {},
     "output_type": "execute_result"
    }
   ],
   "source": [
    "# scale the data for clustering\n",
    "columns_to_scale = [col for col in movies_df.columns if col.startswith(\"PC\")]\n",
    "scaler = StandardScaler()\n",
    "movies_df[columns_to_scale] = scaler.fit_transform(movies_df[columns_to_scale])\n",
    "\n",
    "movies_df.head(3)"
   ]
  },
  {
   "cell_type": "code",
   "execution_count": 49,
   "metadata": {},
   "outputs": [],
   "source": [
    "movies_df.dropna(inplace=True)"
   ]
  },
  {
   "cell_type": "markdown",
   "metadata": {
    "id": "vRRPkjpFr6zP"
   },
   "source": [
    "---\n",
    "\n",
    "### 2.3 Clustering.\n",
    "\n",
    "Now that you have prepared the data, you can create the clusters.\n",
    "\n",
    "Q: How can you determine the optimal number of clusters for your data? Please use at least two methods and provide their results.  \n",
    "\n",
    "A: The two most common methods for choosing the number of clusters in a clustering problem are: The elbow method and the silhouette score method.  \n",
    "\n",
    "**Elbow Method**: The elbow method is a heuristic used to determine the optimal number of clusters in a dataset. The method involves plotting the explained variation as a function of the number of clusters, and the \"elbow\" point is the point at which the rate of decrease sharply changes. This method is based on the principle that the optimal number of clusters is the point at which the explained variation begins to decrease at a slower rate. It uses the sum of squared distances between data points and their assigned clusters' centroids. The sum of squared distances is calculated for each number of clusters, and the optimal number of clusters is chosen based on the \"elbow\" point in the plot of the sum of squared distances.\n",
    "\n",
    "To interpret the elbow method, we look for the point where the explained variation begins to decrease at a slower rate, forming an \"elbow\" shape in the plot. This point indicates the optimal number of clusters for the dataset.\n",
    "\n",
    "**Silhouette Score Method**: The silhouette score is a measure of how similar an object is to its cluster compared to other clusters. The silhouette score ranges from -1 to 1, where a high value indicates that the object is well matched to its own cluster and poorly matched to neighboring clusters. The silhouette score is calculated for each number of clusters, and the optimal number of clusters is chosen based on the highest silhouette score."
   ]
  },
  {
   "cell_type": "code",
   "execution_count": 50,
   "metadata": {},
   "outputs": [
    {
     "data": {
      "image/png": "[encoded data removed]",
      "text/plain": [
       "<Figure size 800x550 with 1 Axes>"
      ]
     },
     "metadata": {},
     "output_type": "display_data"
    },
    {
     "data": {
      "text/plain": [
       "<Axes: title={'center': 'Distortion Score Elbow for KMeans Clustering'}, xlabel='k', ylabel='distortion score'>"
      ]
     },
     "execution_count": 50,
     "metadata": {},
     "output_type": "execute_result"
    }
   ],
   "source": [
    "from sklearn.cluster import KMeans\n",
    "from yellowbrick.cluster import KElbowVisualizer\n",
    "\n",
    "# Instantiate the clustering model and visualizer\n",
    "model = KMeans()\n",
    "visualizer = KElbowVisualizer(model, k=(3,10), timings=False)\n",
    "visualizer.fit(movies_df) # Fit the data to the visualizer\n",
    "visualizer.show() # Finalize and render the figure"
   ]
  },
  {
   "cell_type": "code",
   "execution_count": 51,
   "metadata": {},
   "outputs": [
    {
     "data": {
      "image/png": "[encoded data removed]",
      "text/plain": [
       "<Figure size 800x550 with 1 Axes>"
      ]
     },
     "metadata": {},
     "output_type": "display_data"
    },
    {
     "data": {
      "text/plain": [
       "<Axes: title={'center': 'Silhouette Score Elbow for KMeans Clustering'}, xlabel='k', ylabel='silhouette score'>"
      ]
     },
     "execution_count": 51,
     "metadata": {},
     "output_type": "execute_result"
    }
   ],
   "source": [
    "model = KMeans()\n",
    "visualizer = KElbowVisualizer(\n",
    "model, k=(4,10), metric='silhouette', timings=False)\n",
    "visualizer.fit(movies_df) # Fit the data to the visualizer\n",
    "visualizer.show() # Finalize and render the figue"
   ]
  },
  {
   "cell_type": "markdown",
   "metadata": {},
   "source": [
    "Both the elbow and silhouette score suggest that the optimal number of clusters is 5 or 6!\n",
    "\n",
    "---"
   ]
  },
  {
   "cell_type": "markdown",
   "metadata": {},
   "source": [
    "2. Implement the K-means clustering algorithm (not K-means++) through MapReduce. We request that you develop the algorithm from scratch based on what you've learned in class and run the algorithm on your data."
   ]
  },
  {
   "cell_type": "code",
   "execution_count": 52,
   "metadata": {},
   "outputs": [
    {
     "name": "stderr",
     "output_type": "stream",
     "text": [
      "Setting default log level to \"WARN\".\n",
      "To adjust logging level use sc.setLogLevel(newLevel). For SparkR, use setLogLevel(newLevel).\n",
      "24/12/06 20:29:12 WARN NativeCodeLoader: Unable to load native-hadoop library for your platform... using builtin-java classes where applicable\n"
     ]
    }
   ],
   "source": [
    "# initialize the SparkContext\n",
    "sc = SparkContext.getOrCreate()\n",
    "\n",
    "# Add an index to the DataFrame (PointID) and convert to RDD\n",
    "data_rdd = sc.parallelize(movies_df.reset_index().values.tolist())"
   ]
  },
  {
   "cell_type": "code",
   "execution_count": 53,
   "metadata": {},
   "outputs": [
    {
     "name": "stderr",
     "output_type": "stream",
     "text": [
      "                                                                                \r"
     ]
    },
    {
     "name": "stdout",
     "output_type": "stream",
     "text": [
      "Iteration 1: Centroid shift = 4.7438\n",
      "Inertia: 7.948990076154487\n",
      "Iteration 2: Centroid shift = 1.5177\n",
      "Inertia: 4.998149919607088\n",
      "Iteration 3: Centroid shift = 0.8631\n",
      "Inertia: 4.632170090574506\n",
      "Iteration 4: Centroid shift = 1.1273\n",
      "Inertia: 4.4686625945904455\n",
      "Iteration 5: Centroid shift = 1.0458\n",
      "Inertia: 4.259038001102501\n",
      "Iteration 6: Centroid shift = 0.4546\n",
      "Inertia: 4.153382985236937\n",
      "Iteration 7: Centroid shift = 0.2015\n",
      "Inertia: 4.129723392131611\n",
      "Iteration 8: Centroid shift = 0.1286\n",
      "Inertia: 4.122655269847466\n",
      "Iteration 9: Centroid shift = 0.1167\n",
      "Inertia: 4.1185465237411565\n",
      "Iteration 10: Centroid shift = 0.1013\n",
      "Inertia: 4.114900463822469\n"
     ]
    }
   ],
   "source": [
    "kmeans = MyKMeans(k=6, num_iterations=10, tolerance=1e-4)\n",
    "# Fit the model\n",
    "cluster_assignments = kmeans.fit(data_rdd)"
   ]
  },
  {
   "cell_type": "code",
   "execution_count": 54,
   "metadata": {},
   "outputs": [
    {
     "data": {
      "text/html": [
       "<div>\n",
       "<style scoped>\n",
       "    .dataframe tbody tr th:only-of-type {\n",
       "        vertical-align: middle;\n",
       "    }\n",
       "\n",
       "    .dataframe tbody tr th {\n",
       "        vertical-align: top;\n",
       "    }\n",
       "\n",
       "    .dataframe thead th {\n",
       "        text-align: right;\n",
       "    }\n",
       "</style>\n",
       "<table border=\"1\" class=\"dataframe\">\n",
       "  <thead>\n",
       "    <tr style=\"text-align: right;\">\n",
       "      <th></th>\n",
       "      <th>ClusterID</th>\n",
       "      <th>PointID</th>\n",
       "      <th>Features</th>\n",
       "    </tr>\n",
       "  </thead>\n",
       "  <tbody>\n",
       "    <tr>\n",
       "      <th>0</th>\n",
       "      <td>2</td>\n",
       "      <td>0.0</td>\n",
       "      <td>[0.0, 0.0, 0.0, 0.0, 0.0, 1.0, 0.0, 0.0, 1.0, ...</td>\n",
       "    </tr>\n",
       "    <tr>\n",
       "      <th>1</th>\n",
       "      <td>2</td>\n",
       "      <td>1.0</td>\n",
       "      <td>[0.0, 0.0, 0.0, 0.0, 0.0, 1.0, 0.0, 0.0, 0.0, ...</td>\n",
       "    </tr>\n",
       "    <tr>\n",
       "      <th>2</th>\n",
       "      <td>4</td>\n",
       "      <td>2.0</td>\n",
       "      <td>[0.0, 0.0, 0.0, 0.0, 0.0, 0.0, 0.0, 0.0, 1.0, ...</td>\n",
       "    </tr>\n",
       "  </tbody>\n",
       "</table>\n",
       "</div>"
      ],
      "text/plain": [
       "   ClusterID  PointID                                           Features\n",
       "0          2      0.0  [0.0, 0.0, 0.0, 0.0, 0.0, 1.0, 0.0, 0.0, 1.0, ...\n",
       "1          2      1.0  [0.0, 0.0, 0.0, 0.0, 0.0, 1.0, 0.0, 0.0, 0.0, ...\n",
       "2          4      2.0  [0.0, 0.0, 0.0, 0.0, 0.0, 0.0, 0.0, 0.0, 1.0, ..."
      ]
     },
     "execution_count": 54,
     "metadata": {},
     "output_type": "execute_result"
    }
   ],
   "source": [
    "cluster_assignments.head(3)"
   ]
  },
  {
   "cell_type": "code",
   "execution_count": 55,
   "metadata": {},
   "outputs": [
    {
     "data": {
      "text/plain": [
       "ClusterID\n",
       "0    [3.0, 36.0, 53.0, 64.0, 68.0, 76.0, 93.0, 106....\n",
       "1    [7.0, 17.0, 25.0, 26.0, 27.0, 29.0, 30.0, 34.0...\n",
       "2    [0.0, 1.0, 5.0, 9.0, 10.0, 15.0, 16.0, 18.0, 2...\n",
       "3    [8.0, 13.0, 14.0, 23.0, 42.0, 43.0, 58.0, 73.0...\n",
       "4    [2.0, 4.0, 6.0, 11.0, 37.0, 52.0, 57.0, 60.0, ...\n",
       "5    [12.0, 19.0, 21.0, 22.0, 28.0, 32.0, 41.0, 44....\n",
       "Name: PointID, dtype: object"
      ]
     },
     "execution_count": 55,
     "metadata": {},
     "output_type": "execute_result"
    }
   ],
   "source": [
    "cluster_assignments.groupby(\"ClusterID\")[\"PointID\"].apply(list)"
   ]
  },
  {
   "cell_type": "markdown",
   "metadata": {},
   "source": [
    "#### In the output above, one can see the cluster assignments for each point in the dataset. The CluserID (as an index in the output) represents the cluster number, and the list represents the points (movies) assigned to that cluster."
   ]
  },
  {
   "cell_type": "markdown",
   "metadata": {},
   "source": [
    "3. Implement the K-means++ algorithm from scratch and apply it to your data. Do you notice any differences between the results obtained using random initialization and those achieved with K-means++? Please explain your observations and discuss why these differences might occur."
   ]
  },
  {
   "cell_type": "code",
   "execution_count": 56,
   "metadata": {},
   "outputs": [
    {
     "name": "stdout",
     "output_type": "stream",
     "text": [
      "Iteration 1: Centroid shift = 3.8779\n",
      "Inertia: 5.996625745908627\n",
      "Iteration 2: Centroid shift = 0.8872\n",
      "Inertia: 4.45476879110224\n",
      "Iteration 3: Centroid shift = 0.4676\n",
      "Inertia: 4.329232506667668\n",
      "Iteration 4: Centroid shift = 0.3606\n",
      "Inertia: 4.275595651563271\n",
      "Iteration 5: Centroid shift = 0.3475\n",
      "Inertia: 4.234595839808774\n",
      "Iteration 6: Centroid shift = 0.3635\n",
      "Inertia: 4.196983121964972\n",
      "Iteration 7: Centroid shift = 0.3247\n",
      "Inertia: 4.1611871834210845\n",
      "Iteration 8: Centroid shift = 0.3032\n",
      "Inertia: 4.133747817387603\n",
      "Iteration 9: Centroid shift = 0.2624\n",
      "Inertia: 4.109915104833848\n",
      "Iteration 10: Centroid shift = 0.2655\n",
      "Inertia: 4.090034478363129\n",
      "ClusterID\n",
      "0    [2.0, 4.0, 6.0, 7.0, 29.0, 32.0, 34.0, 45.0, 5...\n",
      "1    [19.0, 21.0, 28.0, 41.0, 44.0, 47.0, 50.0, 75....\n",
      "2    [8.0, 13.0, 17.0, 25.0, 26.0, 27.0, 30.0, 39.0...\n",
      "3    [3.0, 11.0, 36.0, 53.0, 64.0, 68.0, 71.0, 76.0...\n",
      "4    [0.0, 1.0, 5.0, 9.0, 10.0, 15.0, 16.0, 18.0, 2...\n",
      "5    [12.0, 14.0, 22.0, 23.0, 37.0, 43.0, 57.0, 62....\n",
      "Name: PointID, dtype: object\n"
     ]
    }
   ],
   "source": [
    "kmeans_plus = KMeansPlusPlus(k=6, num_iterations=10, tolerance=1e-4)\n",
    "\n",
    "# Fit the model\n",
    "cluster_assignments = kmeans_plus.fit(data_rdd)\n",
    "\n",
    "print(cluster_assignments.groupby(\"ClusterID\")[\"PointID\"].apply(list))"
   ]
  },
  {
   "cell_type": "markdown",
   "metadata": {},
   "source": [
    "<strong> We can see that there is a better convergence with Kmeans++ "
   ]
  },
  {
   "cell_type": "markdown",
   "metadata": {},
   "source": [
    "\n",
    "4. Ask an LLM (ChatGPT, Claude Al, Gemini, Perplexity, etc.) to recommend another clustering algorithm. Use that LLM to describe the workings of the algorithm, as well as its advantages and disadvantages compared to K-means and K-means++. Additionally, ask to implement the algorithm for you or utilize an existing version from a package. Apply that algorithm to your data and explain any differences you observe in the results compared to those obtained previously."
   ]
  },
  {
   "cell_type": "code",
   "execution_count": 57,
   "metadata": {},
   "outputs": [
    {
     "name": "stdout",
     "output_type": "stream",
     "text": [
      "Number of clusters found: 55\n",
      "Number of noise points: 6776\n",
      "\n",
      "Cluster Distribution Comparison:\n",
      "DBSCAN_Cluster\n",
      "-1     6776\n",
      " 0     1106\n",
      " 4      492\n",
      " 2      254\n",
      " 1      242\n",
      " 3      224\n",
      " 10     131\n",
      " 9      119\n",
      " 13      56\n",
      " 19      29\n",
      " 7       26\n",
      " 11      22\n",
      " 14      22\n",
      " 31      22\n",
      " 30      20\n",
      " 5       18\n",
      " 15      14\n",
      " 23      12\n",
      " 21      12\n",
      " 32      11\n",
      " 17      10\n",
      " 6       10\n",
      " 33       9\n",
      " 29       8\n",
      " 36       8\n",
      " 22       8\n",
      " 43       8\n",
      " 37       7\n",
      " 24       7\n",
      " 27       7\n",
      " 38       6\n",
      " 34       6\n",
      " 39       6\n",
      " 25       6\n",
      " 52       5\n",
      " 46       5\n",
      " 45       5\n",
      " 50       5\n",
      " 35       5\n",
      " 16       5\n",
      " 47       5\n",
      " 26       5\n",
      " 41       5\n",
      " 18       5\n",
      " 54       5\n",
      " 48       5\n",
      " 28       5\n",
      " 12       5\n",
      " 40       5\n",
      " 51       5\n",
      " 42       5\n",
      " 49       4\n",
      " 20       3\n",
      " 44       3\n",
      " 8        3\n",
      " 53       3\n",
      "Name: count, dtype: int64\n"
     ]
    }
   ],
   "source": [
    "from sklearn.cluster import DBSCAN\n",
    "from sklearn.preprocessing import StandardScaler\n",
    "\n",
    "\n",
    "# Perform DBSCAN\n",
    "dbscan = DBSCAN(eps=0.5, min_samples=5)\n",
    "dbscan_labels = dbscan.fit_predict(movies_df)\n",
    "\n",
    "# Analyze results\n",
    "unique_clusters = set(dbscan_labels)\n",
    "print(f\"Number of clusters found: {len(unique_clusters) - (1 if -1 in unique_clusters else 0)}\")\n",
    "print(f\"Number of noise points: {list(dbscan_labels).count(-1)}\")\n",
    "\n",
    "# Compare with K-means cluster assignments\n",
    "comparison_df = pd.DataFrame({\n",
    "    'K-means_Cluster': cluster_assignments['ClusterID'],\n",
    "    'DBSCAN_Cluster': dbscan_labels\n",
    "})\n",
    "print(\"\\nCluster Distribution Comparison:\")\n",
    "print(comparison_df['DBSCAN_Cluster'].value_counts())"
   ]
  },
  {
   "cell_type": "code",
   "execution_count": 58,
   "metadata": {},
   "outputs": [
    {
     "name": "stdout",
     "output_type": "stream",
     "text": [
      "Cluster Distribution:\n",
      "4    5125\n",
      "0    1580\n",
      "5    1512\n",
      "3     859\n",
      "2     417\n",
      "1     322\n",
      "Name: count, dtype: int64\n",
      "\n",
      "Cluster Agreement:\n",
      "GMM_Cluster        0    1    2    3     4    5\n",
      "K-means_Cluster                               \n",
      "0                165   21   15  141  1354  211\n",
      "1                479  193  259  255   420  458\n",
      "2                172   45    9  157  2394  278\n",
      "3                111   19   18  127   631  164\n",
      "4                132   13   52   28   120   31\n",
      "5                521   31   64  151   206  370\n",
      "\n",
      "Model Metrics:\n",
      "Log-Likelihood: 51.37362621546372\n"
     ]
    }
   ],
   "source": [
    "from sklearn.mixture import GaussianMixture\n",
    "\n",
    "\n",
    "# Perform Gaussian Mixture Clustering\n",
    "gmm = GaussianMixture(n_components=6, random_state=42)\n",
    "gmm_labels = gmm.fit_predict(movies_df)\n",
    "\n",
    "# Analyze results\n",
    "cluster_distribution = pd.Series(gmm_labels).value_counts()\n",
    "print(\"Cluster Distribution:\")\n",
    "print(cluster_distribution)\n",
    "\n",
    "# Compare with previous clustering methods\n",
    "comparison_df = pd.DataFrame({\n",
    "    'K-means_Cluster': cluster_assignments['ClusterID'],\n",
    "    'DBSCAN_Cluster': dbscan_labels,\n",
    "    'GMM_Cluster': gmm_labels\n",
    "})\n",
    "\n",
    "print(\"\\nCluster Agreement:\")\n",
    "print(pd.crosstab(comparison_df['K-means_Cluster'], comparison_df['GMM_Cluster']))\n",
    "\n",
    "# Compute BIC and log-likelihood to assess model fit\n",
    "print(\"\\nModel Metrics:\")\n",
    "print(f\"Log-Likelihood: {gmm.score(movies_df)}\")"
   ]
  },
  {
   "cell_type": "markdown",
   "metadata": {},
   "source": [
    "## <strong> 2.4 Best Algorithm"
   ]
  },
  {
   "cell_type": "markdown",
   "metadata": {},
   "source": [
    "Clustering helps identify natural groupings within data, but no single algorithm works best for every dataset. In this section, you’ll learn how to choose the most suitable clustering method based on your data’s unique characteristics. By analyzing patterns and comparing results, you’ll uncover which algorithm provides the most meaningful insights and clusters."
   ]
  },
  {
   "cell_type": "markdown",
   "metadata": {},
   "source": [
    "2.4.1. Set the number of clusters to the optimal number k based on any of the methods previously."
   ]
  },
  {
   "cell_type": "code",
   "execution_count": 59,
   "metadata": {},
   "outputs": [],
   "source": [
    "k = 5 #optimal k"
   ]
  },
  {
   "cell_type": "markdown",
   "metadata": {},
   "source": [
    "2.4.2. Select three distinct metrics to assess the quality of the clusters. Describe each metric in detail, including the specific aspects they evaluate to determine the effectiveness of the clustering model."
   ]
  },
  {
   "cell_type": "markdown",
   "metadata": {},
   "source": [
    "\n",
    "\n",
    "## Clustering metrics we chose\n",
    "\n",
    "### **1. Silhouette Score**\n",
    "\n",
    "The **Silhouette Score** evaluates how well each data point fits within its assigned cluster compared to other clusters. It is defined as:\n",
    "\n",
    "$\n",
    "s(i) = \\frac{b(i) - a(i)}{\\max(a(i), b(i))}\n",
    "$\n",
    "\n",
    "Where:\n",
    "- $ a(i) $: The average distance from point $ i $ to all other points in the same cluster.\n",
    "- $ b(i) $: The average distance from point $ i $ to all points in the nearest cluster (not including its own).\n",
    "\n",
    "The Silhouette Score ranges from $-1$ to $1$:\n",
    "- $ s(i) \\approx 1 $: The point is well-clustered.\n",
    "- $ s(i) \\approx 0 $: The point lies on the boundary between clusters.\n",
    "- $ s(i) \\approx -1 $: The point is likely misclassified.\n",
    "\n",
    "---\n",
    "\n",
    "### **2. Davies-Bouldin Index**\n",
    "\n",
    "The **Davies-Bouldin Index** measures the average similarity ratio of each cluster with its most similar cluster. It is defined as:\n",
    "\n",
    "$\n",
    "DB = \\frac{1}{k} \\sum_{i=1}^{k} \\max_{j \\neq i} \\left( \\frac{\\sigma_i + \\sigma_j}{d(c_i, c_j)} \\right)\n",
    "$\n",
    "\n",
    "Where:\n",
    "- $ k $: The number of clusters.\n",
    "- $ \\sigma_i $: The average distance between points in cluster $ i $ and their cluster centroid.\n",
    "- $ d(c_i, c_j) $: The Euclidean distance between centroids $ c_i $ and $ c_j $.\n",
    "\n",
    "Lower values of $ DB $ indicate better clustering (more compact and well-separated clusters).\n",
    "\n",
    "---\n",
    "\n",
    "### **3. Calinski-Harabasz Index**\n",
    "\n",
    "The **Calinski-Harabasz Index**, also known as the Variance Ratio Criterion, measures the ratio of between-cluster dispersion to within-cluster dispersion. It is defined as:\n",
    "\n",
    "$\n",
    "CH = \\frac{\\text{Tr}(B_k)}{\\text{Tr}(W_k)} \\cdot \\frac{N - k}{k - 1}\n",
    "$\n",
    "\n",
    "Where:\n",
    "- $ N $: The total number of data points.\n",
    "- $ k $: The number of clusters.\n",
    "- $ \\text{Tr}(B_k) $: Trace of the between-cluster dispersion matrix.\n",
    "- $ \\text{Tr}(W_k) $: Trace of the within-cluster dispersion matrix.\n",
    "\n",
    "Higher values of $ CH $ indicate better clustering (higher separation and cohesion).\n",
    "\n",
    "---\n",
    "\n",
    "### Summary Table\n",
    "\n",
    "| Metric                  | Ideal Value    | Interpretation                                          |\n",
    "|-------------------------|----------------|---------------------------------------------------------|\n",
    "| **Silhouette Score**    | Close to $1$ | Well-defined, compact, and separated clusters.         |\n",
    "| **Davies-Bouldin Index**| Close to $0$ | Compact clusters with high separation.                 |\n",
    "| **Calinski-Harabasz**   | Higher values  | Higher separation between clusters and compact within. |\n",
    "\n"
   ]
  },
  {
   "cell_type": "code",
   "execution_count": 60,
   "metadata": {},
   "outputs": [],
   "source": [
    "from sklearn.cluster import KMeans, DBSCAN\n",
    "from sklearn.mixture import GaussianMixture\n",
    "from sklearn.metrics import silhouette_score, davies_bouldin_score, calinski_harabasz_score\n",
    "\n",
    "X = movies_df\n",
    "# Initialize clustering algorithms\n",
    "clustering_algorithms = {\n",
    "    \"Gaussian Mixture Model\": GaussianMixture(n_components=k, random_state=42), # <- to change into our kmean\n",
    "    \"KMeans\": KMeans(n_clusters=k, random_state=42),\n",
    "    \"DBSCAN\": DBSCAN(eps=0.5, min_samples=10)\n",
    "}\n",
    "\n",
    "# Dictionary to store results\n",
    "results = {}\n",
    "\n",
    "for name, model in clustering_algorithms.items():\n",
    "    # Fit the model and predict cluster labels\n",
    "    if name == \"DBSCAN\":\n",
    "        labels = model.fit_predict(X)\n",
    "    else:\n",
    "        labels = model.fit(X).predict(X)\n",
    "\n",
    "    # Calculate metrics if clusters are defined (DBSCAN might label noise as -1)\n",
    "    if len(set(labels)) > 1:\n",
    "        silhouette = silhouette_score(X, labels)\n",
    "        davies_bouldin = davies_bouldin_score(X, labels)\n",
    "        calinski_harabasz = calinski_harabasz_score(X, labels)\n",
    "    else:\n",
    "        silhouette = None\n",
    "        davies_bouldin = None\n",
    "        calinski_harabasz = None\n",
    "\n",
    "    # Store results\n",
    "    results[name] = {\n",
    "        \"Silhouette Score\": silhouette,\n",
    "        \"Davies-Bouldin Index\": davies_bouldin,\n",
    "        \"Calinski-Harabasz Index\": calinski_harabasz\n",
    "    }\n"
   ]
  },
  {
   "cell_type": "code",
   "execution_count": 61,
   "metadata": {},
   "outputs": [
    {
     "name": "stdout",
     "output_type": "stream",
     "text": [
      "Results for Gaussian Mixture Model:\n",
      "  Silhouette Score: 0.04926944411019049\n",
      "  Davies-Bouldin Index: 4.641297383424945\n",
      "  Calinski-Harabasz Index: 299.7616135378408\n",
      "\n",
      "Results for KMeans:\n",
      "  Silhouette Score: 0.1320946842537841\n",
      "  Davies-Bouldin Index: 1.7159412318525487\n",
      "  Calinski-Harabasz Index: 1297.4129004852164\n",
      "\n",
      "Results for DBSCAN:\n",
      "  Silhouette Score: -0.2554862777562987\n",
      "  Davies-Bouldin Index: 1.8697338149596965\n",
      "  Calinski-Harabasz Index: 58.342954062002484\n",
      "\n"
     ]
    }
   ],
   "source": [
    "# Display the evaluation results\n",
    "for algo, metrics in results.items():\n",
    "    print(f\"Results for {algo}:\")\n",
    "    for metric, value in metrics.items():\n",
    "        print(f\"  {metric}: {value if value is not None else 'N/A'}\")\n",
    "    print()\n"
   ]
  },
  {
   "cell_type": "markdown",
   "metadata": {},
   "source": [
    "\n",
    "\n",
    "### **Results Analysis**\n",
    "\n",
    "| Metric                  | GMM                | KMeans             | DBSCAN            | Interpretation                                                                                     |\n",
    "|-------------------------|--------------------|--------------------|-------------------|---------------------------------------------------------------------------------------------------|\n",
    "| **Silhouette Score**    | $0.0726 $      | $0.1915 $       | $-0.1233 $     | Higher is better. KMeans has the best result, indicating better-defined clusters. DBSCAN struggles significantly. |\n",
    "| **Davies-Bouldin Index**| $2.3005 $      | $1.3512 $       | $1.8898 $      | Lower is better. KMeans performs the best, showing compact and well-separated clusters.           |\n",
    "| **Calinski-Harabasz**   | $1063.9338 $   | $1937.7045 $    | $164.3101 $    | Higher is better. KMeans significantly outperforms both GMM and DBSCAN in terms of cluster quality. |\n",
    "\n",
    "---\n",
    "\n",
    "### **Observations**\n",
    "\n",
    "1. **Gaussian Mixture Model (GMM)**:\n",
    "   - The **Silhouette Score** is positive but very low, indicating weak cluster definition.\n",
    "   - The **Davies-Bouldin Index** is relatively high, meaning the clusters are not well-separated.\n",
    "   - The **Calinski-Harabasz Index** is decent but falls short compared to KMeans.\n",
    "   - GMM struggles to form distinct clusters effectively for this dataset.\n",
    "\n",
    "2. **KMeans**:\n",
    "   - The best-performing algorithm across all metrics.\n",
    "   - The **Silhouette Score** is highest, indicating well-separated clusters.\n",
    "   - The **Davies-Bouldin Index** is the lowest, showing compact clusters.\n",
    "   - The **Calinski-Harabasz Index** is the highest, reflecting strong cohesion and separation.\n",
    "   - KMeans is the most suitable algorithm for this dataset.\n",
    "\n",
    "3. **DBSCAN**:\n",
    "   - The **Silhouette Score** is negative, suggesting overlapping clusters or poor clustering.\n",
    "   - The **Davies-Bouldin Index** is better than GMM but worse than KMeans.\n",
    "   - The **Calinski-Harabasz Index** is extremely low, likely due to poor performance in separating clusters or treating many points as noise.\n",
    "   - DBSCAN is unsuitable for this dataset, possibly because the clusters are not well-defined.\n",
    "\n",
    "---\n"
   ]
  }
 ],
 "metadata": {
  "colab": {
   "provenance": []
  },
  "kernelspec": {
   "display_name": "base",
   "language": "python",
   "name": "python3"
  },
  "language_info": {
   "codemirror_mode": {
    "name": "ipython",
    "version": 3
   },
   "file_extension": ".py",
   "mimetype": "text/x-python",
   "name": "python",
   "nbconvert_exporter": "python",
   "pygments_lexer": "ipython3",
   "version": "3.12.7"
  }
 },
 "nbformat": 4,
 "nbformat_minor": 4
}
