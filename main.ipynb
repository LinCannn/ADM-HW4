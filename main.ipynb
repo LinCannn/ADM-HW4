{
 "cells": [
  {
   "cell_type": "markdown",
   "metadata": {},
   "source": [
    "Download the dataset"
   ]
  },
  {
   "cell_type": "code",
   "execution_count": 1,
   "metadata": {},
   "outputs": [
    {
     "name": "stdout",
     "output_type": "stream",
     "text": [
      "Path to dataset files: /home/pavka/.cache/kagglehub/datasets/grouplens/movielens-20m-dataset/versions/1\n"
     ]
    }
   ],
   "source": [
    "import kagglehub\n",
    "\n",
    "# Download latest version\n",
    "path = kagglehub.dataset_download(\"grouplens/movielens-20m-dataset\")\n",
    "\n",
    "print(\"Path to dataset files:\", path)"
   ]
  },
  {
   "cell_type": "code",
   "execution_count": 2,
   "metadata": {},
   "outputs": [],
   "source": [
    "import numpy\n",
    "import pandas as pd\n",
    "import random\n",
    "from sympy import isprime\n",
    "import matplotlib.pyplot as plt\n",
    "from collections import defaultdict\n",
    "from itertools import combinations"
   ]
  },
  {
   "cell_type": "markdown",
   "metadata": {},
   "source": [
    "## <strong> 1. Recommendation System with LSH"
   ]
  },
  {
   "cell_type": "markdown",
   "metadata": {},
   "source": [
    "## <strong> 1.1 Data Preparation\n",
    "Download the MovieLens dataset from here. After downloading, explore the dataset to understand the structure and identify any preprocessing steps needed."
   ]
  },
  {
   "cell_type": "markdown",
   "metadata": {},
   "source": [
    "<strong> There are in total 6 datasets, let's have a quick look at them"
   ]
  },
  {
   "cell_type": "code",
   "execution_count": 75,
   "metadata": {},
   "outputs": [
    {
     "data": {
      "text/html": [
       "<div>\n",
       "<style scoped>\n",
       "    .dataframe tbody tr th:only-of-type {\n",
       "        vertical-align: middle;\n",
       "    }\n",
       "\n",
       "    .dataframe tbody tr th {\n",
       "        vertical-align: top;\n",
       "    }\n",
       "\n",
       "    .dataframe thead th {\n",
       "        text-align: right;\n",
       "    }\n",
       "</style>\n",
       "<table border=\"1\" class=\"dataframe\">\n",
       "  <thead>\n",
       "    <tr style=\"text-align: right;\">\n",
       "      <th></th>\n",
       "      <th>tagId</th>\n",
       "      <th>relevance</th>\n",
       "    </tr>\n",
       "    <tr>\n",
       "      <th>movieId</th>\n",
       "      <th></th>\n",
       "      <th></th>\n",
       "    </tr>\n",
       "  </thead>\n",
       "  <tbody>\n",
       "    <tr>\n",
       "      <th>1</th>\n",
       "      <td>1</td>\n",
       "      <td>0.02500</td>\n",
       "    </tr>\n",
       "    <tr>\n",
       "      <th>1</th>\n",
       "      <td>2</td>\n",
       "      <td>0.02500</td>\n",
       "    </tr>\n",
       "    <tr>\n",
       "      <th>1</th>\n",
       "      <td>3</td>\n",
       "      <td>0.05775</td>\n",
       "    </tr>\n",
       "  </tbody>\n",
       "</table>\n",
       "</div>"
      ],
      "text/plain": [
       "         tagId  relevance\n",
       "movieId                  \n",
       "1            1    0.02500\n",
       "1            2    0.02500\n",
       "1            3    0.05775"
      ]
     },
     "execution_count": 75,
     "metadata": {},
     "output_type": "execute_result"
    }
   ],
   "source": [
    "genome_scores = pd.read_csv(\"dataset/genome_scores.csv\", index_col =0)\n",
    "genome_scores.head(3)"
   ]
  },
  {
   "cell_type": "code",
   "execution_count": 76,
   "metadata": {},
   "outputs": [
    {
     "data": {
      "text/html": [
       "<div>\n",
       "<style scoped>\n",
       "    .dataframe tbody tr th:only-of-type {\n",
       "        vertical-align: middle;\n",
       "    }\n",
       "\n",
       "    .dataframe tbody tr th {\n",
       "        vertical-align: top;\n",
       "    }\n",
       "\n",
       "    .dataframe thead th {\n",
       "        text-align: right;\n",
       "    }\n",
       "</style>\n",
       "<table border=\"1\" class=\"dataframe\">\n",
       "  <thead>\n",
       "    <tr style=\"text-align: right;\">\n",
       "      <th></th>\n",
       "      <th>tag</th>\n",
       "    </tr>\n",
       "    <tr>\n",
       "      <th>tagId</th>\n",
       "      <th></th>\n",
       "    </tr>\n",
       "  </thead>\n",
       "  <tbody>\n",
       "    <tr>\n",
       "      <th>1</th>\n",
       "      <td>007</td>\n",
       "    </tr>\n",
       "    <tr>\n",
       "      <th>2</th>\n",
       "      <td>007 (series)</td>\n",
       "    </tr>\n",
       "    <tr>\n",
       "      <th>3</th>\n",
       "      <td>18th century</td>\n",
       "    </tr>\n",
       "  </tbody>\n",
       "</table>\n",
       "</div>"
      ],
      "text/plain": [
       "                tag\n",
       "tagId              \n",
       "1               007\n",
       "2      007 (series)\n",
       "3      18th century"
      ]
     },
     "execution_count": 76,
     "metadata": {},
     "output_type": "execute_result"
    }
   ],
   "source": [
    "genome_tags = pd.read_csv(\"dataset/genome_tags.csv\", index_col = 0)\n",
    "genome_tags.head(3)"
   ]
  },
  {
   "cell_type": "code",
   "execution_count": 77,
   "metadata": {},
   "outputs": [
    {
     "data": {
      "text/html": [
       "<div>\n",
       "<style scoped>\n",
       "    .dataframe tbody tr th:only-of-type {\n",
       "        vertical-align: middle;\n",
       "    }\n",
       "\n",
       "    .dataframe tbody tr th {\n",
       "        vertical-align: top;\n",
       "    }\n",
       "\n",
       "    .dataframe thead th {\n",
       "        text-align: right;\n",
       "    }\n",
       "</style>\n",
       "<table border=\"1\" class=\"dataframe\">\n",
       "  <thead>\n",
       "    <tr style=\"text-align: right;\">\n",
       "      <th></th>\n",
       "      <th>imdbId</th>\n",
       "      <th>tmdbId</th>\n",
       "    </tr>\n",
       "    <tr>\n",
       "      <th>movieId</th>\n",
       "      <th></th>\n",
       "      <th></th>\n",
       "    </tr>\n",
       "  </thead>\n",
       "  <tbody>\n",
       "    <tr>\n",
       "      <th>1</th>\n",
       "      <td>114709</td>\n",
       "      <td>862.0</td>\n",
       "    </tr>\n",
       "    <tr>\n",
       "      <th>2</th>\n",
       "      <td>113497</td>\n",
       "      <td>8844.0</td>\n",
       "    </tr>\n",
       "    <tr>\n",
       "      <th>3</th>\n",
       "      <td>113228</td>\n",
       "      <td>15602.0</td>\n",
       "    </tr>\n",
       "  </tbody>\n",
       "</table>\n",
       "</div>"
      ],
      "text/plain": [
       "         imdbId   tmdbId\n",
       "movieId                 \n",
       "1        114709    862.0\n",
       "2        113497   8844.0\n",
       "3        113228  15602.0"
      ]
     },
     "execution_count": 77,
     "metadata": {},
     "output_type": "execute_result"
    }
   ],
   "source": [
    "link = pd.read_csv(\"dataset/link.csv\", index_col = 0)\n",
    "link.head(3)"
   ]
  },
  {
   "cell_type": "code",
   "execution_count": 14,
   "metadata": {},
   "outputs": [
    {
     "data": {
      "text/html": [
       "<div>\n",
       "<style scoped>\n",
       "    .dataframe tbody tr th:only-of-type {\n",
       "        vertical-align: middle;\n",
       "    }\n",
       "\n",
       "    .dataframe tbody tr th {\n",
       "        vertical-align: top;\n",
       "    }\n",
       "\n",
       "    .dataframe thead th {\n",
       "        text-align: right;\n",
       "    }\n",
       "</style>\n",
       "<table border=\"1\" class=\"dataframe\">\n",
       "  <thead>\n",
       "    <tr style=\"text-align: right;\">\n",
       "      <th></th>\n",
       "      <th>title</th>\n",
       "      <th>genres</th>\n",
       "    </tr>\n",
       "    <tr>\n",
       "      <th>movieId</th>\n",
       "      <th></th>\n",
       "      <th></th>\n",
       "    </tr>\n",
       "  </thead>\n",
       "  <tbody>\n",
       "    <tr>\n",
       "      <th>1</th>\n",
       "      <td>Toy Story (1995)</td>\n",
       "      <td>Adventure|Animation|Children|Comedy|Fantasy</td>\n",
       "    </tr>\n",
       "    <tr>\n",
       "      <th>2</th>\n",
       "      <td>Jumanji (1995)</td>\n",
       "      <td>Adventure|Children|Fantasy</td>\n",
       "    </tr>\n",
       "    <tr>\n",
       "      <th>3</th>\n",
       "      <td>Grumpier Old Men (1995)</td>\n",
       "      <td>Comedy|Romance</td>\n",
       "    </tr>\n",
       "  </tbody>\n",
       "</table>\n",
       "</div>"
      ],
      "text/plain": [
       "                           title                                       genres\n",
       "movieId                                                                      \n",
       "1               Toy Story (1995)  Adventure|Animation|Children|Comedy|Fantasy\n",
       "2                 Jumanji (1995)                   Adventure|Children|Fantasy\n",
       "3        Grumpier Old Men (1995)                               Comedy|Romance"
      ]
     },
     "execution_count": 14,
     "metadata": {},
     "output_type": "execute_result"
    }
   ],
   "source": [
    "movie = pd.read_csv(\"dataset/movie.csv\", index_col = 0)\n",
    "movie.head(3)"
   ]
  },
  {
   "cell_type": "code",
   "execution_count": 13,
   "metadata": {},
   "outputs": [
    {
     "data": {
      "text/html": [
       "<div>\n",
       "<style scoped>\n",
       "    .dataframe tbody tr th:only-of-type {\n",
       "        vertical-align: middle;\n",
       "    }\n",
       "\n",
       "    .dataframe tbody tr th {\n",
       "        vertical-align: top;\n",
       "    }\n",
       "\n",
       "    .dataframe thead th {\n",
       "        text-align: right;\n",
       "    }\n",
       "</style>\n",
       "<table border=\"1\" class=\"dataframe\">\n",
       "  <thead>\n",
       "    <tr style=\"text-align: right;\">\n",
       "      <th></th>\n",
       "      <th>userId</th>\n",
       "      <th>movieId</th>\n",
       "      <th>rating</th>\n",
       "      <th>timestamp</th>\n",
       "    </tr>\n",
       "  </thead>\n",
       "  <tbody>\n",
       "    <tr>\n",
       "      <th>0</th>\n",
       "      <td>1</td>\n",
       "      <td>2</td>\n",
       "      <td>3.5</td>\n",
       "      <td>2005-04-02 23:53:47</td>\n",
       "    </tr>\n",
       "    <tr>\n",
       "      <th>1</th>\n",
       "      <td>1</td>\n",
       "      <td>29</td>\n",
       "      <td>3.5</td>\n",
       "      <td>2005-04-02 23:31:16</td>\n",
       "    </tr>\n",
       "    <tr>\n",
       "      <th>2</th>\n",
       "      <td>1</td>\n",
       "      <td>32</td>\n",
       "      <td>3.5</td>\n",
       "      <td>2005-04-02 23:33:39</td>\n",
       "    </tr>\n",
       "  </tbody>\n",
       "</table>\n",
       "</div>"
      ],
      "text/plain": [
       "   userId  movieId  rating            timestamp\n",
       "0       1        2     3.5  2005-04-02 23:53:47\n",
       "1       1       29     3.5  2005-04-02 23:31:16\n",
       "2       1       32     3.5  2005-04-02 23:33:39"
      ]
     },
     "execution_count": 13,
     "metadata": {},
     "output_type": "execute_result"
    }
   ],
   "source": [
    "rating = pd.read_csv(\"dataset/rating.csv\")\n",
    "rating.head(3)"
   ]
  },
  {
   "cell_type": "code",
   "execution_count": 80,
   "metadata": {},
   "outputs": [
    {
     "data": {
      "text/html": [
       "<div>\n",
       "<style scoped>\n",
       "    .dataframe tbody tr th:only-of-type {\n",
       "        vertical-align: middle;\n",
       "    }\n",
       "\n",
       "    .dataframe tbody tr th {\n",
       "        vertical-align: top;\n",
       "    }\n",
       "\n",
       "    .dataframe thead th {\n",
       "        text-align: right;\n",
       "    }\n",
       "</style>\n",
       "<table border=\"1\" class=\"dataframe\">\n",
       "  <thead>\n",
       "    <tr style=\"text-align: right;\">\n",
       "      <th></th>\n",
       "      <th>movieId</th>\n",
       "      <th>tag</th>\n",
       "      <th>timestamp</th>\n",
       "    </tr>\n",
       "    <tr>\n",
       "      <th>userId</th>\n",
       "      <th></th>\n",
       "      <th></th>\n",
       "      <th></th>\n",
       "    </tr>\n",
       "  </thead>\n",
       "  <tbody>\n",
       "    <tr>\n",
       "      <th>18</th>\n",
       "      <td>4141</td>\n",
       "      <td>Mark Waters</td>\n",
       "      <td>2009-04-24 18:19:40</td>\n",
       "    </tr>\n",
       "    <tr>\n",
       "      <th>65</th>\n",
       "      <td>208</td>\n",
       "      <td>dark hero</td>\n",
       "      <td>2013-05-10 01:41:18</td>\n",
       "    </tr>\n",
       "    <tr>\n",
       "      <th>65</th>\n",
       "      <td>353</td>\n",
       "      <td>dark hero</td>\n",
       "      <td>2013-05-10 01:41:19</td>\n",
       "    </tr>\n",
       "  </tbody>\n",
       "</table>\n",
       "</div>"
      ],
      "text/plain": [
       "        movieId          tag            timestamp\n",
       "userId                                           \n",
       "18         4141  Mark Waters  2009-04-24 18:19:40\n",
       "65          208    dark hero  2013-05-10 01:41:18\n",
       "65          353    dark hero  2013-05-10 01:41:19"
      ]
     },
     "execution_count": 80,
     "metadata": {},
     "output_type": "execute_result"
    }
   ],
   "source": [
    "tag = pd.read_csv(\"dataset/tag.csv\", index_col = 0)\n",
    "tag.head(3)"
   ]
  },
  {
   "cell_type": "code",
   "execution_count": 45,
   "metadata": {},
   "outputs": [
    {
     "name": "stderr",
     "output_type": "stream",
     "text": [
      "/tmp/ipykernel_66895/1612435243.py:8: DeprecationWarning: DataFrameGroupBy.apply operated on the grouping columns. This behavior is deprecated, and in a future version of pandas the grouping columns will be excluded from the operation. Either pass `include_groups=False` to exclude the groupings or explicitly select the grouping columns after groupby to silence this warning.\n",
      "  user_ratings = rating.groupby('userId').apply(\n"
     ]
    }
   ],
   "source": [
    "# Map movie names into ratings_df\n",
    "rating= rating.merge(movie, on='movieId')\n",
    "\n",
    "# Create user_movies dictionary\n",
    "user_movies = rating.groupby('userId')['movieId'].apply(list).to_dict()\n",
    "\n",
    "# Create user_ratings dictionary\n",
    "user_ratings = rating.groupby('userId').apply(\n",
    "    lambda group: dict(zip(group['movieId'], group['rating']))\n",
    ").to_dict()"
   ]
  },
  {
   "cell_type": "markdown",
   "metadata": {},
   "source": [
    "\n",
    "## <strong>1.2 Minhash Signatures</strong>\n",
    "\n",
    "Using the userId and movieId columns, implement your own MinHash function. This function will hash each user's watched movie list, creating a representation that allows for quick comparisons of user similarities.\n",
    "\n",
    "    -Important: Implement your MinHash function from scratch—do not use any pre-built hash functions.\n",
    "    -Use your MinHash function to generate signature vectors for each user based on their rated movies.\n",
    "    -Experiment with different hash functions and threshold values to find the most effective configurations. Report these results.\n"
   ]
  },
  {
   "cell_type": "markdown",
   "metadata": {},
   "source": [
    "Let's first group all the users and their correspective movies."
   ]
  },
  {
   "cell_type": "code",
   "execution_count": 46,
   "metadata": {},
   "outputs": [],
   "source": [
    "user_movies = rating.groupby('userId')['movieId'].apply(list).to_dict()"
   ]
  },
  {
   "cell_type": "markdown",
   "metadata": {},
   "source": [
    "Let's define a simple modulo hash function: <br> <br>\n",
    "$\n",
    "h(x) = (a \\cdot x + b) \\mod p\n",
    "$\n",
    "\n",
    "Where:  \n",
    "- $ x $: Input value  \n",
    "- $ a $: Coefficient (non-zero)  \n",
    "- $ b $: Coefficient  \n",
    "- $ p $: Prime modulus"
   ]
  },
  {
   "cell_type": "code",
   "execution_count": 17,
   "metadata": {},
   "outputs": [],
   "source": [
    "def hash_function(x, a ,b ,p): \n",
    "    return (a*x + b) % p"
   ]
  },
  {
   "cell_type": "markdown",
   "metadata": {},
   "source": [
    "We generate multiple hash functions."
   ]
  },
  {
   "cell_type": "code",
   "execution_count": 18,
   "metadata": {},
   "outputs": [],
   "source": [
    "def create_hash_functions(max_value, max_prime):\n",
    "    \n",
    "    primes = [i for i in range(10,max_prime) if isprime(i)]\n",
    "\n",
    "    # Generate multiple hash functions\n",
    "    hash_functions = []\n",
    "    for i in range(10):\n",
    "        a = random.randint(1, max_value)  # Random coefficient a (non-zero)\n",
    "        b = random.randint(0, max_value)  # Random coefficient b\n",
    "        p = random.choice(primes)  # Predefined prime values\n",
    "        \n",
    "        hash_functions.append(lambda x, a=a, b=b, p=p: hash_function(x, a, b, p))\n",
    "    return hash_functions"
   ]
  },
  {
   "cell_type": "markdown",
   "metadata": {},
   "source": [
    "Now given these hash functions, we create our signature matrix."
   ]
  },
  {
   "cell_type": "code",
   "execution_count": 19,
   "metadata": {},
   "outputs": [],
   "source": [
    "def minhash(user_movies, hash_functions):\n",
    "    signature_matrix = {}\n",
    "\n",
    "    for user, movies in user_movies.items():\n",
    "        signature_vector = []\n",
    "        for h in hash_functions:\n",
    "            min_hash = min(h(movie) for movie in movies)  # Compute min hash value for the user's movies\n",
    "            signature_vector.append(min_hash)\n",
    "        signature_matrix[user] = signature_vector\n",
    "    \n",
    "    return signature_matrix"
   ]
  },
  {
   "cell_type": "code",
   "execution_count": 47,
   "metadata": {},
   "outputs": [],
   "source": [
    "user_signatures = minhash(user_movies,create_hash_functions(max_value = 10000, max_prime = 1000000))"
   ]
  },
  {
   "cell_type": "markdown",
   "metadata": {},
   "source": [
    "### **Effectiveness of the Hashing Function**\n",
    "\n",
    "To evaluate the effectiveness of our MinHash function, we compare the **Jaccard similarity** of two sets with the **MinHash similarity** of their corresponding signature matrices. We then calculate the error using the squared Euclidean distance between the two similarities.\n",
    "\n",
    "#### 1. **Jaccard Similarity**\n",
    "\n",
    "The Jaccard similarity between two sets $A $ and $B $ is defined as:\n",
    "\n",
    "$\n",
    "J(A, B) = \\frac{|A \\cap B|}{|A \\cup B|}\n",
    "$\n",
    "\n",
    "#### 2. **MinHash Similarity**\n",
    "\n",
    "The MinHash similarity between two signature vectors $\\text{sig}_1 $ and $\\text{sig}_2 $ is given by:\n",
    "\n",
    "$\n",
    "\\text{MinHashSim}(\\text{sig}_1, \\text{sig}_2) = \\frac{\\text{Number of Matching Hashes}}{\\text{Total Number of Hashes}}\n",
    "$\n",
    "\n",
    "$\n",
    "\\text{MinHashSim}(\\text{sig}_1, \\text{sig}_2) = \\frac{\\sum_{i=1}^n \\mathbb{1}(\\text{sig}_1[i] = \\text{sig}_2[i])}{n}\n",
    "$\n",
    "\n",
    "where $\\mathbb{1} $ is the indicator function that returns $1 $ if the elements are equal and $0 $ otherwise.\n",
    "\n",
    "#### 3. **Error Calculation**\n",
    "\n",
    "The error is computed as the squared Euclidean distance between the true Jaccard similarity and the MinHash similarity:\n",
    "\n",
    "$\n",
    "\\text{Error} = (J(A, B) - \\text{MinHashSim}(\\text{sig}_1, \\text{sig}_2))^2\n",
    "$\n",
    "\n",
    "#### 4. **Total Error Across Users**\n",
    "\n",
    "For all pairs of users \\((u_1, u_2)$, the total error is computed as:\n",
    "\n",
    "$\n",
    "\\text{Total Error} = \\frac{\\sum_{(u_1, u_2) \\in \\text{Users}} \\text{Error}(u_1, u_2)}{|\\text{Users}|^2}\n",
    "$\n",
    "\n",
    "Where:\n",
    "- $\\text{Users} $ is the set of all user pairs.\n",
    "- $\\text{Error}(u_1, u_2) $ is the squared Euclidean error for a pair of users.\n"
   ]
  },
  {
   "cell_type": "code",
   "execution_count": 11,
   "metadata": {},
   "outputs": [],
   "source": [
    "# For simplicity we only ran 10000 lines including 90 users\n",
    "\n",
    "# True Jaccard similarity\n",
    "def jaccard_similarity(set1, set2):\n",
    "    return len(set1.intersection(set2)) / len(set1.union(set2))\n",
    "\n",
    "# MinHash similarity\n",
    "def minhash_similarity(sig1, sig2):\n",
    "    return sum(1 for a, b in zip(sig1, sig2) if a == b) / len(sig1)\n",
    "\n",
    "# Evaluate effectiveness\n",
    "def evaluate_effectiveness(user_movies, signature_matrix):\n",
    "    users = list(user_movies.keys())\n",
    "\n",
    "    tot_error = 0\n",
    "    for user1, user2 in combinations(users, 2):\n",
    "        set1, set2 = set(user_movies[user1]), set(user_movies[user2])\n",
    "        sig1, sig2 = signature_matrix[user1], signature_matrix[user2]\n",
    "        \n",
    "        # Compute similarities\n",
    "        true_jaccard = jaccard_similarity(set1, set2)\n",
    "        approx_minhash = minhash_similarity(sig1, sig2)\n",
    "        \n",
    "        # Calculate Error\n",
    "        error = (true_jaccard - approx_minhash)**2\n",
    "        tot_error += error\n",
    "    \n",
    "    return tot_error / (len(users)**2)\n"
   ]
  },
  {
   "cell_type": "markdown",
   "metadata": {},
   "source": [
    "Let's test our results given different types of values for the hashing function."
   ]
  },
  {
   "cell_type": "code",
   "execution_count": null,
   "metadata": {},
   "outputs": [],
   "source": [
    "results = []\n",
    "parameters = []\n",
    "for i in range(10,1000,5):\n",
    "    parameters.append(i)\n",
    "    hash_functions = create_hash_functions(i, i*2)\n",
    "    signature_matrix = minhash(user_movies,hash_functions)\n",
    "    result = evaluate_effectiveness(user_movies,signature_matrix)\n",
    "    results.append(result)"
   ]
  },
  {
   "cell_type": "markdown",
   "metadata": {},
   "source": [
    "Let's plot the results."
   ]
  },
  {
   "cell_type": "code",
   "execution_count": null,
   "metadata": {},
   "outputs": [
    {
     "data": {
      "image/png": "[encoded data removed]",
      "text/plain": [
       "<Figure size 1200x800 with 1 Axes>"
      ]
     },
     "metadata": {},
     "output_type": "display_data"
    }
   ],
   "source": [
    "plt.figure(figsize=(12, 8))  \n",
    "plt.scatter(parameters, results, color='pink', label='average error',alpha = 0.9)  # Plot points\n",
    "plt.title(\"Relationship between parameter and results\")  \n",
    "plt.xlabel(\"Parameter\") \n",
    "plt.ylabel(\"Average Error\") \n",
    "plt.legend() \n",
    "plt.show()"
   ]
  },
  {
   "cell_type": "markdown",
   "metadata": {},
   "source": [
    "We can clearly see a direct relationship between the maximum value in the hashing function and the error. As the maximum value grows, the likelihood of hash collisions decreases, resulting in a better approximation of the true Jaccard similarity and a reduction in error."
   ]
  },
  {
   "cell_type": "markdown",
   "metadata": {},
   "source": [
    "## <strong> 1.3 Locality-Sensitive Hashing (LSH) </strong>"
   ]
  },
  {
   "cell_type": "markdown",
   "metadata": {},
   "source": [
    "### <strong> 1.3.1 Bucket Creation: For each user, divide the MinHash signature into bands and hash each band to form buckets. Users with similar bands should fall into the same buckets."
   ]
  },
  {
   "cell_type": "markdown",
   "metadata": {},
   "source": [
    "We create a custom hashing function for buckets"
   ]
  },
  {
   "cell_type": "code",
   "execution_count": 48,
   "metadata": {},
   "outputs": [],
   "source": [
    "def custom_bucket_hash(sig):\n",
    "    return sum(sig) % 1001"
   ]
  },
  {
   "cell_type": "code",
   "execution_count": 49,
   "metadata": {},
   "outputs": [],
   "source": [
    "def lsh(minhash_signatures, num_bands):\n",
    "    \"\"\"\n",
    "    Locality-Sensitive Hashing (LSH) for clustering similar users.\n",
    "\n",
    "    Args:\n",
    "        minhash_signatures (dict): Dictionary mapping user IDs to their MinHash signatures.\n",
    "        num_bands (int): Number of bands to divide the signature into.\n",
    "\n",
    "    Returns:\n",
    "        buckets (defaultdict): Mapping from bucket keys to sets of user IDs.\n",
    "    \"\"\"\n",
    "    # Initialize buckets\n",
    "    buckets = defaultdict(set)\n",
    "    num_rows = len(next(iter(minhash_signatures.values()))) // num_bands  # Rows per band\n",
    "\n",
    "    # Create buckets for each band\n",
    "    for user, signature in minhash_signatures.items():\n",
    "        for band_idx in range(num_bands):\n",
    "            # Extract rows for the current band\n",
    "            start = band_idx * num_rows\n",
    "            end = start + num_rows\n",
    "            band = tuple(signature[start:end])  # Ensure immutability for hashing\n",
    "            # Hash the band and add the user to the corresponding bucket\n",
    "            bucket_key = custom_bucket_hash(band)\n",
    "            buckets[bucket_key].add(user)\n",
    "    \n",
    "    return buckets\n",
    "\n"
   ]
  },
  {
   "cell_type": "markdown",
   "metadata": {},
   "source": [
    "### <strong>  1.3.2 Query: For a given user, identify the two most similar users based on their bucket placement. If a user doesn’t have any similar users in their bucket, adjust the parameters until similar users are found."
   ]
  },
  {
   "cell_type": "code",
   "execution_count": 50,
   "metadata": {},
   "outputs": [],
   "source": [
    "def query_similar_users(user, minhash_signatures, buckets):\n",
    "    \"\"\"\n",
    "    Query the most similar users for a given user using LSH buckets.\n",
    "\n",
    "    Args:\n",
    "        user (str): User ID for whom to find similar users.\n",
    "        minhash_signatures (dict): MinHash signatures for all users.\n",
    "        buckets (defaultdict): Buckets created using LSH.\n",
    "\n",
    "    Returns:\n",
    "        List[Tuple[str, float]]: Two most similar users and their MinHash similarity scores.\n",
    "    \"\"\"\n",
    "    user_signature = minhash_signatures[user]\n",
    "    similar_users = set()\n",
    "\n",
    "    # Find all buckets containing the given user\n",
    "    for bucket_users in buckets.values():\n",
    "        if user in bucket_users:\n",
    "            similar_users.update(bucket_users)\n",
    "    \n",
    "    # Remove the queried user from the set of similar users\n",
    "    similar_users.discard(user)\n",
    "\n",
    "    # Compute MinHash similarities\n",
    "    similarities = [\n",
    "        (other_user, minhash_similarity(user_signature, minhash_signatures[other_user]))\n",
    "        for other_user in similar_users\n",
    "    ]\n",
    "\n",
    "    # Sort by similarity in descending order and return the top two\n",
    "    return sorted(similarities, key=lambda x: x[1], reverse=True)[:2]\n"
   ]
  },
  {
   "cell_type": "code",
   "execution_count": 51,
   "metadata": {},
   "outputs": [
    {
     "name": "stdout",
     "output_type": "stream",
     "text": [
      "Similar users for 'user1': [(41059, 0.4), (84182, 0.4)]\n"
     ]
    }
   ],
   "source": [
    "# Apply LSH\n",
    "num_bands = 3  # Choose the number of bands\n",
    "buckets = lsh(user_signatures, num_bands)\n",
    "\n",
    "\n",
    "# Query similar users for \"user1\"\n",
    "similar_users = query_similar_users(1, user_signatures, buckets)\n",
    "print(f\"Similar users for 'user1': {similar_users}\")"
   ]
  },
  {
   "cell_type": "markdown",
   "metadata": {},
   "source": [
    "### <strong> 1.3.3 Movie Recommendation Logic: </strong>\n",
    "\n",
    "    If both similar users have rated a movie, recommend this movie based on the average rating.\n",
    "    If there are no commonly rated movies, recommend the top-rated movies of the most similar user.\n",
    "\n"
   ]
  },
  {
   "cell_type": "code",
   "execution_count": 52,
   "metadata": {},
   "outputs": [],
   "source": [
    "def recommend_movies(target_user, user_movies, user_ratings, similar_users, max_recommendations=5):\n",
    "    \"\"\"\n",
    "    Recommends movies for a target user based on similar users' ratings.\n",
    "\n",
    "    Args:\n",
    "        target_user (str): The user for whom recommendations are generated.\n",
    "        user_movies (dict): Movies watched by each user.\n",
    "        user_ratings (dict): Ratings given by each user for movies.\n",
    "        similar_users (list): Two most similar users (in descending similarity order).\n",
    "        max_recommendations (int): Maximum number of recommendations.\n",
    "\n",
    "    Returns:\n",
    "        List[Tuple[str, float]]: Recommended movies and their ratings.\n",
    "    \"\"\"\n",
    "    # Movies rated by the target user\n",
    "    target_user_movies = set(user_movies[target_user])\n",
    "    \n",
    "    # Movies rated by similar users\n",
    "    similar_user_1, similar_user_2 = similar_users\n",
    "    user1_movies = set(user_movies[similar_user_1])\n",
    "    user2_movies = set(user_movies[similar_user_2])\n",
    "\n",
    "    # Find common movies and compute average ratings\n",
    "    common_movies = user1_movies & user2_movies\n",
    "    recommendations = []\n",
    "    for movie in common_movies:\n",
    "        movie1 = user_ratings[similar_user_1][movie]\n",
    "        movie2 = user_ratings[similar_user_2][movie]\n",
    "        avg_rating = (movie1 + movie2) / 2\n",
    "        recommendations.append((movie, avg_rating))\n",
    "\n",
    "    # Sort recommendations by average rating\n",
    "    recommendations.sort(key=lambda x: x[1], reverse=True)\n",
    "\n",
    "    # Add top-rated movies from the most similar user\n",
    "    most_similar_user = similar_user_1\n",
    "    for movie, rating in sorted(user_ratings[most_similar_user].items(), key=lambda x: x[1], reverse=True):\n",
    "        if len(recommendations) >= max_recommendations:\n",
    "            break\n",
    "        if movie not in target_user_movies and movie not in [rec[0] for rec in recommendations]:\n",
    "            recommendations.append((movie, rating))\n",
    "    \n",
    "    # Fill up to 5 recommendations using the second most similar user if needed\n",
    "    if len(recommendations) < max_recommendations:\n",
    "        for movie, rating in sorted(user_ratings[similar_user_2].items(), key=lambda x: x[1], reverse=True):\n",
    "            if len(recommendations) >= max_recommendations:\n",
    "                break\n",
    "            if movie not in target_user_movies and movie not in [rec[0] for rec in recommendations]:\n",
    "                recommendations.append((movie, rating))\n",
    "    \n",
    "    return recommendations[:max_recommendations]\n"
   ]
  },
  {
   "cell_type": "code",
   "execution_count": null,
   "metadata": {},
   "outputs": [],
   "source": [
    "target = 1\n",
    "similar_users = [user for user, score in query_similar_users(target,user_signatures,buckets)]\n",
    "recommendations = recommend_movies(target_user=1, \n",
    "                                   user_movies=user_movies, \n",
    "                                   user_ratings=user_ratings, \n",
    "                                   similar_users=similar_users)"
   ]
  },
  {
   "cell_type": "markdown",
   "metadata": {},
   "source": [
    "### <strong> 1.3.4 Final Recommendation: Provide at most five movies to the user."
   ]
  },
  {
   "cell_type": "code",
   "execution_count": 58,
   "metadata": {},
   "outputs": [
    {
     "data": {
      "text/html": [
       "<div>\n",
       "<style scoped>\n",
       "    .dataframe tbody tr th:only-of-type {\n",
       "        vertical-align: middle;\n",
       "    }\n",
       "\n",
       "    .dataframe tbody tr th {\n",
       "        vertical-align: top;\n",
       "    }\n",
       "\n",
       "    .dataframe thead th {\n",
       "        text-align: right;\n",
       "    }\n",
       "</style>\n",
       "<table border=\"1\" class=\"dataframe\">\n",
       "  <thead>\n",
       "    <tr style=\"text-align: right;\">\n",
       "      <th></th>\n",
       "      <th>title</th>\n",
       "      <th>score</th>\n",
       "    </tr>\n",
       "  </thead>\n",
       "  <tbody>\n",
       "    <tr>\n",
       "      <th>0</th>\n",
       "      <td>Full Metal Jacket (1987)</td>\n",
       "      <td>4.5</td>\n",
       "    </tr>\n",
       "    <tr>\n",
       "      <th>1</th>\n",
       "      <td>Matrix, The (1999)</td>\n",
       "      <td>4.5</td>\n",
       "    </tr>\n",
       "    <tr>\n",
       "      <th>2</th>\n",
       "      <td>Alien (1979)</td>\n",
       "      <td>4.5</td>\n",
       "    </tr>\n",
       "    <tr>\n",
       "      <th>3</th>\n",
       "      <td>Truman Show, The (1998)</td>\n",
       "      <td>4.5</td>\n",
       "    </tr>\n",
       "    <tr>\n",
       "      <th>4</th>\n",
       "      <td>Highlander (1986)</td>\n",
       "      <td>4.5</td>\n",
       "    </tr>\n",
       "  </tbody>\n",
       "</table>\n",
       "</div>"
      ],
      "text/plain": [
       "                      title  score\n",
       "0  Full Metal Jacket (1987)    4.5\n",
       "1        Matrix, The (1999)    4.5\n",
       "2              Alien (1979)    4.5\n",
       "3   Truman Show, The (1998)    4.5\n",
       "4         Highlander (1986)    4.5"
      ]
     },
     "execution_count": 58,
     "metadata": {},
     "output_type": "execute_result"
    }
   ],
   "source": [
    "recommendations_df = pd.DataFrame(recommendations, columns=['movieId', 'score'])\n",
    "result_df = recommendations_df.merge(movie, on='movieId', how='left')\n",
    "result_df[['title', 'score']]"
   ]
  }
 ],
 "metadata": {
  "kernelspec": {
   "display_name": "ADMvenv",
   "language": "python",
   "name": "python3"
  },
  "language_info": {
   "codemirror_mode": {
    "name": "ipython",
    "version": 3
   },
   "file_extension": ".py",
   "mimetype": "text/x-python",
   "name": "python",
   "nbconvert_exporter": "python",
   "pygments_lexer": "ipython3",
   "version": "3.12.3"
  }
 },
 "nbformat": 4,
 "nbformat_minor": 2
}
