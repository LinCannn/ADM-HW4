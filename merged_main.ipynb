{
 "cells": [
  {
   "cell_type": "markdown",
   "metadata": {},
   "source": [
    "---\n",
    "Download the dataset and import needed functions for part 1"
   ]
  },
  {
   "cell_type": "code",
   "execution_count": 2,
   "metadata": {},
   "outputs": [
    {
     "ename": "ModuleNotFoundError",
     "evalue": "No module named 'kagglehub'",
     "output_type": "error",
     "traceback": [
      "\u001b[0;31m---------------------------------------------------------------------------\u001b[0m",
      "\u001b[0;31mModuleNotFoundError\u001b[0m                       Traceback (most recent call last)",
      "Cell \u001b[0;32mIn[2], line 1\u001b[0m\n\u001b[0;32m----> 1\u001b[0m \u001b[38;5;28;01mimport\u001b[39;00m \u001b[38;5;21;01mkagglehub\u001b[39;00m\n\u001b[1;32m      3\u001b[0m \u001b[38;5;66;03m# Download latest version\u001b[39;00m\n\u001b[1;32m      4\u001b[0m path \u001b[38;5;241m=\u001b[39m kagglehub\u001b[38;5;241m.\u001b[39mdataset_download(\u001b[38;5;124m\"\u001b[39m\u001b[38;5;124mgrouplens/movielens-20m-dataset\u001b[39m\u001b[38;5;124m\"\u001b[39m)\n",
      "\u001b[0;31mModuleNotFoundError\u001b[0m: No module named 'kagglehub'"
     ]
    }
   ],
   "source": [
    "import kagglehub\n",
    "\n",
    "# Download latest version\n",
    "path = kagglehub.dataset_download(\"grouplens/movielens-20m-dataset\")\n",
    "\n",
    "print(\"Path to dataset files:\", path)"
   ]
  },
  {
   "cell_type": "code",
   "execution_count": 2,
   "metadata": {},
   "outputs": [],
   "source": [
    "import numpy\n",
    "import pandas as pd\n",
    "import random\n",
    "from sympy import isprime\n",
    "import matplotlib.pyplot as plt\n",
    "from collections import defaultdict\n",
    "from itertools import combinations\n"
   ]
  },
  {
   "cell_type": "markdown",
   "metadata": {},
   "source": [
    "---"
   ]
  },
  {
   "cell_type": "markdown",
   "metadata": {},
   "source": [
    "## <strong> 1. Recommendation System with LSH"
   ]
  },
  {
   "cell_type": "markdown",
   "metadata": {},
   "source": [
    "## <strong> 1.1 Data Preparation\n",
    "Download the MovieLens dataset from here. After downloading, explore the dataset to understand the structure and identify any preprocessing steps needed."
   ]
  },
  {
   "cell_type": "markdown",
   "metadata": {},
   "source": [
    "<strong> There are in total 6 datasets, let's have a quick look at them"
   ]
  },
  {
   "cell_type": "code",
   "execution_count": 75,
   "metadata": {},
   "outputs": [
    {
     "data": {
      "text/html": [
       "<div>\n",
       "<style scoped>\n",
       "    .dataframe tbody tr th:only-of-type {\n",
       "        vertical-align: middle;\n",
       "    }\n",
       "\n",
       "    .dataframe tbody tr th {\n",
       "        vertical-align: top;\n",
       "    }\n",
       "\n",
       "    .dataframe thead th {\n",
       "        text-align: right;\n",
       "    }\n",
       "</style>\n",
       "<table border=\"1\" class=\"dataframe\">\n",
       "  <thead>\n",
       "    <tr style=\"text-align: right;\">\n",
       "      <th></th>\n",
       "      <th>tagId</th>\n",
       "      <th>relevance</th>\n",
       "    </tr>\n",
       "    <tr>\n",
       "      <th>movieId</th>\n",
       "      <th></th>\n",
       "      <th></th>\n",
       "    </tr>\n",
       "  </thead>\n",
       "  <tbody>\n",
       "    <tr>\n",
       "      <th>1</th>\n",
       "      <td>1</td>\n",
       "      <td>0.02500</td>\n",
       "    </tr>\n",
       "    <tr>\n",
       "      <th>1</th>\n",
       "      <td>2</td>\n",
       "      <td>0.02500</td>\n",
       "    </tr>\n",
       "    <tr>\n",
       "      <th>1</th>\n",
       "      <td>3</td>\n",
       "      <td>0.05775</td>\n",
       "    </tr>\n",
       "  </tbody>\n",
       "</table>\n",
       "</div>"
      ],
      "text/plain": [
       "         tagId  relevance\n",
       "movieId                  \n",
       "1            1    0.02500\n",
       "1            2    0.02500\n",
       "1            3    0.05775"
      ]
     },
     "execution_count": 75,
     "metadata": {},
     "output_type": "execute_result"
    }
   ],
   "source": [
    "genome_scores = pd.read_csv(\"dataset/genome_scores.csv\", index_col =0)\n",
    "genome_scores.head(3)"
   ]
  },
  {
   "cell_type": "code",
   "execution_count": 76,
   "metadata": {},
   "outputs": [
    {
     "data": {
      "text/html": [
       "<div>\n",
       "<style scoped>\n",
       "    .dataframe tbody tr th:only-of-type {\n",
       "        vertical-align: middle;\n",
       "    }\n",
       "\n",
       "    .dataframe tbody tr th {\n",
       "        vertical-align: top;\n",
       "    }\n",
       "\n",
       "    .dataframe thead th {\n",
       "        text-align: right;\n",
       "    }\n",
       "</style>\n",
       "<table border=\"1\" class=\"dataframe\">\n",
       "  <thead>\n",
       "    <tr style=\"text-align: right;\">\n",
       "      <th></th>\n",
       "      <th>tag</th>\n",
       "    </tr>\n",
       "    <tr>\n",
       "      <th>tagId</th>\n",
       "      <th></th>\n",
       "    </tr>\n",
       "  </thead>\n",
       "  <tbody>\n",
       "    <tr>\n",
       "      <th>1</th>\n",
       "      <td>007</td>\n",
       "    </tr>\n",
       "    <tr>\n",
       "      <th>2</th>\n",
       "      <td>007 (series)</td>\n",
       "    </tr>\n",
       "    <tr>\n",
       "      <th>3</th>\n",
       "      <td>18th century</td>\n",
       "    </tr>\n",
       "  </tbody>\n",
       "</table>\n",
       "</div>"
      ],
      "text/plain": [
       "                tag\n",
       "tagId              \n",
       "1               007\n",
       "2      007 (series)\n",
       "3      18th century"
      ]
     },
     "execution_count": 76,
     "metadata": {},
     "output_type": "execute_result"
    }
   ],
   "source": [
    "genome_tags = pd.read_csv(\"dataset/genome_tags.csv\", index_col = 0)\n",
    "genome_tags.head(3)"
   ]
  },
  {
   "cell_type": "code",
   "execution_count": 77,
   "metadata": {},
   "outputs": [
    {
     "data": {
      "text/html": [
       "<div>\n",
       "<style scoped>\n",
       "    .dataframe tbody tr th:only-of-type {\n",
       "        vertical-align: middle;\n",
       "    }\n",
       "\n",
       "    .dataframe tbody tr th {\n",
       "        vertical-align: top;\n",
       "    }\n",
       "\n",
       "    .dataframe thead th {\n",
       "        text-align: right;\n",
       "    }\n",
       "</style>\n",
       "<table border=\"1\" class=\"dataframe\">\n",
       "  <thead>\n",
       "    <tr style=\"text-align: right;\">\n",
       "      <th></th>\n",
       "      <th>imdbId</th>\n",
       "      <th>tmdbId</th>\n",
       "    </tr>\n",
       "    <tr>\n",
       "      <th>movieId</th>\n",
       "      <th></th>\n",
       "      <th></th>\n",
       "    </tr>\n",
       "  </thead>\n",
       "  <tbody>\n",
       "    <tr>\n",
       "      <th>1</th>\n",
       "      <td>114709</td>\n",
       "      <td>862.0</td>\n",
       "    </tr>\n",
       "    <tr>\n",
       "      <th>2</th>\n",
       "      <td>113497</td>\n",
       "      <td>8844.0</td>\n",
       "    </tr>\n",
       "    <tr>\n",
       "      <th>3</th>\n",
       "      <td>113228</td>\n",
       "      <td>15602.0</td>\n",
       "    </tr>\n",
       "  </tbody>\n",
       "</table>\n",
       "</div>"
      ],
      "text/plain": [
       "         imdbId   tmdbId\n",
       "movieId                 \n",
       "1        114709    862.0\n",
       "2        113497   8844.0\n",
       "3        113228  15602.0"
      ]
     },
     "execution_count": 77,
     "metadata": {},
     "output_type": "execute_result"
    }
   ],
   "source": [
    "link = pd.read_csv(\"dataset/link.csv\", index_col = 0)\n",
    "link.head(3)"
   ]
  },
  {
   "cell_type": "code",
   "execution_count": 14,
   "metadata": {},
   "outputs": [
    {
     "data": {
      "text/html": [
       "<div>\n",
       "<style scoped>\n",
       "    .dataframe tbody tr th:only-of-type {\n",
       "        vertical-align: middle;\n",
       "    }\n",
       "\n",
       "    .dataframe tbody tr th {\n",
       "        vertical-align: top;\n",
       "    }\n",
       "\n",
       "    .dataframe thead th {\n",
       "        text-align: right;\n",
       "    }\n",
       "</style>\n",
       "<table border=\"1\" class=\"dataframe\">\n",
       "  <thead>\n",
       "    <tr style=\"text-align: right;\">\n",
       "      <th></th>\n",
       "      <th>title</th>\n",
       "      <th>genres</th>\n",
       "    </tr>\n",
       "    <tr>\n",
       "      <th>movieId</th>\n",
       "      <th></th>\n",
       "      <th></th>\n",
       "    </tr>\n",
       "  </thead>\n",
       "  <tbody>\n",
       "    <tr>\n",
       "      <th>1</th>\n",
       "      <td>Toy Story (1995)</td>\n",
       "      <td>Adventure|Animation|Children|Comedy|Fantasy</td>\n",
       "    </tr>\n",
       "    <tr>\n",
       "      <th>2</th>\n",
       "      <td>Jumanji (1995)</td>\n",
       "      <td>Adventure|Children|Fantasy</td>\n",
       "    </tr>\n",
       "    <tr>\n",
       "      <th>3</th>\n",
       "      <td>Grumpier Old Men (1995)</td>\n",
       "      <td>Comedy|Romance</td>\n",
       "    </tr>\n",
       "  </tbody>\n",
       "</table>\n",
       "</div>"
      ],
      "text/plain": [
       "                           title                                       genres\n",
       "movieId                                                                      \n",
       "1               Toy Story (1995)  Adventure|Animation|Children|Comedy|Fantasy\n",
       "2                 Jumanji (1995)                   Adventure|Children|Fantasy\n",
       "3        Grumpier Old Men (1995)                               Comedy|Romance"
      ]
     },
     "execution_count": 14,
     "metadata": {},
     "output_type": "execute_result"
    }
   ],
   "source": [
    "movie = pd.read_csv(\"dataset/movie.csv\", index_col = 0)\n",
    "movie.head(3)"
   ]
  },
  {
   "cell_type": "code",
   "execution_count": 13,
   "metadata": {},
   "outputs": [
    {
     "data": {
      "text/html": [
       "<div>\n",
       "<style scoped>\n",
       "    .dataframe tbody tr th:only-of-type {\n",
       "        vertical-align: middle;\n",
       "    }\n",
       "\n",
       "    .dataframe tbody tr th {\n",
       "        vertical-align: top;\n",
       "    }\n",
       "\n",
       "    .dataframe thead th {\n",
       "        text-align: right;\n",
       "    }\n",
       "</style>\n",
       "<table border=\"1\" class=\"dataframe\">\n",
       "  <thead>\n",
       "    <tr style=\"text-align: right;\">\n",
       "      <th></th>\n",
       "      <th>userId</th>\n",
       "      <th>movieId</th>\n",
       "      <th>rating</th>\n",
       "      <th>timestamp</th>\n",
       "    </tr>\n",
       "  </thead>\n",
       "  <tbody>\n",
       "    <tr>\n",
       "      <th>0</th>\n",
       "      <td>1</td>\n",
       "      <td>2</td>\n",
       "      <td>3.5</td>\n",
       "      <td>2005-04-02 23:53:47</td>\n",
       "    </tr>\n",
       "    <tr>\n",
       "      <th>1</th>\n",
       "      <td>1</td>\n",
       "      <td>29</td>\n",
       "      <td>3.5</td>\n",
       "      <td>2005-04-02 23:31:16</td>\n",
       "    </tr>\n",
       "    <tr>\n",
       "      <th>2</th>\n",
       "      <td>1</td>\n",
       "      <td>32</td>\n",
       "      <td>3.5</td>\n",
       "      <td>2005-04-02 23:33:39</td>\n",
       "    </tr>\n",
       "  </tbody>\n",
       "</table>\n",
       "</div>"
      ],
      "text/plain": [
       "   userId  movieId  rating            timestamp\n",
       "0       1        2     3.5  2005-04-02 23:53:47\n",
       "1       1       29     3.5  2005-04-02 23:31:16\n",
       "2       1       32     3.5  2005-04-02 23:33:39"
      ]
     },
     "execution_count": 13,
     "metadata": {},
     "output_type": "execute_result"
    }
   ],
   "source": [
    "rating = pd.read_csv(\"dataset/rating.csv\")\n",
    "rating.head(3)"
   ]
  },
  {
   "cell_type": "code",
   "execution_count": 80,
   "metadata": {},
   "outputs": [
    {
     "data": {
      "text/html": [
       "<div>\n",
       "<style scoped>\n",
       "    .dataframe tbody tr th:only-of-type {\n",
       "        vertical-align: middle;\n",
       "    }\n",
       "\n",
       "    .dataframe tbody tr th {\n",
       "        vertical-align: top;\n",
       "    }\n",
       "\n",
       "    .dataframe thead th {\n",
       "        text-align: right;\n",
       "    }\n",
       "</style>\n",
       "<table border=\"1\" class=\"dataframe\">\n",
       "  <thead>\n",
       "    <tr style=\"text-align: right;\">\n",
       "      <th></th>\n",
       "      <th>movieId</th>\n",
       "      <th>tag</th>\n",
       "      <th>timestamp</th>\n",
       "    </tr>\n",
       "    <tr>\n",
       "      <th>userId</th>\n",
       "      <th></th>\n",
       "      <th></th>\n",
       "      <th></th>\n",
       "    </tr>\n",
       "  </thead>\n",
       "  <tbody>\n",
       "    <tr>\n",
       "      <th>18</th>\n",
       "      <td>4141</td>\n",
       "      <td>Mark Waters</td>\n",
       "      <td>2009-04-24 18:19:40</td>\n",
       "    </tr>\n",
       "    <tr>\n",
       "      <th>65</th>\n",
       "      <td>208</td>\n",
       "      <td>dark hero</td>\n",
       "      <td>2013-05-10 01:41:18</td>\n",
       "    </tr>\n",
       "    <tr>\n",
       "      <th>65</th>\n",
       "      <td>353</td>\n",
       "      <td>dark hero</td>\n",
       "      <td>2013-05-10 01:41:19</td>\n",
       "    </tr>\n",
       "  </tbody>\n",
       "</table>\n",
       "</div>"
      ],
      "text/plain": [
       "        movieId          tag            timestamp\n",
       "userId                                           \n",
       "18         4141  Mark Waters  2009-04-24 18:19:40\n",
       "65          208    dark hero  2013-05-10 01:41:18\n",
       "65          353    dark hero  2013-05-10 01:41:19"
      ]
     },
     "execution_count": 80,
     "metadata": {},
     "output_type": "execute_result"
    }
   ],
   "source": [
    "tag = pd.read_csv(\"dataset/tag.csv\", index_col = 0)\n",
    "tag.head(3)"
   ]
  },
  {
   "cell_type": "code",
   "execution_count": 45,
   "metadata": {},
   "outputs": [
    {
     "name": "stderr",
     "output_type": "stream",
     "text": [
      "/tmp/ipykernel_66895/1612435243.py:8: DeprecationWarning: DataFrameGroupBy.apply operated on the grouping columns. This behavior is deprecated, and in a future version of pandas the grouping columns will be excluded from the operation. Either pass `include_groups=False` to exclude the groupings or explicitly select the grouping columns after groupby to silence this warning.\n",
      "  user_ratings = rating.groupby('userId').apply(\n"
     ]
    }
   ],
   "source": [
    "# Map movie names into ratings_df\n",
    "rating= rating.merge(movie, on='movieId')\n",
    "\n",
    "# Create user_movies dictionary\n",
    "user_movies = rating.groupby('userId')['movieId'].apply(list).to_dict()\n",
    "\n",
    "# Create user_ratings dictionary\n",
    "user_ratings = rating.groupby('userId').apply(\n",
    "    lambda group: dict(zip(group['movieId'], group['rating']))\n",
    ").to_dict()"
   ]
  },
  {
   "cell_type": "markdown",
   "metadata": {},
   "source": [
    "\n",
    "## <strong>1.2 Minhash Signatures</strong>\n",
    "\n",
    "Using the userId and movieId columns, implement your own MinHash function. This function will hash each user's watched movie list, creating a representation that allows for quick comparisons of user similarities.\n",
    "\n",
    "    -Important: Implement your MinHash function from scratch—do not use any pre-built hash functions.\n",
    "    -Use your MinHash function to generate signature vectors for each user based on their rated movies.\n",
    "    -Experiment with different hash functions and threshold values to find the most effective configurations. Report these results.\n"
   ]
  },
  {
   "cell_type": "markdown",
   "metadata": {},
   "source": [
    "Let's first group all the users and their correspective movies."
   ]
  },
  {
   "cell_type": "code",
   "execution_count": 46,
   "metadata": {},
   "outputs": [],
   "source": [
    "user_movies = rating.groupby('userId')['movieId'].apply(list).to_dict()"
   ]
  },
  {
   "cell_type": "markdown",
   "metadata": {},
   "source": [
    "Let's define a simple modulo hash function: <br> <br>\n",
    "$\n",
    "h(x) = (a \\cdot x + b) \\mod p\n",
    "$\n",
    "\n",
    "Where:  \n",
    "- $ x $: Input value  \n",
    "- $ a $: Coefficient (non-zero)  \n",
    "- $ b $: Coefficient  \n",
    "- $ p $: Prime modulus"
   ]
  },
  {
   "cell_type": "code",
   "execution_count": 17,
   "metadata": {},
   "outputs": [],
   "source": [
    "def hash_function(x, a ,b ,p): \n",
    "    return (a*x + b) % p"
   ]
  },
  {
   "cell_type": "markdown",
   "metadata": {},
   "source": [
    "We generate multiple hash functions."
   ]
  },
  {
   "cell_type": "code",
   "execution_count": 18,
   "metadata": {},
   "outputs": [],
   "source": [
    "def create_hash_functions(max_value, max_prime):\n",
    "    \n",
    "    primes = [i for i in range(10,max_prime) if isprime(i)]\n",
    "\n",
    "    # Generate multiple hash functions\n",
    "    hash_functions = []\n",
    "    for i in range(10):\n",
    "        a = random.randint(1, max_value)  # Random coefficient a (non-zero)\n",
    "        b = random.randint(0, max_value)  # Random coefficient b\n",
    "        p = random.choice(primes)  # Predefined prime values\n",
    "        \n",
    "        hash_functions.append(lambda x, a=a, b=b, p=p: hash_function(x, a, b, p))\n",
    "    return hash_functions"
   ]
  },
  {
   "cell_type": "markdown",
   "metadata": {},
   "source": [
    "Now given these hash functions, we create our signature matrix."
   ]
  },
  {
   "cell_type": "code",
   "execution_count": 19,
   "metadata": {},
   "outputs": [],
   "source": [
    "def minhash(user_movies, hash_functions):\n",
    "    signature_matrix = {}\n",
    "\n",
    "    for user, movies in user_movies.items():\n",
    "        signature_vector = []\n",
    "        for h in hash_functions:\n",
    "            min_hash = min(h(movie) for movie in movies)  # Compute min hash value for the user's movies\n",
    "            signature_vector.append(min_hash)\n",
    "        signature_matrix[user] = signature_vector\n",
    "    \n",
    "    return signature_matrix"
   ]
  },
  {
   "cell_type": "code",
   "execution_count": 47,
   "metadata": {},
   "outputs": [],
   "source": [
    "user_signatures = minhash(user_movies,create_hash_functions(max_value = 10000, max_prime = 1000000))"
   ]
  },
  {
   "cell_type": "markdown",
   "metadata": {},
   "source": [
    "### **Effectiveness of the Hashing Function**\n",
    "\n",
    "To evaluate the effectiveness of our MinHash function, we compare the **Jaccard similarity** of two sets with the **MinHash similarity** of their corresponding signature matrices. We then calculate the error using the squared Euclidean distance between the two similarities.\n",
    "\n",
    "#### 1. **Jaccard Similarity**\n",
    "\n",
    "The Jaccard similarity between two sets $A $ and $B $ is defined as:\n",
    "\n",
    "$\n",
    "J(A, B) = \\frac{|A \\cap B|}{|A \\cup B|}\n",
    "$\n",
    "\n",
    "#### 2. **MinHash Similarity**\n",
    "\n",
    "The MinHash similarity between two signature vectors $\\text{sig}_1 $ and $\\text{sig}_2 $ is given by:\n",
    "\n",
    "$\n",
    "\\text{MinHashSim}(\\text{sig}_1, \\text{sig}_2) = \\frac{\\text{Number of Matching Hashes}}{\\text{Total Number of Hashes}}\n",
    "$\n",
    "\n",
    "$\n",
    "\\text{MinHashSim}(\\text{sig}_1, \\text{sig}_2) = \\frac{\\sum_{i=1}^n \\mathbb{1}(\\text{sig}_1[i] = \\text{sig}_2[i])}{n}\n",
    "$\n",
    "\n",
    "where $\\mathbb{1} $ is the indicator function that returns $1 $ if the elements are equal and $0 $ otherwise.\n",
    "\n",
    "#### 3. **Error Calculation**\n",
    "\n",
    "The error is computed as the squared Euclidean distance between the true Jaccard similarity and the MinHash similarity:\n",
    "\n",
    "$\n",
    "\\text{Error} = (J(A, B) - \\text{MinHashSim}(\\text{sig}_1, \\text{sig}_2))^2\n",
    "$\n",
    "\n",
    "#### 4. **Total Error Across Users**\n",
    "\n",
    "For all pairs of users \\((u_1, u_2)$, the total error is computed as:\n",
    "\n",
    "$\n",
    "\\text{Total Error} = \\frac{\\sum_{(u_1, u_2) \\in \\text{Users}} \\text{Error}(u_1, u_2)}{|\\text{Users}|^2}\n",
    "$\n",
    "\n",
    "Where:\n",
    "- $\\text{Users} $ is the set of all user pairs.\n",
    "- $\\text{Error}(u_1, u_2) $ is the squared Euclidean error for a pair of users.\n"
   ]
  },
  {
   "cell_type": "code",
   "execution_count": 11,
   "metadata": {},
   "outputs": [],
   "source": [
    "# For simplicity we only ran 10000 lines including 90 users\n",
    "\n",
    "# True Jaccard similarity\n",
    "def jaccard_similarity(set1, set2):\n",
    "    return len(set1.intersection(set2)) / len(set1.union(set2))\n",
    "\n",
    "# MinHash similarity\n",
    "def minhash_similarity(sig1, sig2):\n",
    "    return sum(1 for a, b in zip(sig1, sig2) if a == b) / len(sig1)\n",
    "\n",
    "# Evaluate effectiveness\n",
    "def evaluate_effectiveness(user_movies, signature_matrix):\n",
    "    users = list(user_movies.keys())\n",
    "\n",
    "    tot_error = 0\n",
    "    for user1, user2 in combinations(users, 2):\n",
    "        set1, set2 = set(user_movies[user1]), set(user_movies[user2])\n",
    "        sig1, sig2 = signature_matrix[user1], signature_matrix[user2]\n",
    "        \n",
    "        # Compute similarities\n",
    "        true_jaccard = jaccard_similarity(set1, set2)\n",
    "        approx_minhash = minhash_similarity(sig1, sig2)\n",
    "        \n",
    "        # Calculate Error\n",
    "        error = (true_jaccard - approx_minhash)**2\n",
    "        tot_error += error\n",
    "    \n",
    "    return tot_error / (len(users)**2)\n"
   ]
  },
  {
   "cell_type": "markdown",
   "metadata": {},
   "source": [
    "Let's test our results given different types of values for the hashing function."
   ]
  },
  {
   "cell_type": "code",
   "execution_count": null,
   "metadata": {},
   "outputs": [],
   "source": [
    "results = []\n",
    "parameters = []\n",
    "for i in range(10,1000,5):\n",
    "    parameters.append(i)\n",
    "    hash_functions = create_hash_functions(i, i*2)\n",
    "    signature_matrix = minhash(user_movies,hash_functions)\n",
    "    result = evaluate_effectiveness(user_movies,signature_matrix)\n",
    "    results.append(result)"
   ]
  },
  {
   "cell_type": "markdown",
   "metadata": {},
   "source": [
    "Let's plot the results."
   ]
  },
  {
   "cell_type": "code",
   "execution_count": null,
   "metadata": {},
   "outputs": [
    {
     "data": {
      "image/png": "[encoded data removed]",
      "text/plain": [
       "<Figure size 1200x800 with 1 Axes>"
      ]
     },
     "metadata": {},
     "output_type": "display_data"
    }
   ],
   "source": [
    "plt.figure(figsize=(12, 8))  \n",
    "plt.scatter(parameters, results, color='pink', label='average error',alpha = 0.9)  # Plot points\n",
    "plt.title(\"Relationship between parameter and results\")  \n",
    "plt.xlabel(\"Parameter\") \n",
    "plt.ylabel(\"Average Error\") \n",
    "plt.legend() \n",
    "plt.show()"
   ]
  },
  {
   "cell_type": "markdown",
   "metadata": {},
   "source": [
    "We can clearly see a direct relationship between the maximum value in the hashing function and the error. As the maximum value grows, the likelihood of hash collisions decreases, resulting in a better approximation of the true Jaccard similarity and a reduction in error."
   ]
  },
  {
   "cell_type": "markdown",
   "metadata": {},
   "source": [
    "## <strong> 1.3 Locality-Sensitive Hashing (LSH) </strong>"
   ]
  },
  {
   "cell_type": "markdown",
   "metadata": {},
   "source": [
    "### <strong> 1.3.1 Bucket Creation: For each user, divide the MinHash signature into bands and hash each band to form buckets. Users with similar bands should fall into the same buckets."
   ]
  },
  {
   "cell_type": "markdown",
   "metadata": {},
   "source": [
    "We create a custom hashing function for buckets"
   ]
  },
  {
   "cell_type": "code",
   "execution_count": 48,
   "metadata": {},
   "outputs": [],
   "source": [
    "def custom_bucket_hash(sig):\n",
    "    return sum(sig) % 1001"
   ]
  },
  {
   "cell_type": "code",
   "execution_count": 49,
   "metadata": {},
   "outputs": [],
   "source": [
    "def lsh(minhash_signatures, num_bands):\n",
    "    \"\"\"\n",
    "    Locality-Sensitive Hashing (LSH) for clustering similar users.\n",
    "\n",
    "    Args:\n",
    "        minhash_signatures (dict): Dictionary mapping user IDs to their MinHash signatures.\n",
    "        num_bands (int): Number of bands to divide the signature into.\n",
    "\n",
    "    Returns:\n",
    "        buckets (defaultdict): Mapping from bucket keys to sets of user IDs.\n",
    "    \"\"\"\n",
    "    # Initialize buckets\n",
    "    buckets = defaultdict(set)\n",
    "    num_rows = len(next(iter(minhash_signatures.values()))) // num_bands  # Rows per band\n",
    "\n",
    "    # Create buckets for each band\n",
    "    for user, signature in minhash_signatures.items():\n",
    "        for band_idx in range(num_bands):\n",
    "            # Extract rows for the current band\n",
    "            start = band_idx * num_rows\n",
    "            end = start + num_rows\n",
    "            band = tuple(signature[start:end])  # Ensure immutability for hashing\n",
    "            # Hash the band and add the user to the corresponding bucket\n",
    "            bucket_key = custom_bucket_hash(band)\n",
    "            buckets[bucket_key].add(user)\n",
    "    \n",
    "    return buckets\n",
    "\n"
   ]
  },
  {
   "cell_type": "markdown",
   "metadata": {},
   "source": [
    "### <strong>  1.3.2 Query: For a given user, identify the two most similar users based on their bucket placement. If a user doesn’t have any similar users in their bucket, adjust the parameters until similar users are found."
   ]
  },
  {
   "cell_type": "code",
   "execution_count": 50,
   "metadata": {},
   "outputs": [],
   "source": [
    "def query_similar_users(user, minhash_signatures, buckets):\n",
    "    \"\"\"\n",
    "    Query the most similar users for a given user using LSH buckets.\n",
    "\n",
    "    Args:\n",
    "        user (str): User ID for whom to find similar users.\n",
    "        minhash_signatures (dict): MinHash signatures for all users.\n",
    "        buckets (defaultdict): Buckets created using LSH.\n",
    "\n",
    "    Returns:\n",
    "        List[Tuple[str, float]]: Two most similar users and their MinHash similarity scores.\n",
    "    \"\"\"\n",
    "    user_signature = minhash_signatures[user]\n",
    "    similar_users = set()\n",
    "\n",
    "    # Find all buckets containing the given user\n",
    "    for bucket_users in buckets.values():\n",
    "        if user in bucket_users:\n",
    "            similar_users.update(bucket_users)\n",
    "    \n",
    "    # Remove the queried user from the set of similar users\n",
    "    similar_users.discard(user)\n",
    "\n",
    "    # Compute MinHash similarities\n",
    "    similarities = [\n",
    "        (other_user, minhash_similarity(user_signature, minhash_signatures[other_user]))\n",
    "        for other_user in similar_users\n",
    "    ]\n",
    "\n",
    "    # Sort by similarity in descending order and return the top two\n",
    "    return sorted(similarities, key=lambda x: x[1], reverse=True)[:2]\n"
   ]
  },
  {
   "cell_type": "code",
   "execution_count": 51,
   "metadata": {},
   "outputs": [
    {
     "name": "stdout",
     "output_type": "stream",
     "text": [
      "Similar users for 'user1': [(41059, 0.4), (84182, 0.4)]\n"
     ]
    }
   ],
   "source": [
    "# Apply LSH\n",
    "num_bands = 3  # Choose the number of bands\n",
    "buckets = lsh(user_signatures, num_bands)\n",
    "\n",
    "\n",
    "# Query similar users for \"user1\"\n",
    "similar_users = query_similar_users(1, user_signatures, buckets)\n",
    "print(f\"Similar users for 'user1': {similar_users}\")"
   ]
  },
  {
   "cell_type": "markdown",
   "metadata": {},
   "source": [
    "### <strong> 1.3.3 Movie Recommendation Logic: </strong>\n",
    "\n",
    "    If both similar users have rated a movie, recommend this movie based on the average rating.\n",
    "    If there are no commonly rated movies, recommend the top-rated movies of the most similar user.\n",
    "\n"
   ]
  },
  {
   "cell_type": "code",
   "execution_count": 52,
   "metadata": {},
   "outputs": [],
   "source": [
    "def recommend_movies(target_user, user_movies, user_ratings, similar_users, max_recommendations=5):\n",
    "    \"\"\"\n",
    "    Recommends movies for a target user based on similar users' ratings.\n",
    "\n",
    "    Args:\n",
    "        target_user (str): The user for whom recommendations are generated.\n",
    "        user_movies (dict): Movies watched by each user.\n",
    "        user_ratings (dict): Ratings given by each user for movies.\n",
    "        similar_users (list): Two most similar users (in descending similarity order).\n",
    "        max_recommendations (int): Maximum number of recommendations.\n",
    "\n",
    "    Returns:\n",
    "        List[Tuple[str, float]]: Recommended movies and their ratings.\n",
    "    \"\"\"\n",
    "    # Movies rated by the target user\n",
    "    target_user_movies = set(user_movies[target_user])\n",
    "    \n",
    "    # Movies rated by similar users\n",
    "    similar_user_1, similar_user_2 = similar_users\n",
    "    user1_movies = set(user_movies[similar_user_1])\n",
    "    user2_movies = set(user_movies[similar_user_2])\n",
    "\n",
    "    # Find common movies and compute average ratings\n",
    "    common_movies = user1_movies & user2_movies\n",
    "    recommendations = []\n",
    "    for movie in common_movies:\n",
    "        movie1 = user_ratings[similar_user_1][movie]\n",
    "        movie2 = user_ratings[similar_user_2][movie]\n",
    "        avg_rating = (movie1 + movie2) / 2\n",
    "        recommendations.append((movie, avg_rating))\n",
    "\n",
    "    # Sort recommendations by average rating\n",
    "    recommendations.sort(key=lambda x: x[1], reverse=True)\n",
    "\n",
    "    # Add top-rated movies from the most similar user\n",
    "    most_similar_user = similar_user_1\n",
    "    for movie, rating in sorted(user_ratings[most_similar_user].items(), key=lambda x: x[1], reverse=True):\n",
    "        if len(recommendations) >= max_recommendations:\n",
    "            break\n",
    "        if movie not in target_user_movies and movie not in [rec[0] for rec in recommendations]:\n",
    "            recommendations.append((movie, rating))\n",
    "    \n",
    "    # Fill up to 5 recommendations using the second most similar user if needed\n",
    "    if len(recommendations) < max_recommendations:\n",
    "        for movie, rating in sorted(user_ratings[similar_user_2].items(), key=lambda x: x[1], reverse=True):\n",
    "            if len(recommendations) >= max_recommendations:\n",
    "                break\n",
    "            if movie not in target_user_movies and movie not in [rec[0] for rec in recommendations]:\n",
    "                recommendations.append((movie, rating))\n",
    "    \n",
    "    return recommendations[:max_recommendations]\n"
   ]
  },
  {
   "cell_type": "code",
   "execution_count": null,
   "metadata": {},
   "outputs": [],
   "source": [
    "target = 1\n",
    "similar_users = [user for user, score in query_similar_users(target,user_signatures,buckets)]\n",
    "recommendations = recommend_movies(target_user=1, \n",
    "                                   user_movies=user_movies, \n",
    "                                   user_ratings=user_ratings, \n",
    "                                   similar_users=similar_users)"
   ]
  },
  {
   "cell_type": "markdown",
   "metadata": {},
   "source": [
    "### <strong> 1.3.4 Final Recommendation: Provide at most five movies to the user."
   ]
  },
  {
   "cell_type": "code",
   "execution_count": 58,
   "metadata": {},
   "outputs": [
    {
     "data": {
      "text/html": [
       "<div>\n",
       "<style scoped>\n",
       "    .dataframe tbody tr th:only-of-type {\n",
       "        vertical-align: middle;\n",
       "    }\n",
       "\n",
       "    .dataframe tbody tr th {\n",
       "        vertical-align: top;\n",
       "    }\n",
       "\n",
       "    .dataframe thead th {\n",
       "        text-align: right;\n",
       "    }\n",
       "</style>\n",
       "<table border=\"1\" class=\"dataframe\">\n",
       "  <thead>\n",
       "    <tr style=\"text-align: right;\">\n",
       "      <th></th>\n",
       "      <th>title</th>\n",
       "      <th>score</th>\n",
       "    </tr>\n",
       "  </thead>\n",
       "  <tbody>\n",
       "    <tr>\n",
       "      <th>0</th>\n",
       "      <td>Full Metal Jacket (1987)</td>\n",
       "      <td>4.5</td>\n",
       "    </tr>\n",
       "    <tr>\n",
       "      <th>1</th>\n",
       "      <td>Matrix, The (1999)</td>\n",
       "      <td>4.5</td>\n",
       "    </tr>\n",
       "    <tr>\n",
       "      <th>2</th>\n",
       "      <td>Alien (1979)</td>\n",
       "      <td>4.5</td>\n",
       "    </tr>\n",
       "    <tr>\n",
       "      <th>3</th>\n",
       "      <td>Truman Show, The (1998)</td>\n",
       "      <td>4.5</td>\n",
       "    </tr>\n",
       "    <tr>\n",
       "      <th>4</th>\n",
       "      <td>Highlander (1986)</td>\n",
       "      <td>4.5</td>\n",
       "    </tr>\n",
       "  </tbody>\n",
       "</table>\n",
       "</div>"
      ],
      "text/plain": [
       "                      title  score\n",
       "0  Full Metal Jacket (1987)    4.5\n",
       "1        Matrix, The (1999)    4.5\n",
       "2              Alien (1979)    4.5\n",
       "3   Truman Show, The (1998)    4.5\n",
       "4         Highlander (1986)    4.5"
      ]
     },
     "execution_count": 58,
     "metadata": {},
     "output_type": "execute_result"
    }
   ],
   "source": [
    "recommendations_df = pd.DataFrame(recommendations, columns=['movieId', 'score'])\n",
    "result_df = recommendations_df.merge(movie, on='movieId', how='left')\n",
    "result_df[['title', 'score']]"
   ]
  },
  {
   "cell_type": "markdown",
   "metadata": {},
   "source": [
    "---"
   ]
  },
  {
   "cell_type": "code",
   "execution_count": null,
   "metadata": {},
   "outputs": [],
   "source": [
    "import os\n",
    "import pandas as pd\n",
    "import numpy as np\n",
    "import matplotlib.pyplot as plt\n",
    "from collections import Counter\n",
    "from kmeans import *\n",
    "dataframes = {}\n",
    "for dataset in os.listdir(path): # list all files in the directory\n",
    "    print(dataset)\n",
    "    dataframes[dataset] = pd.read_csv(os.path.join(path, dataset)) # load the dataset into a pandas dataframe"
   ]
  },
  {
   "cell_type": "code",
   "execution_count": null,
   "metadata": {},
   "outputs": [],
   "source": [
    "for dataset in dataframes:\n",
    "    print(dataset)\n",
    "    print(f\"Shape: {dataframes[dataset].shape}\")\n",
    "    print(dataframes[dataset].head(3))\n",
    "    print()"
   ]
  },
  {
   "cell_type": "code",
   "execution_count": null,
   "metadata": {},
   "outputs": [],
   "source": [
    "tags_df = dataframes['tag.csv']\n",
    "movies_df = dataframes['movie.csv']\n",
    "ratings_df = dataframes['rating.csv']\n",
    "links_df = dataframes['link.csv']\n",
    "genome_scores_df = dataframes['genome_scores.csv']\n",
    "genome_tags_df = dataframes['genome_tags.csv']\n",
    "\n",
    "print(movies_df.info()); print(f\"Are the movie id's unique? {movies_df.movieId.nunique() == movies_df.shape[0]}\")"
   ]
  },
  {
   "cell_type": "markdown",
   "metadata": {},
   "source": [
    "---"
   ]
  },
  {
   "cell_type": "markdown",
   "metadata": {},
   "source": [
    "## 2. Grouping Movies Together!\n",
    "\n",
    "In this section, you will explore clustering algorithms to group the movies you have based on specific features you choose to consider for them.\n",
    "\n",
    "### 2.1 Feature Engineering\n",
    "\n",
    "As you know, the dataset provided isn't particularly clean or well-structured to represent the features of the movies. Therefore, your first step is to create a more suitable set of attributes (variables, features, covariates) to represent the movies based on the available information. Here are some variables or features you might consider for clustering:\n",
    "\n",
    "1. **movieid**: id of each movie\n",
    "2. **genres**: list of genres attached to the movie (given that a movie may have several genres, it's essential to devise a method to accurately represent the genres for each movie)\n",
    "3. **ratings_avg**: the average ratings provided by users for the movie\n",
    "4. **relevant_genome_tag**: the most relevant tag to the movie given in the genome set\n",
    "5. **common_user_tag**: the most common tag given to the movie by the users\n",
    "\n",
    "In addition to the above features, include at least three additional features for clustering.\n",
    "\n",
    "Note: If you have accurately identified and applied the methods for representing the features, you should have more than eight features!\n",
    "How could this happen? Take a moment to think about it.\n",
    "\n",
    "---"
   ]
  },
  {
   "cell_type": "markdown",
   "metadata": {},
   "source": [
    "Keeping in mind that we are preparing the dataset for *movies* and that we will be clustering movies later on! I will keep the movie id column as it is and will start by using the movies dataset to make one hot encoding for genres and represent the genres for each movieid."
   ]
  },
  {
   "cell_type": "code",
   "execution_count": null,
   "metadata": {},
   "outputs": [],
   "source": [
    "movies_df.head(3)"
   ]
  },
  {
   "cell_type": "markdown",
   "metadata": {},
   "source": [
    "Some field in the genres column contain values such as (no genres listed). We can see that the total number of such values are 246:"
   ]
  },
  {
   "cell_type": "code",
   "execution_count": null,
   "metadata": {},
   "outputs": [],
   "source": [
    "print(f'Number of Values containing \"(no genres listed)\" are: {movies_df['genres'].str.contains('no').sum()}')"
   ]
  },
  {
   "cell_type": "markdown",
   "metadata": {},
   "source": [
    "Now because our movies dataset have over 27000 movies, we can safely drop such rows!"
   ]
  },
  {
   "cell_type": "code",
   "execution_count": null,
   "metadata": {},
   "outputs": [],
   "source": [
    "# replace these with None\n",
    "movies_df['genres'] = movies_df['genres'].apply(lambda x: x if x != '(no genres listed)' else None)\n",
    "\n",
    "# dropping such rows\n",
    "movies_df.dropna(subset=['genres'], inplace=True)"
   ]
  },
  {
   "cell_type": "code",
   "execution_count": null,
   "metadata": {},
   "outputs": [],
   "source": [
    "# Feature 1: One-hot encode genres\n",
    "movies_df[\"genres\"] = movies_df[\"genres\"].str.split(\"|\")\n",
    "genre_list = set(g for genres in movies_df[\"genres\"] for g in genres)\n",
    "for genre in genre_list:\n",
    "    movies_df[genre] = movies_df[\"genres\"].apply(lambda x: 1 if genre in x else 0)"
   ]
  },
  {
   "cell_type": "code",
   "execution_count": null,
   "metadata": {},
   "outputs": [],
   "source": [
    "movies_df.head(3)\n",
    "\n",
    "movies_df.shape"
   ]
  },
  {
   "cell_type": "markdown",
   "metadata": {},
   "source": [
    "Now, going to the the second feature, I will use the ratings dataset to calculate average ratings for each movieid and merge it with the original movies dataset"
   ]
  },
  {
   "cell_type": "code",
   "execution_count": null,
   "metadata": {},
   "outputs": [],
   "source": [
    "print(ratings_df.shape)\n",
    "ratings_df.head(3)"
   ]
  },
  {
   "cell_type": "code",
   "execution_count": null,
   "metadata": {},
   "outputs": [],
   "source": [
    "# Feature 2: Average rating\n",
    "rating_avg = ratings_df.groupby(\"movieId\")[\"rating\"].mean().rename(\"ratings_avg\")\n",
    "rating_avg.head(3)\n",
    "\n",
    "rating_avg.shape"
   ]
  },
  {
   "cell_type": "markdown",
   "metadata": {},
   "source": [
    "The shape of the movies datframe and the rating_avg series are different. It means that there are some movie ids for which no ratings are given. Because our ultimate task is to cluster movies based on some particular features, we will only keep the movie ids for which there are ratings, i.e. by performing an *inner join*. We will adapt the same strategy for other features as well. However, I would like to *emphasize* that this strategy will greatly reduce the size of the movies set!"
   ]
  },
  {
   "cell_type": "code",
   "execution_count": null,
   "metadata": {},
   "outputs": [],
   "source": [
    "movies_df = movies_df.merge(rating_avg, on=\"movieId\")\n",
    "movies_df.head(3)\n",
    "\n",
    "movies_df.shape"
   ]
  },
  {
   "cell_type": "code",
   "execution_count": null,
   "metadata": {},
   "outputs": [],
   "source": [
    "tags_df.head(3)"
   ]
  },
  {
   "cell_type": "code",
   "execution_count": null,
   "metadata": {},
   "outputs": [],
   "source": [
    "# Feature 3: Common user tags\n",
    "top_10_common_tags = tags_df.groupby('movieId')['tag'].apply(list).apply(lambda x: Counter(x).most_common(10))\n",
    "top_10_common_tags.head(3)\n",
    "\n",
    "top_10_common_tags.shape"
   ]
  },
  {
   "cell_type": "code",
   "execution_count": null,
   "metadata": {},
   "outputs": [],
   "source": [
    "movies_df = movies_df.merge(top_10_common_tags, on='movieId')\n",
    "\n",
    "movies_df.head(3)\n",
    "\n",
    "movies_df.shape"
   ]
  },
  {
   "cell_type": "markdown",
   "metadata": {},
   "source": [
    "Now, we will normalize the tag counts into relative frequencies"
   ]
  },
  {
   "cell_type": "code",
   "execution_count": null,
   "metadata": {},
   "outputs": [],
   "source": [
    "movies_df[\"tag\"] = movies_df[\"tag\"].apply(lambda tags: [(tag, round(count/sum(count for tag, count in tags), 2)) for tag, count in tags])\n",
    "movies_df.head(3)"
   ]
  },
  {
   "cell_type": "code",
   "execution_count": null,
   "metadata": {},
   "outputs": [],
   "source": [
    "movies_df.rename(columns={'tag': 'top_10_user_defined_tags'}, inplace=True)"
   ]
  },
  {
   "cell_type": "markdown",
   "metadata": {},
   "source": [
    "Because we will be performing PCA and Clustering eventually, the dataset features needs to be numeric in nature. I could have inserted only the first most common user defined tag for each movie, but I inserted 10 most common for the following reason: Use these tags to come up with a metric that show relevance_score_for_tags for each movie id.\n",
    "\n",
    "The `relevance_score_for_tags` for a movie is computed as:\n",
    "\n",
    "$$ \\text{Relevance Score} = \\sum_{t \\in \\text{movie tags}} \\text{Relevance}_t \\cdot \\text{GlobalWeight}_t $$\n",
    "\n",
    "#### Components:\n",
    "\n",
    "1. **Relevance of the Tag** $ \\text{Relevance}_t $:\n",
    "   - Represents how strongly the tag $ t $ is associated with the movie, based on the `relevance` of a tag deried using its relative frequeny which is computed using the frequency each user labelled (tagged) the movie / total tags\n",
    "   - Tags with higher relevance contribute more to the score.\n",
    "\n",
    "2. **Global Weight of the Tag** $ \\text{GlobalWeight}_t $:\n",
    "   - Captures how \"rare\" or \"informative\" the tag $t$ is across all movies. \n",
    "   - Tags that appear in fewer movies have higher weights because they are more distinctive.\n",
    "   - Modeled using:\n",
    "     $$\n",
    "     \\text{GlobalWeight}_t = \\log \\frac{N}{n_t}\n",
    "     $$\n",
    "     Where $N$ is the total number of movies, and $n_t$ is the number of movies containing the tag $t$.\n",
    "\n",
    "\n",
    "\n",
    "### **How to Interpret the Score**\n",
    "1. **High Relevance Score:**\n",
    "   - The movie is strongly associated with its top tags.\n",
    "   - The tags are unique or rare across the dataset, making the movie more distinct.\n",
    "   - Example: A movie with unique tags like \"Mind-Boggling\" or \"Historical\" may have a higher score than one with generic tags like \"Drama\" or \"Comedy.\"\n",
    "\n",
    "2. **Low Relevance Score:**\n",
    "   - The movie is associated with common tags or tags with low relevance.\n",
    "   - The movie might not have a strong identity defined by its tags.\n",
    "   - Example: A movie tagged with common terms like \"Drama\" and \"Action\" might have a lower score than one tagged with niche terms like \"Sci-Fi Thriller.\""
   ]
  },
  {
   "cell_type": "code",
   "execution_count": null,
   "metadata": {},
   "outputs": [],
   "source": [
    "# Flatten the list of all tags for all movies\n",
    "all_tags = [tag for tags in movies_df['top_10_user_defined_tags'] for tag, count in tags]\n",
    "\n",
    "# Count occurrences of each tag\n",
    "tag_counts = Counter(all_tags)\n",
    "\n",
    "# Total number of movies\n",
    "total_movies = len(movies_df)\n",
    "\n",
    "# Compute the global weight for each tag (inverse tag frequency)\n",
    "global_weights = {tag: np.log(total_movies / count) for tag, count in tag_counts.items()}\n",
    "\n",
    "def compute_relevance_score(tags, global_weights):\n",
    "    score = 0\n",
    "    for tag, relevance in tags:\n",
    "        global_weight = global_weights.get(tag, 0)\n",
    "        score += relevance * global_weight\n",
    "    return score\n",
    "\n",
    "# Compute the relevance score for each movie\n",
    "movies_df['relevance_score_for_tags'] = movies_df['top_10_user_defined_tags'].apply(\n",
    "    lambda tags: compute_relevance_score(tags, global_weights)\n",
    ")"
   ]
  },
  {
   "cell_type": "code",
   "execution_count": null,
   "metadata": {},
   "outputs": [],
   "source": [
    "movies_df.head(3)"
   ]
  },
  {
   "cell_type": "markdown",
   "metadata": {},
   "source": [
    "For the fourth feature, we will make use of genome tags and their relavance from the `genome_tags` and `genome_scores` dataset, eventually merging them abck to the original movies dataset"
   ]
  },
  {
   "cell_type": "code",
   "execution_count": null,
   "metadata": {},
   "outputs": [],
   "source": [
    "genome_scores_df.head(3)"
   ]
  },
  {
   "cell_type": "code",
   "execution_count": null,
   "metadata": {},
   "outputs": [],
   "source": [
    "genome_tags_df.head(3)"
   ]
  },
  {
   "cell_type": "markdown",
   "metadata": {},
   "source": [
    "The total number of unique genome_scores_df for each movie ids are 10381 - further reducing the size of the dataset!"
   ]
  },
  {
   "cell_type": "code",
   "execution_count": null,
   "metadata": {},
   "outputs": [],
   "source": [
    "genome_scores_df.movieId.nunique()"
   ]
  },
  {
   "cell_type": "code",
   "execution_count": null,
   "metadata": {},
   "outputs": [],
   "source": [
    "# Sort genome_scores_df by movieId and relevance in descending order\n",
    "sorted_genome_scores_df = genome_scores_df.sort_values(by=['movieId', 'relevance'], ascending=[True, False])\n",
    "\n",
    "# Group by movieId and select the top 10 tags for each movie using groupby().apply()\n",
    "\n",
    "def get_top_tags(group):\n",
    "    return group.head(10)\n",
    "\n",
    "top_10_relevant_tags = sorted_genome_scores_df.groupby('movieId').apply(get_top_tags).reset_index(drop=True)\n",
    "\n",
    "# Merge with genome_tags_df to get the tag names\n",
    "relevant_tags = top_10_relevant_tags.merge(genome_tags_df, on='tagId')"
   ]
  },
  {
   "cell_type": "code",
   "execution_count": null,
   "metadata": {},
   "outputs": [],
   "source": [
    "relevant_tags.head(3)"
   ]
  },
  {
   "cell_type": "code",
   "execution_count": null,
   "metadata": {},
   "outputs": [],
   "source": [
    "# Aggregate tags into a list for each movieId\n",
    "tag_sets = relevant_tags.groupby('movieId').apply(lambda x: list(zip(x['tag'], x['relevance']))).reset_index()\n",
    "tag_sets.columns = ['movieId', 'tag_relevance']\n",
    "# Make movieId the index of the dataframe\n",
    "tag_sets.set_index('movieId', inplace=True)\n",
    "\n",
    "tag_sets.head(3)"
   ]
  },
  {
   "cell_type": "code",
   "execution_count": null,
   "metadata": {},
   "outputs": [],
   "source": [
    "# Merge the movie dataset with the tag_sets to add the 10 most relevant genome tags\n",
    "movies_df = movies_df.merge(tag_sets, on=\"movieId\")\n",
    "movies_df.rename(columns={\"tag_relevance\": \"10_most_relevant_genome_tags\"}, inplace=True)\n",
    "# Display the updated dataframe\n",
    "movies_df.head(3)"
   ]
  },
  {
   "cell_type": "markdown",
   "metadata": {},
   "source": [
    "The `relevance_score_for_genome_tags` for a movie is computed as:\n",
    "\n",
    "$$ \\text{Relevance Score} = \\sum_{t \\in \\text{movie tags}} \\text{Relevance}_t \\cdot \\text{GlobalWeight}_t $$\n",
    "\n",
    "#### Components:\n",
    "\n",
    "1. **Relevance of the Tag** $ \\text{Relevance}_t $:\n",
    "   - Represents how strongly the tag $ t $ is associated with the movie, based on the `relevance` field in the genome dataset. \n",
    "   - Tags with higher relevance contribute more to the score.\n",
    "\n",
    "2. **Global Weight of the Tag** $ \\text{GlobalWeight}_t $:\n",
    "   - Captures how \"rare\" or \"informative\" the tag $t$ is across all movies. \n",
    "   - Tags that appear in fewer movies have higher weights because they are more distinctive.\n",
    "   - Modeled using:\n",
    "     $$\n",
    "     \\text{GlobalWeight}_t = \\log \\frac{N}{n_t}\n",
    "     $$\n",
    "     Where $N$ is the total number of movies, and $n_t$ is the number of movies containing the tag $t$.\n",
    "\n",
    "\n",
    "\n",
    "### **How to Interpret the Score**\n",
    "1. **High Relevance Score:**\n",
    "   - The movie is strongly associated with its top tags.\n",
    "   - The tags are unique or rare across the dataset, making the movie more distinct.\n",
    "   - Example: A movie with unique tags like \"007\" or \"Commander\" may have a higher score than one with generic tags like \"Drama\" or \"Action.\"\n",
    "\n",
    "2. **Low Relevance Score:**\n",
    "   - The movie is associated with common tags or tags with low relevance.\n",
    "   - The movie might not have a strong identity defined by its genome tags.\n",
    "   - Example: A movie tagged with common terms like \"Drama\" and \"Action\" might have a lower score than one tagged with niche terms like \"Sci-Fi Thriller.\""
   ]
  },
  {
   "cell_type": "code",
   "execution_count": null,
   "metadata": {},
   "outputs": [],
   "source": [
    "# Flatten the list of all tags for all movies\n",
    "all_tags = [tag for tags in movies_df['10_most_relevant_genome_tags'] for tag, count in tags]\n",
    "\n",
    "# Count occurrences of each tag\n",
    "tag_counts = Counter(all_tags)\n",
    "\n",
    "# Total number of movies\n",
    "total_movies = len(movies_df)\n",
    "\n",
    "# Compute the global weight for each tag (inverse tag frequency)\n",
    "global_weights = {tag: np.log(total_movies / count) for tag, count in tag_counts.items()}"
   ]
  },
  {
   "cell_type": "code",
   "execution_count": null,
   "metadata": {},
   "outputs": [],
   "source": [
    "def compute_relevance_score(tags, global_weights):\n",
    "    score = 0\n",
    "    for tag, relevance in tags:\n",
    "        global_weight = global_weights.get(tag, 0)\n",
    "        score += relevance * global_weight\n",
    "    return score\n",
    "\n",
    "# Compute the relevance score for each movie\n",
    "movies_df['relevance_score_for_genome_tags'] = movies_df['10_most_relevant_genome_tags'].apply(\n",
    "    lambda tags: compute_relevance_score(tags, global_weights)\n",
    ")"
   ]
  },
  {
   "cell_type": "code",
   "execution_count": null,
   "metadata": {},
   "outputs": [],
   "source": [
    "movies_df.head(3)"
   ]
  },
  {
   "cell_type": "markdown",
   "metadata": {},
   "source": [
    "Now, the task is to make 4 additional features. Namely `rating_counts` depicting the number of ratings given by users for each movie id, `genere_diversity`: depicting number of generes associated to each movie id, and `user_tag_diversity`: depicting range of user-defined tags associated to each movie id."
   ]
  },
  {
   "cell_type": "code",
   "execution_count": null,
   "metadata": {},
   "outputs": [],
   "source": [
    "# Additional features\n",
    "\n",
    "# 6th Rating count\n",
    "rating_count = ratings_df.groupby(\"movieId\")[\"rating\"].count().rename(\"rating_count\")\n",
    "movies_df = movies_df.merge(rating_count, on=\"movieId\")\n",
    "\n",
    "# 7th Genre diversity\n",
    "movies_df[\"genre_diversity\"] = movies_df[list(genre_list)].sum(axis=1)\n",
    "\n",
    "# 8th User-defined Tag diversity\n",
    "user_tag_diversity = tags_df.groupby(\"movieId\")[\"tag\"].nunique().rename(\"tag_diversity\")\n",
    "movies_df = movies_df.merge(user_tag_diversity, on=\"movieId\")\n",
    "\n",
    "movies_df.head(3)"
   ]
  },
  {
   "cell_type": "code",
   "execution_count": null,
   "metadata": {},
   "outputs": [],
   "source": [
    "print(f\"Shape of the dataset: {movies_df.shape}\")\n",
    "print(f\"Missing values: {movies_df.isna().sum()}\")\n",
    "movies_df.info()"
   ]
  },
  {
   "cell_type": "code",
   "execution_count": null,
   "metadata": {},
   "outputs": [],
   "source": [
    "#let's save the dataset\n",
    "movies_df.to_csv(\"movies_data.csv\")\n",
    "\n",
    "movies_df.shape"
   ]
  },
  {
   "cell_type": "markdown",
   "metadata": {},
   "source": [
    "---\n",
    "\n",
    "**Question** : If you have accurately identified and applied the methods for representing the features, you should have more than eight features! How could this happen? Take a moment to think about it.\n",
    "\n",
    "**Answer** : Genre column was made into one hot encoding, making many features!\n",
    "\n",
    "---"
   ]
  },
  {
   "cell_type": "markdown",
   "metadata": {},
   "source": [
    "### 2.2 Choose your features (variables)!\n",
    "\n",
    "With multiple features available for the movies, you need to consider the following two questions: 1. Should you normalize the data or leave it as is? 2. Should you include all these features, or can you reduce the dimensionality of the data?  \n",
    "\n",
    "1. What is the importance of normalizing the data in your analysis, and how does it impact the effectiveness of the clustering algorithms you plan to use?\n",
    "2. If you find that normalizing the values is beneficial, please proceed to normalize the data. To simplify this task, refer to the scikit-learn package for tools and functions that facilitate data normalization.\n",
    "3. Could you provide some insights on dimensionality reduction? What techniques would be effective for reducing the number of features in the dataset, and why might this be beneficial for the analysis?\n",
    "4. If you believe dimensionality reduction would be advantageous, please select a method to reduce the dimensionality of the data."
   ]
  },
  {
   "cell_type": "markdown",
   "metadata": {},
   "source": [
    "---\n",
    "\n",
    "1. Many learning algorithms assume that all features are normalised to some certain range with a certain standard deviation, for example mean of 0 and standard deviation of 1. For example, Principal Component Analysis (PCA) **requires** the variables to be normalized. This is because PCA is sensitive to the variances of the original variables. If the variables are on different scales, those with larger scales will dominate the principal components, which can lead to misleading results.  \n",
    "    \n",
    "    Also, we need normalization for clustering. Normalisation ensures that all features contribute equally to the distance calculations used in clustering algorithms. Without normalization, features with larger scales can dominate the distance metrics, leading to biased clustering results.\n",
    "    \n",
    "    Similarly, K-Means rely on distance metrics (e.g., Euclidean distance) to group similar data points. Normalizing the data ensures that these distance metrics are meaningful and not skewed by features with different scales.\n",
    "\n",
    "2. As outlined above, normalizing the real numbers to a certain is crucial to some learning algorithms. Thus, we will proceed with the `StandardScaler()` function to normalise our data "
   ]
  },
  {
   "cell_type": "code",
   "execution_count": null,
   "metadata": {},
   "outputs": [],
   "source": [
    "movies_df.drop(columns=[\"genres\", \"title\", \"movieId\", \"top_10_user_defined_tags\", \"10_most_relevant_genome_tags\"], inplace=True)\n",
    "\n",
    "# Now, we will normalise the data using StandardScaler from sklearn\n",
    "from sklearn.preprocessing import StandardScaler\n",
    "\n",
    "scaler = StandardScaler()\n",
    "columns_to_scale = ['ratings_avg','relevance_score_for_tags','relevance_score_for_genome_tags','rating_count','genre_diversity','tag_diversity']\n",
    "\n",
    "movies_df[columns_to_scale] = scaler.fit_transform(movies_df[columns_to_scale])\n",
    "\n",
    "movies_df.head(3)"
   ]
  },
  {
   "cell_type": "markdown",
   "metadata": {},
   "source": [
    "---\n",
    "\n",
    "3. Could you provide some insights on dimensionality reduction? What techniques would be effective for reducing the number of features in the dataset, and why might this be beneficial for the analysis?\n",
    "\n",
    "Dimensionality reduction refers to techniques that reduce the number of features in a dataset in such a way that the reduced dataset can still capture the essential information contained in the original dataset. Some techniques that can be used for dimensionality reduction include:\n",
    "\n",
    "- **Principal Component Analysis (PCA)**: PCA is a linear dimensionality reduction technique that aims to find the directions (principal components) along which the variance of the data is maximized. By projecting the data onto a lower-dimensional subspace spanned by the principal components, PCA can reduce the dimensionality of the data while retaining most of the variance.\n",
    "- **Singular Value Decomposition (SVD)**: SVD is a matrix factorization technique that can be used for dimensionality reduction. By decomposing the data matrix into three matrices, SVD can capture the underlying structure of the data and reduce its dimensionality.\n",
    "- **Linear Discriminant Analysis (LDA)**: LDA is a supervised dimensionality reduction technique that aims to find the directions that maximize the separation between different classes in the data. By projecting the data onto the directions that maximize the class separation, LDA can reduce the dimensionality of the data while preserving the class structure.\n",
    "\n",
    "Dimensionality reduction can be beneficial for the analysis for several reasons, for example:\n",
    "- **Reduced computational complexity**: By reducing the number of features in the dataset, dimensionality reduction can lead to faster training and inference times for machine learning models.\n",
    "- **Noise reduction**: Dimensionality reduction can help remove noisy features from the dataset, which can improve the generalization performance of machine learning models.\n",
    "- **Visualization**: Dimensionality reduction techniques such as PCA can be used to visualize high-dimensional data in a lower-dimensional space, making it easier to interpret and analyze the data.\n",
    "\n",
    "4. If you believe dimensionality reduction would be advantageous, please select a method to reduce the dimensionality of the data.\n",
    "\n",
    "We will use PCA for dimensionality reduction! PCA works by transforming the original features into a set of orthogonal components that capture the variance in the data. The key idea behind PCA is to identify the directions (principal components) in the feature space where the data varies the most. These components are ordered in decreasing order of the variance they explain, with the first principal component explaining the most variance. If the reduction in the number of features is significant, we will incorporate the PCA. Else, we will stick with our original dataset.\n",
    "\n",
    "NB: Will will only perform PCA on numeric columns that are not one hot encoded, because PCA assumes that the relationships between features are linear. However, one-hot encoding creates features that are not linearly related"
   ]
  },
  {
   "cell_type": "code",
   "execution_count": null,
   "metadata": {},
   "outputs": [],
   "source": [
    "# data for PCA\n",
    "pca_data = movies_df[columns_to_scale]\n",
    "\n",
    "# Lets perform the PCA\n",
    "\n",
    "from sklearn.decomposition import PCA\n",
    "import matplotlib.pyplot as plt\n",
    "\n",
    "pca = PCA(n_components=len(pca_data.columns))\n",
    "pca.fit(pca_data)\n",
    "\n",
    "# Plotting the explained variance ratio\n",
    "\n",
    "plt.figure(figsize=(10, 6))\n",
    "\n",
    "plt.plot(range(1, len(pca.explained_variance_ratio_) + 1), np.cumsum(pca.explained_variance_ratio_), marker='o', linestyle='--')\n",
    "plt.title(\"Explained Variance Ratio by Components\")\n",
    "plt.xlabel(\"Number of Components\")\n",
    "plt.ylabel(\"Cumulative Explained Variance\")\n",
    "plt.xticks(range(1, len(pca.explained_variance_ratio_) + 1))\n",
    "plt.axhline(0.90, color='red', linestyle='--', label='90 percent Explained Variance')\n",
    "plt.legend()\n",
    "plt.grid()\n",
    "plt.show()"
   ]
  },
  {
   "cell_type": "markdown",
   "metadata": {},
   "source": [
    "Since we need more than 4 components (i.e. 5 components) to capture atleast 90% of the variance in the data, the reduction is not that significant from our original 6 features. However, we will still use the PCA data because of the added benefits of reduced dimensions"
   ]
  },
  {
   "cell_type": "code",
   "execution_count": null,
   "metadata": {},
   "outputs": [],
   "source": [
    "# Now, we will make use of 90% explained variance ratio to reduce the number of components\n",
    "\n",
    "pca = PCA(n_components=0.90)\n",
    "pca.fit(pca_data)\n",
    "\n",
    "pca_data = pca.transform(pca_data)\n",
    "\n",
    "pca_data.shape"
   ]
  },
  {
   "cell_type": "code",
   "execution_count": null,
   "metadata": {},
   "outputs": [],
   "source": [
    "one_hot_cols = [col for col in movies_df.columns if col not in columns_to_scale]\n",
    "\n",
    "# merge the pca_data with the original dataset\n",
    "\n",
    "pca_df = pd.DataFrame(pca_data, columns=[f\"PC{i+1}\" for i in range(pca_data.shape[1])])\n",
    "movies_df = pd.concat([movies_df[one_hot_cols], pca_df], axis=1)\n",
    "movies_df.head(3)"
   ]
  },
  {
   "cell_type": "code",
   "execution_count": null,
   "metadata": {},
   "outputs": [],
   "source": [
    "# scale the data for clustering\n",
    "columns_to_scale = [col for col in movies_df.columns if col.startswith(\"PC\")]\n",
    "scaler = StandardScaler()\n",
    "movies_df[columns_to_scale] = scaler.fit_transform(movies_df[columns_to_scale])\n",
    "\n",
    "movies_df.head(3)\n"
   ]
  },
  {
   "cell_type": "code",
   "execution_count": null,
   "metadata": {},
   "outputs": [],
   "source": [
    "\n",
    "movies_df.dropna(inplace=True)"
   ]
  },
  {
   "cell_type": "markdown",
   "metadata": {},
   "source": [
    "---\n",
    "\n",
    "### 2.3 Clustering.\n",
    "\n",
    "Now that you have prepared the data, you can create the clusters.\n",
    "\n",
    "Q: How can you determine the optimal number of clusters for your data? Please use at least two methods and provide their results.  \n",
    "\n",
    "A: The two most common methods for choosing the number of clusters in a clustering problem are: The elbow method and the silhouette score method.  \n",
    "\n",
    "**Elbow Method**: The elbow method is a heuristic used to determine the optimal number of clusters in a dataset. The method involves plotting the explained variation as a function of the number of clusters, and the \"elbow\" point is the point at which the rate of decrease sharply changes. This method is based on the principle that the optimal number of clusters is the point at which the explained variation begins to decrease at a slower rate. It uses the sum of squared distances between data points and their assigned clusters' centroids. The sum of squared distances is calculated for each number of clusters, and the optimal number of clusters is chosen based on the \"elbow\" point in the plot of the sum of squared distances.\n",
    "\n",
    "To interpret the elbow method, we look for the point where the explained variation begins to decrease at a slower rate, forming an \"elbow\" shape in the plot. This point indicates the optimal number of clusters for the dataset.\n",
    "\n",
    "**Silhouette Score Method**: The silhouette score is a measure of how similar an object is to its cluster compared to other clusters. The silhouette score ranges from -1 to 1, where a high value indicates that the object is well matched to its own cluster and poorly matched to neighboring clusters. The silhouette score is calculated for each number of clusters, and the optimal number of clusters is chosen based on the highest silhouette score."
   ]
  },
  {
   "cell_type": "code",
   "execution_count": null,
   "metadata": {},
   "outputs": [],
   "source": [
    "from sklearn.cluster import KMeans\n",
    "from yellowbrick.cluster import KElbowVisualizer\n",
    "\n",
    "# Instantiate the clustering model and visualizer\n",
    "model = KMeans()\n",
    "visualizer = KElbowVisualizer(model, k=(3,10), timings=False)\n",
    "visualizer.fit(movies_df) # Fit the data to the visualizer\n",
    "visualizer.show() # Finalize and render the figure"
   ]
  },
  {
   "cell_type": "code",
   "execution_count": null,
   "metadata": {},
   "outputs": [],
   "source": [
    "model = KMeans()\n",
    "visualizer = KElbowVisualizer(\n",
    "model, k=(4,10), metric='silhouette', timings=False)\n",
    "visualizer.fit(movies_df) # Fit the data to the visualizer\n",
    "visualizer.show() # Finalize and render the figue"
   ]
  },
  {
   "cell_type": "markdown",
   "metadata": {},
   "source": [
    "Both the elbow and silhouette score suggest that the optimal number of clusters is 5 or 6!\n",
    "\n",
    "---\n",
    "\n",
    "2. Implement the K-means clustering algorithm (not K-means++) through MapReduce. We request that you develop the algorithm from scratch based on what you've learned in class and run the algorithm on your data."
   ]
  },
  {
   "cell_type": "code",
   "execution_count": null,
   "metadata": {},
   "outputs": [],
   "source": [
    "# initialize the SparkContext\n",
    "sc = SparkContext.getOrCreate()\n",
    "\n",
    "# Add an index to the DataFrame (PointID) and convert to RDD\n",
    "data_rdd = sc.parallelize(movies_df.reset_index().values.tolist())"
   ]
  },
  {
   "cell_type": "code",
   "execution_count": null,
   "metadata": {},
   "outputs": [],
   "source": [
    "kmeans = MyKMeans(k=6, num_iterations=10, tolerance=1e-4)\n",
    "# Fit the model\n",
    "cluster_assignments = kmeans.fit(data_rdd)"
   ]
  },
  {
   "cell_type": "code",
   "execution_count": null,
   "metadata": {},
   "outputs": [],
   "source": [
    "cluster_assignments.head(3)"
   ]
  },
  {
   "cell_type": "code",
   "execution_count": null,
   "metadata": {},
   "outputs": [],
   "source": [
    "cluster_assignments.groupby(\"ClusterID\")[\"PointID\"].apply(list)"
   ]
  },
  {
   "cell_type": "markdown",
   "metadata": {},
   "source": [
    "#### In the output above, one can see the cluster assignments for each point in the dataset. The CluserID (as an index in the output) represents the cluster number, and the list represents the points (movies) assigned to that cluster.\n",
    "\n",
    "3. Implement the K-means++ algorithm from scratch and apply it to your data. Do you notice any differences between the results obtained using random initialization and those achieved with K-means++? Please explain your observations and discuss why these differences might occur."
   ]
  },
  {
   "cell_type": "code",
   "execution_count": null,
   "metadata": {},
   "outputs": [],
   "source": [
    "kmeans_plus = KMeansPlusPlus(k=6, num_iterations=10, tolerance=1e-4)\n",
    "\n",
    "# Fit the model\n",
    "cluster_assignments = kmeans_plus.fit(data_rdd)\n",
    "\n",
    "print(cluster_assignments.groupby(\"ClusterID\")[\"PointID\"].apply(list))"
   ]
  },
  {
   "cell_type": "markdown",
   "metadata": {},
   "source": [
    "<strong> We can see that there is a better convergence with Kmeans++ \n",
    "\n",
    "\n",
    "4. Ask an LLM (ChatGPT, Claude Al, Gemini, Perplexity, etc.) to recommend another clustering algorithm. Use that LLM to describe the workings of the algorithm, as well as its advantages and disadvantages compared to K-means and K-means++. Additionally, ask to implement the algorithm for you or utilize an existing version from a package. Apply that algorithm to your data and explain any differences you observe in the results compared to those obtained previously."
   ]
  },
  {
   "cell_type": "code",
   "execution_count": null,
   "metadata": {},
   "outputs": [],
   "source": [
    "from sklearn.cluster import DBSCAN\n",
    "from sklearn.preprocessing import StandardScaler\n",
    "\n",
    "\n",
    "# Perform DBSCAN\n",
    "dbscan = DBSCAN(eps=0.5, min_samples=5)\n",
    "dbscan_labels = dbscan.fit_predict(movies_df)\n",
    "\n",
    "# Analyze results\n",
    "unique_clusters = set(dbscan_labels)\n",
    "print(f\"Number of clusters found: {len(unique_clusters) - (1 if -1 in unique_clusters else 0)}\")\n",
    "print(f\"Number of noise points: {list(dbscan_labels).count(-1)}\")\n",
    "\n",
    "# Compare with K-means cluster assignments\n",
    "comparison_df = pd.DataFrame({\n",
    "    'K-means_Cluster': cluster_assignments['ClusterID'],\n",
    "    'DBSCAN_Cluster': dbscan_labels\n",
    "})\n",
    "print(\"\\nCluster Distribution Comparison:\")\n",
    "print(comparison_df['DBSCAN_Cluster'].value_counts())"
   ]
  },
  {
   "cell_type": "code",
   "execution_count": null,
   "metadata": {},
   "outputs": [],
   "source": [
    "from sklearn.mixture import GaussianMixture\n",
    "\n",
    "\n",
    "# Perform Gaussian Mixture Clustering\n",
    "gmm = GaussianMixture(n_components=6, random_state=42)\n",
    "gmm_labels = gmm.fit_predict(movies_df)\n",
    "\n",
    "# Analyze results\n",
    "cluster_distribution = pd.Series(gmm_labels).value_counts()\n",
    "print(\"Cluster Distribution:\")\n",
    "print(cluster_distribution)\n",
    "\n",
    "# Compare with previous clustering methods\n",
    "comparison_df = pd.DataFrame({\n",
    "    'K-means_Cluster': cluster_assignments['ClusterID'],\n",
    "    'DBSCAN_Cluster': dbscan_labels,\n",
    "    'GMM_Cluster': gmm_labels\n",
    "})\n",
    "\n",
    "print(\"\\nCluster Agreement:\")\n",
    "print(pd.crosstab(comparison_df['K-means_Cluster'], comparison_df['GMM_Cluster']))\n",
    "\n",
    "# Compute BIC and log-likelihood to assess model fit\n",
    "print(\"\\nModel Metrics:\")\n",
    "print(f\"Log-Likelihood: {gmm.score(movies_df)}\")"
   ]
  },
  {
   "cell_type": "markdown",
   "metadata": {},
   "source": [
    "## <strong> 2.4 Best Algorithm\n",
    "\n",
    "Clustering helps identify natural groupings within data, but no single algorithm works best for every dataset. In this section, you’ll learn how to choose the most suitable clustering method based on your data’s unique characteristics. By analyzing patterns and comparing results, you’ll uncover which algorithm provides the most meaningful insights and clusters.\n",
    "\n",
    "2.4.1. Set the number of clusters to the optimal number k based on any of the methods previously."
   ]
  },
  {
   "cell_type": "code",
   "execution_count": null,
   "metadata": {},
   "outputs": [],
   "source": [
    "k = 5 #optimal k"
   ]
  },
  {
   "cell_type": "markdown",
   "metadata": {},
   "source": [
    "2.4.2. Select three distinct metrics to assess the quality of the clusters. Describe each metric in detail, including the specific aspects they evaluate to determine the effectiveness of the clustering model."
   ]
  },
  {
   "cell_type": "markdown",
   "metadata": {},
   "source": [
    "\n",
    "\n",
    "## Clustering metrics we chose\n",
    "\n",
    "### **1. Silhouette Score**\n",
    "\n",
    "The **Silhouette Score** evaluates how well each data point fits within its assigned cluster compared to other clusters. It is defined as:\n",
    "\n",
    "$\n",
    "s(i) = \\frac{b(i) - a(i)}{\\max(a(i), b(i))}\n",
    "$\n",
    "\n",
    "Where:\n",
    "- $ a(i) $: The average distance from point $ i $ to all other points in the same cluster.\n",
    "- $ b(i) $: The average distance from point $ i $ to all points in the nearest cluster (not including its own).\n",
    "\n",
    "The Silhouette Score ranges from $-1$ to $1$:\n",
    "- $ s(i) \\approx 1 $: The point is well-clustered.\n",
    "- $ s(i) \\approx 0 $: The point lies on the boundary between clusters.\n",
    "- $ s(i) \\approx -1 $: The point is likely misclassified.\n",
    "\n",
    "---\n",
    "\n",
    "### **2. Davies-Bouldin Index**\n",
    "\n",
    "The **Davies-Bouldin Index** measures the average similarity ratio of each cluster with its most similar cluster. It is defined as:\n",
    "\n",
    "$\n",
    "DB = \\frac{1}{k} \\sum_{i=1}^{k} \\max_{j \\neq i} \\left( \\frac{\\sigma_i + \\sigma_j}{d(c_i, c_j)} \\right)\n",
    "$\n",
    "\n",
    "Where:\n",
    "- $ k $: The number of clusters.\n",
    "- $ \\sigma_i $: The average distance between points in cluster $ i $ and their cluster centroid.\n",
    "- $ d(c_i, c_j) $: The Euclidean distance between centroids $ c_i $ and $ c_j $.\n",
    "\n",
    "Lower values of $ DB $ indicate better clustering (more compact and well-separated clusters).\n",
    "\n",
    "---\n",
    "\n",
    "### **3. Calinski-Harabasz Index**\n",
    "\n",
    "The **Calinski-Harabasz Index**, also known as the Variance Ratio Criterion, measures the ratio of between-cluster dispersion to within-cluster dispersion. It is defined as:\n",
    "\n",
    "$\n",
    "CH = \\frac{\\text{Tr}(B_k)}{\\text{Tr}(W_k)} \\cdot \\frac{N - k}{k - 1}\n",
    "$\n",
    "\n",
    "Where:\n",
    "- $ N $: The total number of data points.\n",
    "- $ k $: The number of clusters.\n",
    "- $ \\text{Tr}(B_k) $: Trace of the between-cluster dispersion matrix.\n",
    "- $ \\text{Tr}(W_k) $: Trace of the within-cluster dispersion matrix.\n",
    "\n",
    "Higher values of $ CH $ indicate better clustering (higher separation and cohesion).\n",
    "\n",
    "---\n",
    "\n",
    "### Summary Table\n",
    "\n",
    "| Metric                  | Ideal Value    | Interpretation                                          |\n",
    "|-------------------------|----------------|---------------------------------------------------------|\n",
    "| **Silhouette Score**    | Close to $1$ | Well-defined, compact, and separated clusters.         |\n",
    "| **Davies-Bouldin Index**| Close to $0$ | Compact clusters with high separation.                 |\n",
    "| **Calinski-Harabasz**   | Higher values  | Higher separation between clusters and compact within. |\n",
    "\n"
   ]
  },
  {
   "cell_type": "code",
   "execution_count": null,
   "metadata": {},
   "outputs": [],
   "source": [
    "from sklearn.cluster import KMeans, DBSCAN\n",
    "from sklearn.mixture import GaussianMixture\n",
    "from sklearn.metrics import silhouette_score, davies_bouldin_score, calinski_harabasz_score\n",
    "\n",
    "X = movies_df\n",
    "# Initialize clustering algorithms\n",
    "clustering_algorithms = {\n",
    "    \"Gaussian Mixture Model\": GaussianMixture(n_components=k, random_state=42), # <- to change into our kmean\n",
    "    \"KMeans\": KMeans(n_clusters=k, random_state=42),\n",
    "    \"DBSCAN\": DBSCAN(eps=0.5, min_samples=10)\n",
    "}\n",
    "\n",
    "# Dictionary to store results\n",
    "results = {}\n",
    "\n",
    "for name, model in clustering_algorithms.items():\n",
    "    # Fit the model and predict cluster labels\n",
    "    if name == \"DBSCAN\":\n",
    "        labels = model.fit_predict(X)\n",
    "    else:\n",
    "        labels = model.fit(X).predict(X)\n",
    "\n",
    "    # Calculate metrics if clusters are defined (DBSCAN might label noise as -1)\n",
    "    if len(set(labels)) > 1:\n",
    "        silhouette = silhouette_score(X, labels)\n",
    "        davies_bouldin = davies_bouldin_score(X, labels)\n",
    "        calinski_harabasz = calinski_harabasz_score(X, labels)\n",
    "    else:\n",
    "        silhouette = None\n",
    "        davies_bouldin = None\n",
    "        calinski_harabasz = None\n",
    "\n",
    "    # Store results\n",
    "    results[name] = {\n",
    "        \"Silhouette Score\": silhouette,\n",
    "        \"Davies-Bouldin Index\": davies_bouldin,\n",
    "        \"Calinski-Harabasz Index\": calinski_harabasz\n",
    "    }\n"
   ]
  },
  {
   "cell_type": "code",
   "execution_count": null,
   "metadata": {},
   "outputs": [],
   "source": [
    "# Display the evaluation results\n",
    "for algo, metrics in results.items():\n",
    "    print(f\"Results for {algo}:\")\n",
    "    for metric, value in metrics.items():\n",
    "        print(f\"  {metric}: {value if value is not None else 'N/A'}\")\n",
    "    print()\n"
   ]
  },
  {
   "cell_type": "markdown",
   "metadata": {},
   "source": [
    "\n",
    "\n",
    "### **Results Analysis**\n",
    "\n",
    "| Metric                  | GMM                | KMeans             | DBSCAN            | Interpretation                                                                                     |\n",
    "|-------------------------|--------------------|--------------------|-------------------|---------------------------------------------------------------------------------------------------|\n",
    "| **Silhouette Score**    | $0.0726 $      | $0.1915 $       | $-0.1233 $     | Higher is better. KMeans has the best result, indicating better-defined clusters. DBSCAN struggles significantly. |\n",
    "| **Davies-Bouldin Index**| $2.3005 $      | $1.3512 $       | $1.8898 $      | Lower is better. KMeans performs the best, showing compact and well-separated clusters.           |\n",
    "| **Calinski-Harabasz**   | $1063.9338 $   | $1937.7045 $    | $164.3101 $    | Higher is better. KMeans significantly outperforms both GMM and DBSCAN in terms of cluster quality. |\n",
    "\n",
    "---\n",
    "\n",
    "### **Observations**\n",
    "\n",
    "1. **Gaussian Mixture Model (GMM)**:\n",
    "   - The **Silhouette Score** is positive but very low, indicating weak cluster definition.\n",
    "   - The **Davies-Bouldin Index** is relatively high, meaning the clusters are not well-separated.\n",
    "   - The **Calinski-Harabasz Index** is decent but falls short compared to KMeans.\n",
    "   - GMM struggles to form distinct clusters effectively for this dataset.\n",
    "\n",
    "2. **KMeans**:\n",
    "   - The best-performing algorithm across all metrics.\n",
    "   - The **Silhouette Score** is highest, indicating well-separated clusters.\n",
    "   - The **Davies-Bouldin Index** is the lowest, showing compact clusters.\n",
    "   - The **Calinski-Harabasz Index** is the highest, reflecting strong cohesion and separation.\n",
    "   - KMeans is the most suitable algorithm for this dataset.\n",
    "\n",
    "3. **DBSCAN**:\n",
    "   - The **Silhouette Score** is negative, suggesting overlapping clusters or poor clustering.\n",
    "   - The **Davies-Bouldin Index** is better than GMM but worse than KMeans.\n",
    "   - The **Calinski-Harabasz Index** is extremely low, likely due to poor performance in separating clusters or treating many points as noise.\n",
    "   - DBSCAN is unsuitable for this dataset, possibly because the clusters are not well-defined.\n",
    "\n",
    "---\n"
   ]
  },
  {
   "cell_type": "markdown",
   "metadata": {},
   "source": [
    "# 3) \n",
    "## **K-means Clustering: Understanding and Implementation**\n",
    "\n",
    "### **What is K-means Clustering?**\n",
    "\n",
    "K-means is a popular unsupervised machine learning algorithm used for **clustering**. It partitions a dataset into k clusters by iteratively refining the cluster centers (centroids). The goal of the algorithm is to minimize the **intra-cluster distance**, which is the sum of squared distances between each data point and its closest centroid. \n",
    "\n",
    "### **How does K-means work?**\n",
    "1. **Initialization**:\n",
    "   - Select k, the number of clusters with the help of the \"elbow method\".\n",
    "   - Randomly initialize k centroids in the feature space.\n",
    "\n",
    "2. **Assignment**:\n",
    "   - Assign each data point to the nearest centroid based on a distance metric.\n",
    "\n",
    "3. **Update**:\n",
    "   - Compute the new centroids as the mean of all points assigned to each cluster.\n",
    "\n",
    "4. **Repeat**:\n",
    "   - Reassign data points to the nearest centroid and update centroids until convergence or the maximum number of iterations is reached.\n",
    "\n",
    "\n",
    "### **What will we do in this part?**\n",
    "\n",
    "1. **Select Features**: We will choose two features from the movie dataset that can be represented as a 2D plot.\n",
    "2. **Choose K**: Choose k using the \"Elbow Method\" with the help of a graphical representation.\n",
    "3. **K-means Algorithm**: Apply K-means clustering (the one developed in the second question) to the selected features.\n",
    "4. **Visualize Clustering Progress**: Create a 2D plot to track the progression of clusters at each iteration.\n",
    "5. **Final Clusters**: Display the final clusters and centroids after convergence.\n",
    "\n"
   ]
  },
  {
   "cell_type": "markdown",
   "metadata": {},
   "source": [
    "## **Feature Selection**\n",
    "\n",
    "### **Chosen Variables**\n",
    "1. **Average Rating**: This variable represents the average rating given to a movie. It provides insight into how well a movie is received by users.\n",
    "2. **Number of Reviews**: This variable represents the total number of reviews a movie has received. It indicates the popularity or engagement level of a movie.\n",
    "\n",
    "### **Reason for Selection**\n",
    "The two chosen variables were selected because they are:\n",
    "- **Numerical**: Both variables are continuous and suitable for clustering using K-means, which relies on distance metrics.\n",
    "- **Visually Distinctive**: Average ratings and the number of reviews capture different dimensions of user behavior, creating meaningful separations in the data.\n",
    "- **Meaningful Clusters**: Combining popularity (number of reviews) with quality (average rating) is expected to result in clusters that group movies into categories such as \"highly rated and popular\" or \"low-rated and niche.\"\n",
    "\n",
    "By selecting these variables, we aim to create a 2D visualization that effectively demonstrates the progression of clusters across iterations. "
   ]
  },
  {
   "cell_type": "markdown",
   "metadata": {},
   "source": [
    "---"
   ]
  },
  {
   "cell_type": "code",
   "execution_count": null,
   "metadata": {},
   "outputs": [],
   "source": [
    "import pandas as pd\n",
    "import matplotlib.pyplot as plt\n",
    "import numpy as np\n",
    "from matplotlib.animation import FuncAnimation, PillowWriter\n",
    "from sklearn.preprocessing import StandardScaler\n",
    "\n",
    "# Load the data\n",
    "df = pd.read_csv(\"/kaggle/input/movielens-20m-dataset/rating.csv\")\n",
    "\n",
    "# Group by movieId to calculate average rating and number of reviews\n",
    "movie_stats = df.groupby(\"movieId\").agg(\n",
    "    average_rating=(\"rating\", \"mean\"),\n",
    "    num_reviews=(\"rating\", \"count\"),\n",
    ").reset_index()\n",
    "\n",
    "# Rename movieId column for consistency\n",
    "movie_stats.rename(columns={\"movieId\": \"idmovie\"}, inplace=True)\n",
    "\n",
    "# Select features\n",
    "features = [\"average_rating\", \"num_reviews\"]\n",
    "X = movie_stats[features]"
   ]
  },
  {
   "cell_type": "markdown",
   "metadata": {},
   "source": [
    "---"
   ]
  },
  {
   "cell_type": "markdown",
   "metadata": {},
   "source": [
    "### **Why Standardize Variables?**\n",
    "Before applying K-means, it is important to standardize the chosen variables because:\n",
    "- **Different Scales**: The variables (e.g., `Average Rating` ranging from 0 to 5 and `Number of Reviews` ranging from 0 to thousands) have different scales. Without standardization, the variable with the larger range will dominate the clustering process.\n",
    "- **Equal Contribution**: Standardization ensures that both variables contribute equally to the distance metric used by K-means, making the clustering more balanced and accurate.\n",
    "\n",
    "We standardize the variables by transforming them to have a mean of 0 and a standard deviation of 1."
   ]
  },
  {
   "cell_type": "code",
   "execution_count": null,
   "metadata": {},
   "outputs": [],
   "source": [
    "# Standardize the dataset\n",
    "scaler = StandardScaler()\n",
    "X_scaled = scaler.fit_transform(X)"
   ]
  },
  {
   "cell_type": "markdown",
   "metadata": {},
   "source": [
    "## **Elbow Method**\n",
    "\n",
    "### **What is the Elbow Method?**\n",
    "The Elbow Method is a technique used to determine the optimal number of clusters (\\( k \\)) in a dataset. It involves plotting the **distortion (inertia)**, which is the sum of squared distances between points and their closest centroid, for different values of \\( k \\). The goal is to identify the \"elbow point\" in the graph where the distortion starts to decrease more slowly.\n"
   ]
  },
  {
   "cell_type": "code",
   "execution_count": null,
   "metadata": {},
   "outputs": [],
   "source": [
    "# Elbow Method to determine optimal number of clusters\n",
    "distortions = []\n",
    "k_values = range(1, 10)\n",
    "\n",
    "for k in k_values:\n",
    "    np.random.seed(42)\n",
    "    initial_indices = np.random.choice(len(X_scaled), size=k, replace=False)\n",
    "    centroids = X_scaled[initial_indices]\n",
    "    \n",
    "    for _ in range(10):  # 10 iterations for consistency\n",
    "        distances = np.linalg.norm(X_scaled[:, np.newaxis] - centroids, axis=2)\n",
    "        labels = np.argmin(distances, axis=1)\n",
    "        centroids = np.array([X_scaled[labels == i].mean(axis=0) for i in range(k)])\n",
    "    \n",
    "    inertia = np.sum([\n",
    "        np.sum((X_scaled[labels == i] - centroids[i])**2) for i in range(k)\n",
    "    ])\n",
    "    distortions.append(inertia)\n",
    "\n",
    "# Plot the Elbow Method\n",
    "plt.figure(figsize=(8, 5))\n",
    "plt.plot(k_values, distortions, marker=\"o\", linestyle=\"--\", color=\"b\")\n",
    "plt.title(\"Elbow Method\")\n",
    "plt.xlabel(\"Number of Clusters (k)\")\n",
    "plt.ylabel(\"Distortion (Inertia)\")\n",
    "plt.grid(True)\n",
    "plt.show()\n"
   ]
  },
  {
   "cell_type": "markdown",
   "metadata": {},
   "source": [
    "### **Chosen Number of Clusters: k = 3**\n",
    "From the Elbow Method plot:\n",
    "1. The distortion decreases significantly as k increases from 1 to 3.\n",
    "2. Beyond k = 3, the distortion decreases at a much slower rate, indicating that adding more clusters does not provide substantial benefits.\n",
    "\n",
    "By choosing k = 3:\n",
    "- We achieve a balance between simplicity (fewer clusters) and clustering accuracy (lower distortion).\n",
    "- The resulting clusters are expected to group movies effectively based on their average ratings and number of reviews.\n",
    "\n",
    "This choice allows us to create meaningful and interpretable clusters for the dataset."
   ]
  },
  {
   "cell_type": "markdown",
   "metadata": {},
   "source": [
    "## **Applying the Manual K-means Algorithm**\n",
    "\n",
    "In this step, we apply the **K-means algorithm** developed in **Question 2** to the two selected variables:\n",
    "1. **Average Rating**: The average rating of a movie, representing its quality as perceived by users.\n",
    "2. **Number of Reviews**: The total number of reviews a movie has received, representing its popularity.\n",
    "\n",
    "### **Why Use the Manual K-means Algorithm?**\n",
    "The K-means algorithm implemented in Question 2 provides an opportunity to deeply understand the iterative process of clustering by manually controlling:\n",
    "- The **assignment** of data points to clusters.\n",
    "- The **recalculation** of cluster centroids.\n",
    "- The **convergence criteria**, including the tolerance for centroid movement.\n",
    "\n",
    "This approach ensures transparency and flexibility in clustering, making it easier to visualize and interpret how clusters form and evolve.\n",
    "\n",
    "### **Goal**\n",
    "We will:\n",
    "1. Assign each movie (data point) to one of the three clusters identified earlier using the Elbow Method.\n",
    "2. Track the movement of centroids and changes in cluster assignments over iterations.\n",
    "3. Visualize the progression of clusters and the final clustering result.\n",
    "\n",
    "By applying this manual K-means implementation, we aim to highlight the progression of clustering for these two selected features.\n"
   ]
  },
  {
   "cell_type": "code",
   "execution_count": null,
   "metadata": {},
   "outputs": [],
   "source": [
    "# Initialize K-means parameters\n",
    "k = 3  # Number of clusters from the Elbow Method\n",
    "num_iterations = 10\n",
    "tolerance = 1e-4\n",
    "\n",
    "# Randomly initialize centroids\n",
    "np.random.seed(42)\n",
    "initial_indices = np.random.choice(len(X_scaled), size=k, replace=False)\n",
    "centroids = X_scaled[initial_indices]\n",
    "\n",
    "# Helper functions\n",
    "def assign_to_centroid(points, centroids):\n",
    "    distances = np.linalg.norm(points[:, np.newaxis] - centroids, axis=2)\n",
    "    return np.argmin(distances, axis=1)\n",
    "\n",
    "def recompute_centroids(points, labels, k):\n",
    "    return np.array([points[labels == i].mean(axis=0) for i in range(k)])\n",
    "\n",
    "# Manual K-means implementation\n",
    "centroids_history = [centroids]\n",
    "labels_history = []\n",
    "\n",
    "for iteration in range(num_iterations):\n",
    "    # Assign points to the nearest centroid\n",
    "    labels = assign_to_centroid(X_scaled, centroids)\n",
    "    labels_history.append(labels)\n",
    "    \n",
    "    # Recompute centroids\n",
    "    new_centroids = recompute_centroids(X_scaled, labels, k)\n",
    "    centroids_history.append(new_centroids)\n",
    "    \n",
    "    # Check for convergence\n",
    "    centroid_shift = np.linalg.norm(new_centroids - centroids)\n",
    "    print(f\"Iteration {iteration + 1}: Centroid shift = {centroid_shift:.4f}\")\n",
    "    if centroid_shift < tolerance:\n",
    "        print(f\"Converged after {iteration + 1} iterations.\")\n",
    "        break\n",
    "    \n",
    "    centroids = new_centroids"
   ]
  },
  {
   "cell_type": "markdown",
   "metadata": {},
   "source": [
    "## **Visualizing the Clustering Progression**\n",
    "\n",
    "### **Steps for Visualization**\n",
    "To better illustrate the clustering process and highlight the changes across iterations, we use the following approach:\n",
    "\n",
    "1. **Iteration 0 (Unclustered Points)**:\n",
    "   - We begin by displaying the distribution of points before applying any clustering.\n",
    "   - All points are shown in a neutral gray color to indicate the absence of clusters.\n",
    "\n",
    "2. **Animated Iterations**:\n",
    "   - Instead of showing separate static plots for each iteration, we create a slow-paced animation.\n",
    "   - The animation highlights:\n",
    "     - The gradual movement of centroids across iterations.\n",
    "     - The evolving cluster assignments with distinct colors for each cluster.\n",
    "\n",
    "3. **Direct Comparison**:\n",
    "   - After the animation, we provide two side-by-side plots:\n",
    "     - **Iteration 1**: The initial clustering result.\n",
    "     - **Final Iteration**: The final clustering result after convergence.\n",
    "   - This comparison helps visualize the radical differences between the initial and final stages of the algorithm.\n",
    "\n",
    "### **Why This Approach?**\n",
    "This method:\n",
    "- Provides a clear understanding of how the clusters and centroids evolve.\n",
    "- Makes it easier to grasp the iterative nature of K-means.\n",
    "- Offers a visual representation of the improvement in clustering quality from start to finish.\n"
   ]
  },
  {
   "cell_type": "code",
   "execution_count": null,
   "metadata": {},
   "outputs": [],
   "source": [
    "# Visualize Iteration 0\n",
    "plt.figure(figsize=(8, 6))\n",
    "plt.scatter(X_scaled[:, 0], X_scaled[:, 1], color=\"gray\", alpha=0.6, s=50)\n",
    "plt.title(\"Iteration 0: Initial Point Distribution (No Clustering)\")\n",
    "plt.xlabel(\"Standardized Average Rating\")\n",
    "plt.ylabel(\"Standardized Number of Reviews\")\n",
    "plt.show()\n",
    "\n",
    "# Visualize Iteration 1\n",
    "plt.figure(figsize=(8, 6))\n",
    "plt.scatter(X_scaled[:, 0], X_scaled[:, 1], c=labels_history[1], cmap='viridis', s=50, alpha=0.6)\n",
    "plt.scatter(centroids_history[1][:, 0], centroids_history[1][:, 1], c=\"red\", s=200, marker=\"X\", label=\"Centroids\")\n",
    "plt.title(\"Iteration 1: Initial Clustering\")\n",
    "plt.xlabel(\"Standardized Average Rating\")\n",
    "plt.ylabel(\"Standardized Number of Reviews\")\n",
    "plt.legend()\n",
    "plt.show()\n",
    "\n",
    "from matplotlib.animation import FuncAnimation, PillowWriter\n",
    "import matplotlib.pyplot as plt\n",
    "\n",
    "# Ensure centroids_history and labels_history are populated from the K-means function\n",
    "\n",
    "# Initialize the plot for animation\n",
    "fig, ax = plt.subplots(figsize=(8, 6))\n",
    "scatter = ax.scatter(X_scaled[:, 0], X_scaled[:, 1], c=np.zeros(len(X_scaled)), cmap='viridis', s=50)\n",
    "centroids_plot, = ax.plot([], [], 'rX', markersize=10, label='Centroids')\n",
    "ax.set_title(\"Cluster Animation (Manual K-means)\")\n",
    "ax.set_xlabel(\"Standardized Average Rating\")\n",
    "ax.set_ylabel(\"Standardized Number of Reviews\")\n",
    "ax.legend()\n",
    "\n",
    "# Function to update the animation frame by frame\n",
    "def update(frame):\n",
    "    centroids = centroids_history[frame]\n",
    "    labels = labels_history[frame] if frame < len(labels_history) else labels_history[-1]\n",
    "    \n",
    "    # Update scatter plot with the current labels\n",
    "    scatter.set_array(labels)\n",
    "    scatter.set_clim(-1, k - 1)  # Ensure consistent color mapping\n",
    "    \n",
    "    # Update centroids\n",
    "    centroids_plot.set_data(centroids[:, 0], centroids[:, 1])\n",
    "    \n",
    "    ax.set_title(f\"Iteration {frame}: Manual K-means\")\n",
    "    return scatter, centroids_plot\n",
    "\n",
    "# Create the animation\n",
    "anim = FuncAnimation(fig, update, frames=len(centroids_history), interval=1000, blit=False)\n",
    "\n",
    "# Save the animation as a GIF\n",
    "gif_path = \"/kaggle/working/manual_kmeans_animation.gif\"\n",
    "anim.save(gif_path, writer=PillowWriter(fps=1))\n",
    "\n",
    "# Display the animation\n",
    "from IPython.display import Image\n",
    "display(Image(filename=gif_path))\n",
    "\n",
    "# Side-by-side comparison of Iteration 1 and Final Iteration\n",
    "fig, axes = plt.subplots(1, 2, figsize=(16, 6))\n",
    "\n",
    "# Iteration 1\n",
    "axes[0].scatter(X_scaled[:, 0], X_scaled[:, 1], c=labels_history[1], cmap=\"viridis\", s=50, alpha=0.6)\n",
    "axes[0].scatter(centroids_history[1][:, 0], centroids_history[1][:, 1], c=\"red\", s=200, marker=\"X\", label=\"Centroids\")\n",
    "axes[0].set_title(\"Iteration 1: Initial Clustering\")\n",
    "axes[0].set_xlabel(\"Standardized Average Rating\")\n",
    "axes[0].set_ylabel(\"Standardized Number of Reviews\")\n",
    "axes[0].legend()\n",
    "\n",
    "# Final Iteration\n",
    "axes[1].scatter(X_scaled[:, 0], X_scaled[:, 1], c=labels_history[-1], cmap=\"viridis\", s=50, alpha=0.6)\n",
    "axes[1].scatter(centroids_history[-1][:, 0], centroids_history[-1][:, 1], c=\"red\", s=200, marker=\"X\", label=\"Centroids\")\n",
    "axes[1].set_title(\"Final Iteration: Clustered Points\")\n",
    "axes[1].set_xlabel(\"Standardized Average Rating\")\n",
    "axes[1].set_ylabel(\"Standardized Number of Reviews\")\n",
    "axes[1].legend()\n",
    "\n",
    "plt.tight_layout()\n",
    "plt.show()\n"
   ]
  },
  {
   "cell_type": "markdown",
   "metadata": {},
   "source": [
    "## Take a look at **manual_kmeans_animation gif** to see how the clusters change after each iteration"
   ]
  },
  {
   "cell_type": "markdown",
   "metadata": {},
   "source": [
    "# 4. Algorithmic Question\n",
    "\n",
    "Two brilliant strategists, Arya and Mario, are about to play a game with a sequence of numbers. Arya, as player 1, begins the game, while Mario, player 2, plays 2nd. Their goal is clear: to collect the highest possible score by taking numbers from either end of the sequence, one at a time. They will play in perfect synchronicity, each seeking the advantage.\n",
    "\n",
    "The sequence represented as an array of nums, is laid out in front of them. Arya will start by selecting either the number at the beginning (nums[0]) or the end (nums[nums.length - 1]) of the array, adding that value to her score. This value is then removed from the beginning or the end of nums. Then, it’s Mario’s turn to do the same with the remaining sequence. The game proceeds this way, with each player taking numbers from either end until no numbers are left to claim. The player with the highest score wins.\n",
    "\n",
    "However, if they end in a tie, Arya, as the first to act, will claim victory by default.\n",
    "\n",
    "Arya is now before you, asking for help to predict her chances. She wants to know, with her best possible choices, whether she can guarantee a win, assuming both players play with perfect skill.\n",
    "\n",
    "a) Help Arya by providing a pseudocode for finding an optimal playing strategy, that is, a strategy that maximizes her value. (Hint: Use recursion, assuming that both players play optimally).\n",
    "\n",
    "b) Write a Python program implementing her game strategy. Try different array lengths to test the algorithm.\n",
    "\n",
    "c) Is the algorithm efficient? Prove that it is polynomial and provide an asymptotic time complexity bound, or show that it requires exponential time.\n",
    "\n",
    "d) If the algorithm is exponential, explain how to make it polynomial and provide a pseudocode for it. Recompute the computational complexity of the updated algorithm.\n",
    "\n",
    "e) Implement the algorithm in Python. Compare your result values with the previous algorithm. Also compare the running times.\n",
    "\n",
    "f) Finally, consult LLM (ChatGPT, Claude AI, Gemini, Perplexity, etc.) to craft a third, optimized implementation and analyze its time complexity. Also, explain if the LLM is doing a good job and how you can evaluate whether the suggested solution works properly.\n",
    "\n",
    "Examples\n",
    "\n",
    "Input 1\n",
    "\n",
    "nums = [1, 5, 2]\n",
    "Output 1\n",
    "\n",
    "false\n",
    "Explanation: Arya’s optimal choices still lead her to a lower score than Mario’s, so she cannot guarantee victory.\n",
    "\n",
    "Input 2\n",
    "\n",
    "nums = [1, 5, 233, 7]\n",
    "Output 2\n",
    "\n",
    "true\n",
    "Explanation: Arya, by playing perfectly, can ensure she ends up with the highest score."
   ]
  },
  {
   "cell_type": "markdown",
   "metadata": {},
   "source": [
    "## Strategy: <br>\n",
    "Considering that both players play optimally, when we make a choice we should take into consideration the element we leave uncovered after our choice. So basically we should take into account both elements that hide behind the first and the last elements of the array because they could have a bigger effect on the final score.<br>\n",
    "More precisely to choose the move that maximizes the Arya's advantage, in each turn, we should subtract the opponent's best possible play from our choice and maximize the difference."
   ]
  },
  {
   "cell_type": "markdown",
   "metadata": {},
   "source": [
    "## A) Pseudocode for `game(nums)` Algorithm\n",
    "\n",
    "### Main Function: `game(nums)`\n",
    "1. Create a copy of the input list `nums` to avoid modifying the original.\n",
    "   - `nums = nums[:]`\n",
    "\n",
    "2. Define a helper function `maxDiff(left, right)`:\n",
    "   - **Input**: \n",
    "     - `left`: Index of the first number under consideration.\n",
    "     - `right`: Index of the last number under consideration.\n",
    "   - **Base Case**: If `left > right`, return `0` (no numbers left to choose).\n",
    "   - **Recursive Case**:\n",
    "     - `choose_first = nums[left] - maxDiff(left + 1, right)`  \n",
    "       (Choose the first number and subtract opponent's best response).\n",
    "     - `choose_last = nums[right] - maxDiff(left, right - 1)`  \n",
    "       (Choose the last number and subtract opponent's best response).\n",
    "     - Return `max(choose_first, choose_last)`.\n",
    "\n",
    "3. Initialize two lists to track scores:\n",
    "   - `arya_scores = []` (Arya's scores)\n",
    "   - `mario_scores = []` (Mario's scores)\n",
    "\n",
    "4. Set `turn = \"Arya\"` to denote that Arya starts first.\n",
    "\n",
    "5. **While** `nums` is not empty:\n",
    "   - **If** `turn == \"Arya\"`:\n",
    "     - Use `maxDiff(0, len(nums) - 1)` to determine the optimal choice:\n",
    "       - **If** `maxDiff(1, len(nums) - 1) < 0`,  \n",
    "         Arya picks the first number (`nums.pop(0)`).\n",
    "       - **Else**, Arya picks the last number (`nums.pop()`).\n",
    "     - Append Arya's choice to `arya_scores`.\n",
    "     - Set `turn = \"Mario\"`.\n",
    "   - **Else** (Mario's turn):\n",
    "     - Use similar logic to Arya:\n",
    "       - **If** `maxDiff(1, len(nums) - 1) < 0`,  \n",
    "         Mario picks the first number (`nums.pop(0)`).\n",
    "       - **Else**, Mario picks the last number (`nums.pop()`).\n",
    "     - Append Mario's choice to `mario_scores`.\n",
    "     - Set `turn = \"Arya\"`.\n",
    "\n",
    "6. **End While**\n",
    "\n",
    "7. Calculate the total scores:\n",
    "   - `arya_total = sum(arya_scores)`\n",
    "   - `mario_total = sum(mario_scores)`\n",
    "\n",
    "8. **Return** `arya_total >= mario_total` (True if Arya's score is greater than or equal to Mario's score, False otherwise)."
   ]
  },
  {
   "cell_type": "markdown",
   "metadata": {},
   "source": [
    "## B) Python Code"
   ]
  },
  {
   "cell_type": "code",
   "execution_count": null,
   "metadata": {},
   "outputs": [],
   "source": [
    "def game(nums):\n",
    "    # Create a copy of the list to avoid modifying the original\n",
    "    nums = nums[:]\n",
    "    \n",
    "    def maxDiff(left, right): #We define function to assist us with making the best choice between left=nums[0] and right=nums[-1].\n",
    "        # Base case: no numbers left\n",
    "        if left > right:\n",
    "            return 0\n",
    "        \n",
    "        # Two possible moves:\n",
    "        # 1. Take the first number and subtract opponent's best response\n",
    "        choose_first = nums[left] - maxDiff(left + 1, right)\n",
    "        \n",
    "        # 2. Take the last number and subtract opponent's best response\n",
    "        choose_last = nums[right] - maxDiff(left, right - 1)\n",
    "        \n",
    "        # Return the maximum score difference possible\n",
    "        return max(choose_first, choose_last)\n",
    "    \n",
    "    arya_scores = []\n",
    "    mario_scores = []\n",
    "    turn = \"Arya\"  # Arya always starts\n",
    "    \n",
    "    while nums:\n",
    "        if turn == \"Arya\":\n",
    "            # Use maxDiff to determine the optimal choice\n",
    "            if maxDiff(0, len(nums) - 1) >= 0:\n",
    "                # If first number leads to better outcome\n",
    "                if maxDiff(1, len(nums) - 1) < 0:\n",
    "                    arya_scores.append(nums.pop(0))\n",
    "                else:\n",
    "                    arya_scores.append(nums.pop())\n",
    "            else:\n",
    "                # If last number leads to better outcome\n",
    "                arya_scores.append(nums.pop())\n",
    "            turn = \"Mario\"\n",
    "        else:\n",
    "            # Mario's turn (similar logic)\n",
    "            if maxDiff(0, len(nums) - 1) >= 0:\n",
    "                if maxDiff(1, len(nums) - 1) < 0:\n",
    "                    mario_scores.append(nums.pop(0))\n",
    "                else:\n",
    "                    mario_scores.append(nums.pop())\n",
    "            else:\n",
    "                mario_scores.append(nums.pop())\n",
    "            turn = \"Arya\"\n",
    "    \n",
    "    # Compare the total scores\n",
    "    arya_total = sum(arya_scores)\n",
    "    mario_total = sum(mario_scores)\n",
    "    return arya_total >= mario_total"
   ]
  },
  {
   "cell_type": "code",
   "execution_count": null,
   "metadata": {},
   "outputs": [],
   "source": [
    "# Test Cases\n",
    "nums1 = [1, 5, 2]\n",
    "nums2 = [1, 5, 233, 7]\n",
    "nums3 = [8, 15, 3, 7]\n",
    "nums4 = [20, 30, 2, 2, 2, 10]\n",
    "nums5 = [4, 1, 100, 5, 10, 20]\n",
    "nums6 = [5, 8, 2, 10, 25, 1, 7, 12, 3, 9]\n",
    "nums7 = [15, 3, 8, 20, 5, 9, 7, 13, 6, 2, 10, 4, 18]\n",
    "\n",
    "print(\"Input:\", nums1, \"-> Output:\", game(nums1))\n",
    "print(\"Input:\", nums2, \"-> Output:\", game(nums2))\n",
    "print(\"Input:\", nums3, \"-> Output:\", game(nums3))\n",
    "print(\"Input:\", nums4, \"-> Output:\", game(nums4))\n",
    "print(\"Input:\", nums5, \"-> Output:\", game(nums5))\n",
    "print(\"Input:\", nums6, \"-> Output:\", game(nums6))\n",
    "print(\"Input:\", nums7, \"-> Output:\", game(nums7))"
   ]
  },
  {
   "cell_type": "markdown",
   "metadata": {},
   "source": [
    "# C) Time complexity\n",
    "We begin by proving that time complexity of maxDiff function is exponential and then show that the game function has no big impact on the time complexity of the algorithm.\n",
    "\n",
    "## Idea:\n",
    " The maxDiff function operates in a way that can be visualized as a **binary tree**, where each node represents a state of the game, and the two branches correspond to the two possible choices a player can make (choosing the first number or choosing the last number). The height of the tree is n (the size of the list, as one number is removed at each recursive step). While Total number of nodes in the tree is approximately $2^n$, making the time complexity exponential.\n",
    "\n",
    "## Proof:\n",
    "We will prove by induction that the total number of recursive calls made by maxDiff(left, right) for a list of size $n$ is: $T(n)=2^n\n",
    "-1$<br>\n",
    "**Base Case($n=1$)**<br> For $n=1$ we have a single element, thus the total number of calls is: $T(1)=2^1 -1=1$<br>\n",
    "\n",
    "**Induction:** Assume that for a list of size $k$, the total number of recursive calls made is: $T(k)=2^k -1$<br> Let's prove that the result holds for $k+1$: <br>\n",
    "At the top level, maxDiff(left, right) makes two recursive calls:<br>\n",
    " 1)maxDiff(left + 1, right) for a sublist of size $k$.<br>\n",
    " 2)maxDiff(left, right - 1) for another sublist of size $k$.<br>\n",
    "Using the inductive hypothesis, the number of recursive calls for each of these sublists is: $T(k)=2^k -1$<br>\n",
    "The total number of recursive calls for $k+1$ is: $T(k+1)=1+T(k)+T(k)=1+(2^k -1)+(2^k -1)=2^(k+1) -1$.\n",
    "\n",
    "**Conclusion:**<br>\n",
    "By induction, the total number of recursive calls made by maxDiff for a list of size $n$ is $T(n)=2^n -1$. Hence, the time complexity of maxDiff is exponential, $O(2^n)$.<br>\n",
    "\n",
    "**Incorporation into the game function:**<br>\n",
    "-The $while$ loop iterates $n$ times, in each iteration $maxDiff(0, len(nums) - 1)$ is called multiple times.<br>\n",
    "-If maxDiff itself takes $O(2^n)$, and the loop calls it a constant number of times per iteration, the game function ends up performing $O(n 2^n)$ operations.<br>\n",
    "-Since $2^n$ dominates $n$, the overall time complexity of the game function remains exponential: $O(2^n)$.\n",
    "\n",
    "\n",
    "\n",
    "\n"
   ]
  },
  {
   "cell_type": "markdown",
   "metadata": {},
   "source": [
    "# D)Let's make it polynomial.\n",
    "To make the algorithm polynomial in time complexity, we need to eliminate the exponential recursion of the maxDiff function. To do so we can use momoization to store the results of previously computed subproblems.\n"
   ]
  },
  {
   "cell_type": "markdown",
   "metadata": {},
   "source": [
    "## Pseudocode for Memoization Method (Dinamic Programming) in `game(nums)` Algorithm\n",
    "\n",
    "### Main Function: `game(nums)`\n",
    "1. Get length of input list `n ← length(nums)`\n",
    "\n",
    "2. Create memoization table `dp`:\n",
    "  - 2D array of size `n × n`\n",
    "  - Initialized with `None`\n",
    "\n",
    "3. Define helper function `maxDiff(left, right)`:\n",
    "  - **Base Case**: If `left > right`, return `0`\n",
    "  - **Memoization Check**: If `dp[left][right]` is not `None`, return memoized value\n",
    "  - **Recursive Choices**:\n",
    "    - `choose_first ← nums[left] - maxDiff(left + 1, right)`\n",
    "    - `choose_last ← nums[right] - maxDiff(left, right - 1)`\n",
    "  - Memoize result: `dp[left][right] ← max(choose_first, choose_last)`\n",
    "  - Return `dp[left][right]`\n",
    "\n",
    "4. Initialize game variables:\n",
    "  - `arya_scores ← []`\n",
    "  - `mario_scores ← []`\n",
    "  - `turn ← \"Arya\"`\n",
    "  - `left ← 0`\n",
    "  - `right ← n - 1`\n",
    "\n",
    "5. **While** `left ≤ right`:\n",
    "  - **If** `turn == \"Arya\"`:\n",
    "    - **If** `maxDiff(left, right) ≥ 0`:\n",
    "      - **If** `maxDiff(left + 1, right) < 0`:\n",
    "        - Append `nums[left]` to `arya_scores`\n",
    "        - Increment `left`\n",
    "      - **Else**:\n",
    "        - Append `nums[right]` to `arya_scores`\n",
    "        - Decrement `right`\n",
    "    - **Else**:\n",
    "      - Append `nums[right]` to `arya_scores`\n",
    "      - Decrement `right`\n",
    "    - Set `turn ← \"Mario\"`\n",
    "\n",
    "  - **Else** (Mario's turn):\n",
    "    - Use similar logic to Arya's turn\n",
    "    - Set `turn ← \"Arya\"`\n",
    "\n",
    "6. Calculate total scores:\n",
    "  - `arya_total ← sum(arya_scores)`\n",
    "  - `mario_total ← sum(mario_scores)`\n",
    "\n",
    "7. **Return** `arya_total ≥ mario_total`"
   ]
  },
  {
   "cell_type": "markdown",
   "metadata": {},
   "source": [
    "# Time Complexity of the updated version\n",
    "\n",
    "Let's consider the effect that memoization has on $maxDiff$ function.<br>\n",
    "With memoization, the results for each (left, right) pair are stored in a table $dp$ of sixe $n$ x $n$, so each unique subproblem is solved at most once.<br>\n",
    "Since left and right can take $O(n^2)$ unique pairs and each pair is solved in $O(1)$ time, the total complexity of $maxDiff$ now is $O(n^2)$.<br>\n",
    "\n",
    "Consider now the game simulation loop that runs until all numbers in the list are picked.<br>\n",
    "The loop iterates $O(n)$ times (since either left or right is incremented or decremented in each iteration).<br>\n",
    "For each iteration, the optimal move for Arya or Mario is determined by calling maxDiff and comparing the results. Since memoization ensures that these calls are $O(1)$ , the per-iteration cost is $O(1)$.<br>\n",
    "\n",
    "Thus, the time complexity of the simulation loop is $O(n)$.<br>\n",
    "\n",
    "**Conclusion**:<br>\n",
    "\n",
    "1)maxDiff computes all $O(n^2)$ subproblems.<br>\n",
    "2)The game simulation runs in $O(n)$, with constant-time lookups in the memoization table.<br>\n",
    "\n",
    "Combining these, the overall time complexity of the algorithm is $O(n^2)$.\n",
    "\n",
    "\n",
    "\n"
   ]
  },
  {
   "cell_type": "markdown",
   "metadata": {},
   "source": [
    "# E) Python Code."
   ]
  },
  {
   "cell_type": "code",
   "execution_count": null,
   "metadata": {},
   "outputs": [],
   "source": [
    "def game(nums):\n",
    "    n = len(nums)\n",
    "    # Memoization table\n",
    "    dp = [[None] * n for i in range(n)]\n",
    "\n",
    "    def maxDiff(left, right):\n",
    "        # Base case: no numbers left\n",
    "        if left > right:\n",
    "            return 0\n",
    "        \n",
    "        # Check memoized result\n",
    "        if dp[left][right] is not None:\n",
    "            return dp[left][right]\n",
    "        \n",
    "        # Two possible moves\n",
    "        choose_first = nums[left] - maxDiff(left + 1, right)\n",
    "        choose_last = nums[right] - maxDiff(left, right - 1)\n",
    "        \n",
    "        # Memoize and return best choice\n",
    "        dp[left][right] = max(choose_first, choose_last)\n",
    "        return dp[left][right]\n",
    "\n",
    "    # Game simulation\n",
    "    arya_scores = []\n",
    "    mario_scores = []\n",
    "    turn = \"Arya\"\n",
    "    left, right = 0, n - 1\n",
    "\n",
    "    while left <= right:\n",
    "        if turn == \"Arya\":\n",
    "            # Arya's optimal choice logic\n",
    "            if maxDiff(left, right) >= 0:\n",
    "                if maxDiff(left + 1, right) < 0:\n",
    "                    arya_scores.append(nums[left])\n",
    "                    left += 1\n",
    "                else:\n",
    "                    arya_scores.append(nums[right])\n",
    "                    right -= 1\n",
    "            else:\n",
    "                arya_scores.append(nums[right])\n",
    "                right -= 1\n",
    "            turn = \"Mario\"\n",
    "        else:\n",
    "            # Mario's optimal choice logic\n",
    "            if maxDiff(left, right) >= 0:\n",
    "                if maxDiff(left + 1, right) < 0:\n",
    "                    mario_scores.append(nums[left])\n",
    "                    left += 1\n",
    "                else:\n",
    "                    mario_scores.append(nums[right])\n",
    "                    right -= 1\n",
    "            else:\n",
    "                mario_scores.append(nums[right])\n",
    "                right -= 1\n",
    "            turn = \"Arya\"\n",
    "\n",
    "    # Calculate and return result\n",
    "    return sum(arya_scores) >= sum(mario_scores)\n"
   ]
  },
  {
   "cell_type": "code",
   "execution_count": null,
   "metadata": {},
   "outputs": [],
   "source": [
    "# Test Cases\n",
    "nums1 = [1, 5, 2]\n",
    "nums2 = [1, 5, 233, 7]\n",
    "nums3 = [8, 15, 3, 7]\n",
    "nums4 = [20, 30, 2, 2, 2, 10]\n",
    "nums5 = [4, 1, 100, 5, 10, 20]\n",
    "nums6 = [5, 8, 2, 10, 25, 1, 7, 12, 3, 9]\n",
    "nums7 = [15, 3, 8, 20, 5, 9, 7, 13, 6, 2, 10, 4, 18]\n",
    "\n",
    "print(\"Input:\", nums1, \"-> Output:\", game(nums1))\n",
    "print(\"Input:\", nums2, \"-> Output:\", game(nums2))\n",
    "print(\"Input:\", nums3, \"-> Output:\", game(nums3))\n",
    "print(\"Input:\", nums4, \"-> Output:\", game(nums4))\n",
    "print(\"Input:\", nums5, \"-> Output:\", game(nums5))\n",
    "print(\"Input:\", nums6, \"-> Output:\", game(nums6))\n",
    "print(\"Input:\", nums7, \"-> Output:\", game(nums7))"
   ]
  },
  {
   "cell_type": "markdown",
   "metadata": {},
   "source": [
    "# F) Ask LLM and Evaluate"
   ]
  },
  {
   "cell_type": "code",
   "execution_count": null,
   "metadata": {},
   "outputs": [],
   "source": [
    "def game(nums):\n",
    "    n = len(nums)\n",
    "    \n",
    "    # Step 1: Create the DP table\n",
    "    dp = [[0] * n for _ in range(n)]\n",
    "    \n",
    "    # Step 2: Fill the DP table iteratively\n",
    "    for length in range(1, n + 1):  # Length of subarray\n",
    "        for left in range(n - length + 1):\n",
    "            right = left + length - 1\n",
    "            if left == right:  # Single element case\n",
    "                dp[left][right] = nums[left]\n",
    "            else:\n",
    "                dp[left][right] = max(\n",
    "                    nums[left] - dp[left + 1][right],  # Pick left\n",
    "                    nums[right] - dp[left][right - 1]  # Pick right\n",
    "                )\n",
    "    \n",
    "    # Step 3: Initialize pointers and scores\n",
    "    left, right = 0, n - 1\n",
    "    arya_score, mario_score = 0, 0\n",
    "    arya_turn = True  # Boolean flag for turns\n",
    "\n",
    "    # Step 4: Simulate the game using the DP table\n",
    "    while left <= right:\n",
    "        if dp[left][right] >= 0:  # Optimal move favors the current player\n",
    "            if dp[left + 1][right] <= dp[left][right - 1]:\n",
    "                choice = nums[left]\n",
    "                left += 1\n",
    "            else:\n",
    "                choice = nums[right]\n",
    "                right -= 1\n",
    "        else:  # No positive difference, take the worse option\n",
    "            choice = nums[right]\n",
    "            right -= 1\n",
    "\n",
    "        # Add the choice to the current player's score\n",
    "        if arya_turn:\n",
    "            arya_score += choice\n",
    "        else:\n",
    "            mario_score += choice\n",
    "\n",
    "        # Alternate turns\n",
    "        arya_turn = not arya_turn\n",
    "\n",
    "    # Step 5: Return the result\n",
    "    return arya_score >= mario_score\n"
   ]
  },
  {
   "cell_type": "markdown",
   "metadata": {},
   "source": [
    "### Does the LLM do a Good Job?<br>\n",
    "Yes, the LLM offers a solution that is efficient, well-structured, and clearly different from the original implementation. Here's why:<br>\n",
    "\n",
    "-**Optimization:** The suggested solution optimizes the recursive version into a bottom-up dynamic programming approach. This eliminates the overhead of recursive calls and ensures a predictable time complexity of $O(n^2)$.<br>\n",
    "\n",
    "-**Simplicity:** By introducing compact logic for game simulation, the code is easier to follow and debug. For example, the use of a boolean flag (arya_turn) is cleaner and avoids unnecessary string comparisons.<br>\n",
    "\n",
    "-**Space Efficiency:** The solution reduces auxiliary memory usage by directly updating scores without requiring additional lists (arya_scores and mario_scores).\n",
    "Clear Logic for Moves: The code includes a straightforward approach to decide moves using the DP table, ensuring correctness without overcomplicating the decision-making process."
   ]
  }
 ],
 "metadata": {
  "kernelspec": {
   "display_name": "Python 3",
   "language": "python",
   "name": "python3"
  },
  "language_info": {
   "codemirror_mode": {
    "name": "ipython",
    "version": 3
   },
   "file_extension": ".py",
   "mimetype": "text/x-python",
   "name": "python",
   "nbconvert_exporter": "python",
   "pygments_lexer": "ipython3",
   "version": "3.13.0"
  }
 },
 "nbformat": 4,
 "nbformat_minor": 2
}
